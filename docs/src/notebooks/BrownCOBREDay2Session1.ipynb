{
 "cells": [
  {
   "cell_type": "markdown",
   "metadata": {},
   "source": [
    "# Period 1 -  Standard analyses for RNA seq data (unsupervised)\n",
    "\n",
    "\n",
    "# Abstract\n",
    "\n",
    "This workshop summarizes the main approaches to analyzing sequencing data to obtain per-gene count data, but does not go through how to do it explicitly. It demonstrates approaches to reading, annotating, and summarizing count data using [tximport](http://bioconductor.org/packages/) and various Bioconductor annotation resources, followed by unsupervised exploratory data analysis. It introduces the (Ranged)SummarizedExperiment data class,  variance-stabilizing transformations, and the use of distances to visualize transcriptome shifts through methods such as Principal Components Analysis and Multidimensional Scaling.\n",
    "\n",
    "This workshop uses quotes and materials from [RNA-seq workflow: gene-level exploratory analysis and differential expression](https://www.bioconductor.org/help/workflows/rnaseqGene/) by Love, Anders, Kim, and Huber.\n",
    "\n",
    "#  Approaches to processing raw data: alignment vs. alignment-free methods\n",
    "\n",
    "The computational analysis of an RNA-seq experiment begins from the FASTQ files that contain the nucleotide sequence of each read and a quality score at each position. These reads are either **aligned** to a reference genome or transcriptome, or the abundances and estimated counts per transcript can be estimated **without alignment**. For a paired-end experiment, the software will require both FASTQ files. The output of this alignment step is commonly stored in a file format called SAM/BAM.\n",
    "\n",
    "RNA-seq aligners differ from DNA aligners in their ability to recognize intron-sized gaps that are spliced from transcripts, and their objective of counting transcripts. [Baruzzo et al. 2017](https://www.nature.com/articles/nmeth.4106) provide a useful summary of software for aligning RNA-seq reads to a reference genome, and benchmark these using synthetic data for base-level and splice junction precision and recall, sensitivity to tuning parameters, and runtime performance. Some popular alignment-based tools include STAR, TopHat2, Subread, and Novoalign. *de novo* alignment does not use a reference genome: while it offers the possibility of discovering novel transcripts in rearranged genomes and genomes without good references, it requires more resources and manual effort and is less accurate for known transcripts, so for most people working with model organisms it is probably not a good option. \n",
    "\n",
    "Alignment-free tools have gained popularity for their fast performance and low memory requirements while maintaining good accuracy.  Instead of directly aligning RNA-seq reads to a reference genome, they perform \"pseudo-alignment\" by assigning reads to transcripts that contain compatible k-mers. The most popular of these tools are [Salmon](https://combine-lab.github.io) and [Kallisto](https://pachterlab.github.io/kallisto/). These generate a table of read counts directly without the need for a SAM/BAM file as a starting or intermediate step. \n",
    "\n",
    "You can easily perform RNA-seq alignment in R using [Rsubread](http://bioconductor.org/packages/Rsubread) and [GenomicAlignments](http://bioconductor.org/packages/GenomicAlignments), but the rest of this workshop assumes you are starting with the output of some sequence analysis pipeline.\n",
    "\n",
    "Personally, I would recommend using pseudo-alignment by Salmon [according to this tutorial](https://combine-lab.github.io/salmon/getting_started/) to process raw reads to Transcripts per Million (TPM). \n",
    "It is a very fast, accurate, well-tested, and well-documented command-line tool. It is\n",
    "especially Bioconductor-friendly, because the \n",
    "[tximport vignette](https://bioconductor.org/packages/release/bioc/vignettes/tximport/inst/doc/tximport.html) \n",
    "includes steps to import Salmon results as a *DESeqDataSet* object for use in the [DESeq2](http://bioconductor.org/packages/DESeq2) package.\n",
    "\n",
    "#  Annotating and importing expression counts\n",
    "\n",
    "## Measures of transcript abundance\n",
    "\n",
    "The differential expression analyses introduced here assume you are analyzing a count table of Transcripts Per Million (TPM) or Counts Per Million (CPM) by samples. Note that while TPM and CPM would order the abundance of different transcripts very differently, for differential expression these differences are not as important. You should **not** use Fragments Per Kilobase per Million reads (FPKM) or otherwise normalize by library size / read depth. The negative binomial log-linear statistical model used by [DESeq2](http://bioconductor.org/packages/DESeq2) and [edgeR](http://bioconductor.org/packages/) are intended for use on count data, and achieve better performance than can be achieved with read depth-normalized data. \n",
    "\n",
    "## Importing with tximport\n",
    "\n",
    "The [tximport vignette](https://bioconductor.org/packages/release/bioc/vignettes/tximport/inst/doc/tximport.html) demonstrates \n",
    "the import of quantification files generated by the Salmon software, but also provides example data and methods of import for other popular RNA-seq quantification software:"
   ]
  },
  {
   "cell_type": "code",
   "execution_count": 1,
   "metadata": {},
   "outputs": [
    {
     "data": {
      "text/html": [
       "<ol class=list-inline>\n",
       "\t<li>'cufflinks'</li>\n",
       "\t<li>'kallisto'</li>\n",
       "\t<li>'kallisto_boot'</li>\n",
       "\t<li>'rsem'</li>\n",
       "\t<li>'sailfish'</li>\n",
       "\t<li>'salmon'</li>\n",
       "\t<li>'salmon_gibbs'</li>\n",
       "\t<li>'samples_extended.txt'</li>\n",
       "\t<li>'samples.txt'</li>\n",
       "\t<li>'tx2gene.csv'</li>\n",
       "</ol>\n"
      ],
      "text/latex": [
       "\\begin{enumerate*}\n",
       "\\item 'cufflinks'\n",
       "\\item 'kallisto'\n",
       "\\item 'kallisto\\_boot'\n",
       "\\item 'rsem'\n",
       "\\item 'sailfish'\n",
       "\\item 'salmon'\n",
       "\\item 'salmon\\_gibbs'\n",
       "\\item 'samples\\_extended.txt'\n",
       "\\item 'samples.txt'\n",
       "\\item 'tx2gene.csv'\n",
       "\\end{enumerate*}\n"
      ],
      "text/markdown": [
       "1. 'cufflinks'\n",
       "2. 'kallisto'\n",
       "3. 'kallisto_boot'\n",
       "4. 'rsem'\n",
       "5. 'sailfish'\n",
       "6. 'salmon'\n",
       "7. 'salmon_gibbs'\n",
       "8. 'samples_extended.txt'\n",
       "9. 'samples.txt'\n",
       "10. 'tx2gene.csv'\n",
       "\n",
       "\n"
      ],
      "text/plain": [
       " [1] \"cufflinks\"            \"kallisto\"             \"kallisto_boot\"       \n",
       " [4] \"rsem\"                 \"sailfish\"             \"salmon\"              \n",
       " [7] \"salmon_gibbs\"         \"samples_extended.txt\" \"samples.txt\"         \n",
       "[10] \"tx2gene.csv\"         "
      ]
     },
     "metadata": {},
     "output_type": "display_data"
    }
   ],
   "source": [
    "library(tximportData)\n",
    "datadir <- system.file(\"extdata\", package = \"tximportData\")\n",
    "list.files(datadir)"
   ]
  },
  {
   "cell_type": "markdown",
   "metadata": {},
   "source": [
    "Next, we create a named vector pointing to the quantification\n",
    "files. We will create a vector of filenames first by reading in a\n",
    "table that contains the sample IDs, and then combining this with `dir`\n",
    "and `\"quant.sf\"`."
   ]
  },
  {
   "cell_type": "code",
   "execution_count": 2,
   "metadata": {},
   "outputs": [
    {
     "data": {
      "text/html": [
       "<table>\n",
       "<thead><tr><th scope=col>pop</th><th scope=col>center</th><th scope=col>assay</th><th scope=col>sample</th><th scope=col>experiment</th><th scope=col>run</th></tr></thead>\n",
       "<tbody>\n",
       "\t<tr><td>TSI                 </td><td>UNIGE               </td><td>NA20503.1.M_111124_5</td><td>ERS185497           </td><td>ERX163094           </td><td>ERR188297           </td></tr>\n",
       "\t<tr><td>TSI                 </td><td>UNIGE               </td><td>NA20504.1.M_111124_7</td><td>ERS185242           </td><td>ERX162972           </td><td>ERR188088           </td></tr>\n",
       "\t<tr><td>TSI                 </td><td>UNIGE               </td><td>NA20505.1.M_111124_6</td><td>ERS185048           </td><td>ERX163009           </td><td>ERR188329           </td></tr>\n",
       "\t<tr><td>TSI                 </td><td>UNIGE               </td><td>NA20507.1.M_111124_7</td><td>ERS185412           </td><td>ERX163158           </td><td>ERR188288           </td></tr>\n",
       "\t<tr><td>TSI                 </td><td>UNIGE               </td><td>NA20508.1.M_111124_2</td><td>ERS185362           </td><td>ERX163159           </td><td>ERR188021           </td></tr>\n",
       "\t<tr><td>TSI                 </td><td>UNIGE               </td><td>NA20514.1.M_111124_4</td><td>ERS185217           </td><td>ERX163062           </td><td>ERR188356           </td></tr>\n",
       "</tbody>\n",
       "</table>\n"
      ],
      "text/latex": [
       "\\begin{tabular}{r|llllll}\n",
       " pop & center & assay & sample & experiment & run\\\\\n",
       "\\hline\n",
       "\t TSI                      & UNIGE                    & NA20503.1.M\\_111124\\_5 & ERS185497                & ERX163094                & ERR188297               \\\\\n",
       "\t TSI                      & UNIGE                    & NA20504.1.M\\_111124\\_7 & ERS185242                & ERX162972                & ERR188088               \\\\\n",
       "\t TSI                      & UNIGE                    & NA20505.1.M\\_111124\\_6 & ERS185048                & ERX163009                & ERR188329               \\\\\n",
       "\t TSI                      & UNIGE                    & NA20507.1.M\\_111124\\_7 & ERS185412                & ERX163158                & ERR188288               \\\\\n",
       "\t TSI                      & UNIGE                    & NA20508.1.M\\_111124\\_2 & ERS185362                & ERX163159                & ERR188021               \\\\\n",
       "\t TSI                      & UNIGE                    & NA20514.1.M\\_111124\\_4 & ERS185217                & ERX163062                & ERR188356               \\\\\n",
       "\\end{tabular}\n"
      ],
      "text/markdown": [
       "\n",
       "pop | center | assay | sample | experiment | run | \n",
       "|---|---|---|---|---|---|\n",
       "| TSI                  | UNIGE                | NA20503.1.M_111124_5 | ERS185497            | ERX163094            | ERR188297            | \n",
       "| TSI                  | UNIGE                | NA20504.1.M_111124_7 | ERS185242            | ERX162972            | ERR188088            | \n",
       "| TSI                  | UNIGE                | NA20505.1.M_111124_6 | ERS185048            | ERX163009            | ERR188329            | \n",
       "| TSI                  | UNIGE                | NA20507.1.M_111124_7 | ERS185412            | ERX163158            | ERR188288            | \n",
       "| TSI                  | UNIGE                | NA20508.1.M_111124_2 | ERS185362            | ERX163159            | ERR188021            | \n",
       "| TSI                  | UNIGE                | NA20514.1.M_111124_4 | ERS185217            | ERX163062            | ERR188356            | \n",
       "\n",
       "\n"
      ],
      "text/plain": [
       "  pop center assay                sample    experiment run      \n",
       "1 TSI UNIGE  NA20503.1.M_111124_5 ERS185497 ERX163094  ERR188297\n",
       "2 TSI UNIGE  NA20504.1.M_111124_7 ERS185242 ERX162972  ERR188088\n",
       "3 TSI UNIGE  NA20505.1.M_111124_6 ERS185048 ERX163009  ERR188329\n",
       "4 TSI UNIGE  NA20507.1.M_111124_7 ERS185412 ERX163158  ERR188288\n",
       "5 TSI UNIGE  NA20508.1.M_111124_2 ERS185362 ERX163159  ERR188021\n",
       "6 TSI UNIGE  NA20514.1.M_111124_4 ERS185217 ERX163062  ERR188356"
      ]
     },
     "metadata": {},
     "output_type": "display_data"
    }
   ],
   "source": [
    "samples <- read.table(file.path(datadir, \"samples.txt\"), header=TRUE)\n",
    "samples"
   ]
  },
  {
   "cell_type": "code",
   "execution_count": 3,
   "metadata": {},
   "outputs": [
    {
     "data": {
      "text/html": [
       "TRUE"
      ],
      "text/latex": [
       "TRUE"
      ],
      "text/markdown": [
       "TRUE"
      ],
      "text/plain": [
       "[1] TRUE"
      ]
     },
     "metadata": {},
     "output_type": "display_data"
    }
   ],
   "source": [
    "files <- file.path(datadir, \"salmon\", samples$run, \"quant.sf\")\n",
    "names(files) <- paste0(\"sample\",1:6)\n",
    "all(file.exists(files))"
   ]
  },
  {
   "cell_type": "markdown",
   "metadata": {},
   "source": [
    "The *tximport* package has a single function for importing\n",
    "transcript-level estimates.  The `type` argument is used to specify\n",
    "what software was used for estimation (\"kallisto\", \"salmon\",\n",
    "\"sailfish\", and \"rsem\" are implemented).  A simple list with\n",
    "matrices, \"abundance\", \"counts\", and \"length\", is returned, where the\n",
    "transcript level information is summarized to the gene-level.  The\n",
    "\"length\" matrix can be used to generate an offset matrix for\n",
    "downstream gene-level differential analysis of count matrices, as\n",
    "shown below.\n",
    "\n",
    "**Note**: While *tximport* works without any dependencies, it is\n",
    "significantly faster to read in files using the *readr* package.  If\n",
    "*tximport* detects that *readr* is installed, then it will use the\n",
    "`readr::read_tsv` function by default. A change from version 1.2 to\n",
    "1.4 is that the reader is not specified by the user anymore, but\n",
    "chosen automatically based on the availability of the *readr*\n",
    "package. Advanced users can still customize the import of files using\n",
    "the `importer` argument.\n",
    "\n",
    "The following imports transcript-level counts *without* summarizing to gene level:"
   ]
  },
  {
   "cell_type": "code",
   "execution_count": 4,
   "metadata": {},
   "outputs": [
    {
     "name": "stderr",
     "output_type": "stream",
     "text": [
      "reading in files with read_tsv\n",
      "1 2 3 4 5 6 \n"
     ]
    },
    {
     "data": {
      "text/html": [
       "<ol class=list-inline>\n",
       "\t<li>'abundance'</li>\n",
       "\t<li>'counts'</li>\n",
       "\t<li>'length'</li>\n",
       "\t<li>'countsFromAbundance'</li>\n",
       "</ol>\n"
      ],
      "text/latex": [
       "\\begin{enumerate*}\n",
       "\\item 'abundance'\n",
       "\\item 'counts'\n",
       "\\item 'length'\n",
       "\\item 'countsFromAbundance'\n",
       "\\end{enumerate*}\n"
      ],
      "text/markdown": [
       "1. 'abundance'\n",
       "2. 'counts'\n",
       "3. 'length'\n",
       "4. 'countsFromAbundance'\n",
       "\n",
       "\n"
      ],
      "text/plain": [
       "[1] \"abundance\"           \"counts\"              \"length\"             \n",
       "[4] \"countsFromAbundance\""
      ]
     },
     "metadata": {},
     "output_type": "display_data"
    },
    {
     "data": {
      "text/html": [
       "<table>\n",
       "<thead><tr><th></th><th scope=col>sample1</th><th scope=col>sample2</th><th scope=col>sample3</th><th scope=col>sample4</th><th scope=col>sample5</th><th scope=col>sample6</th></tr></thead>\n",
       "<tbody>\n",
       "\t<tr><th scope=row>NR_001526</th><td>0.00000e+00</td><td>0.00000e+00</td><td>0.00000e+00</td><td>0.00000e+00</td><td>0.00000e+00</td><td>0.00000e+00</td></tr>\n",
       "\t<tr><th scope=row>NR_001526_1</th><td>0.00000e+00</td><td>0.00000e+00</td><td>0.00000e+00</td><td>0.00000e+00</td><td>0.00000e+00</td><td>0.00000e+00</td></tr>\n",
       "\t<tr><th scope=row>NR_001526_2</th><td>0.00000e+00</td><td>0.00000e+00</td><td>0.00000e+00</td><td>0.00000e+00</td><td>0.00000e+00</td><td>0.00000e+00</td></tr>\n",
       "\t<tr><th scope=row>NM_130786</th><td>1.09232e+02</td><td>3.16224e+02</td><td>1.10638e+02</td><td>1.16000e+02</td><td>8.63843e+01</td><td>7.69163e+01</td></tr>\n",
       "\t<tr><th scope=row>NR_015380</th><td>8.39697e+01</td><td>1.38449e+02</td><td>1.19274e+02</td><td>1.51083e+02</td><td>1.23985e+02</td><td>1.03251e+02</td></tr>\n",
       "\t<tr><th scope=row>NM_001198818</th><td>1.88414e-04</td><td>3.16805e-05</td><td>4.28546e-05</td><td>1.60980e-06</td><td>3.71142e-04</td><td>3.10031e-08</td></tr>\n",
       "</tbody>\n",
       "</table>\n"
      ],
      "text/latex": [
       "\\begin{tabular}{r|llllll}\n",
       "  & sample1 & sample2 & sample3 & sample4 & sample5 & sample6\\\\\n",
       "\\hline\n",
       "\tNR\\_001526 & 0.00000e+00 & 0.00000e+00 & 0.00000e+00 & 0.00000e+00 & 0.00000e+00 & 0.00000e+00\\\\\n",
       "\tNR\\_001526\\_1 & 0.00000e+00 & 0.00000e+00 & 0.00000e+00 & 0.00000e+00 & 0.00000e+00 & 0.00000e+00\\\\\n",
       "\tNR\\_001526\\_2 & 0.00000e+00 & 0.00000e+00 & 0.00000e+00 & 0.00000e+00 & 0.00000e+00 & 0.00000e+00\\\\\n",
       "\tNM\\_130786 & 1.09232e+02 & 3.16224e+02 & 1.10638e+02 & 1.16000e+02 & 8.63843e+01 & 7.69163e+01\\\\\n",
       "\tNR\\_015380 & 8.39697e+01 & 1.38449e+02 & 1.19274e+02 & 1.51083e+02 & 1.23985e+02 & 1.03251e+02\\\\\n",
       "\tNM\\_001198818 & 1.88414e-04 & 3.16805e-05 & 4.28546e-05 & 1.60980e-06 & 3.71142e-04 & 3.10031e-08\\\\\n",
       "\\end{tabular}\n"
      ],
      "text/markdown": [
       "\n",
       "| <!--/--> | sample1 | sample2 | sample3 | sample4 | sample5 | sample6 | \n",
       "|---|---|---|---|---|---|\n",
       "| NR_001526 | 0.00000e+00 | 0.00000e+00 | 0.00000e+00 | 0.00000e+00 | 0.00000e+00 | 0.00000e+00 | \n",
       "| NR_001526_1 | 0.00000e+00 | 0.00000e+00 | 0.00000e+00 | 0.00000e+00 | 0.00000e+00 | 0.00000e+00 | \n",
       "| NR_001526_2 | 0.00000e+00 | 0.00000e+00 | 0.00000e+00 | 0.00000e+00 | 0.00000e+00 | 0.00000e+00 | \n",
       "| NM_130786 | 1.09232e+02 | 3.16224e+02 | 1.10638e+02 | 1.16000e+02 | 8.63843e+01 | 7.69163e+01 | \n",
       "| NR_015380 | 8.39697e+01 | 1.38449e+02 | 1.19274e+02 | 1.51083e+02 | 1.23985e+02 | 1.03251e+02 | \n",
       "| NM_001198818 | 1.88414e-04 | 3.16805e-05 | 4.28546e-05 | 1.60980e-06 | 3.71142e-04 | 3.10031e-08 | \n",
       "\n",
       "\n"
      ],
      "text/plain": [
       "             sample1     sample2     sample3     sample4     sample5    \n",
       "NR_001526    0.00000e+00 0.00000e+00 0.00000e+00 0.00000e+00 0.00000e+00\n",
       "NR_001526_1  0.00000e+00 0.00000e+00 0.00000e+00 0.00000e+00 0.00000e+00\n",
       "NR_001526_2  0.00000e+00 0.00000e+00 0.00000e+00 0.00000e+00 0.00000e+00\n",
       "NM_130786    1.09232e+02 3.16224e+02 1.10638e+02 1.16000e+02 8.63843e+01\n",
       "NR_015380    8.39697e+01 1.38449e+02 1.19274e+02 1.51083e+02 1.23985e+02\n",
       "NM_001198818 1.88414e-04 3.16805e-05 4.28546e-05 1.60980e-06 3.71142e-04\n",
       "             sample6    \n",
       "NR_001526    0.00000e+00\n",
       "NR_001526_1  0.00000e+00\n",
       "NR_001526_2  0.00000e+00\n",
       "NM_130786    7.69163e+01\n",
       "NR_015380    1.03251e+02\n",
       "NM_001198818 3.10031e-08"
      ]
     },
     "metadata": {},
     "output_type": "display_data"
    }
   ],
   "source": [
    "library(tximport)\n",
    "library(readr)\n",
    "txi <- tximport(files, type=\"salmon\", txOut=TRUE)\n",
    "##txi <- tximport(files, type=\"salmon\", tx2gene=tx2gene)\n",
    "names(txi)\n",
    "head(txi$counts)"
   ]
  },
  {
   "cell_type": "markdown",
   "metadata": {},
   "source": [
    "## Annotating and summarizing transcripts by gene\n",
    "\n",
    "If your (pseudo-) alignment software provides a map between transcripts and genes, you can specify that map in `tximport` to summarize  counts at the gene level in the same step (see the `tx2gene` argument of `?tximport::tximport`). For this example, such a map is included in the `tximportData` package and is available via:"
   ]
  },
  {
   "cell_type": "code",
   "execution_count": 5,
   "metadata": {},
   "outputs": [],
   "source": [
    "tx2gene <- read.csv(file.path(datadir, \"tx2gene.csv\"))"
   ]
  },
  {
   "cell_type": "markdown",
   "metadata": {},
   "source": [
    "\"In real life\" you have a number of options, using either built-in Bioconductor annotations resources or other sources of annotations such as *biomaRt* or files distributed with read mapping software. Below is the option given in the `tximportData` package; three more are given in the [Appendix](#appendix).\n",
    "\n",
    "If you have used an *Ensembl* transcriptome for (pseudo-)alignment, you can use one of the\n",
    "[ensembldb](http://bioconductor.org/packages/ensembldb) packages to create the transcript-to-gene map. \n",
    "\n",
    "You *can* use the following shortcut with `ensembldb` packages:"
   ]
  },
  {
   "cell_type": "code",
   "execution_count": 6,
   "metadata": {},
   "outputs": [
    {
     "data": {
      "text/html": [
       "<ol class=list-inline>\n",
       "\t<li>'seq_name'</li>\n",
       "\t<li>'seq_length'</li>\n",
       "\t<li>'is_circular'</li>\n",
       "\t<li>'gene_id'</li>\n",
       "\t<li>'entrezid'</li>\n",
       "\t<li>'exon_id'</li>\n",
       "\t<li>'exon_seq_start'</li>\n",
       "\t<li>'exon_seq_end'</li>\n",
       "\t<li>'gene_name'</li>\n",
       "\t<li>'gene_biotype'</li>\n",
       "\t<li>'gene_seq_start'</li>\n",
       "\t<li>'gene_seq_end'</li>\n",
       "\t<li>'seq_strand'</li>\n",
       "\t<li>'seq_coord_system'</li>\n",
       "\t<li>'symbol'</li>\n",
       "\t<li>'name'</li>\n",
       "\t<li>'value'</li>\n",
       "\t<li>'tx_id'</li>\n",
       "\t<li>'protein_id'</li>\n",
       "\t<li>'protein_sequence'</li>\n",
       "\t<li>'protein_domain_id'</li>\n",
       "\t<li>'protein_domain_source'</li>\n",
       "\t<li>'interpro_accession'</li>\n",
       "\t<li>'prot_dom_start'</li>\n",
       "\t<li>'prot_dom_end'</li>\n",
       "\t<li>'tx_biotype'</li>\n",
       "\t<li>'tx_seq_start'</li>\n",
       "\t<li>'tx_seq_end'</li>\n",
       "\t<li>'tx_cds_seq_start'</li>\n",
       "\t<li>'tx_cds_seq_end'</li>\n",
       "\t<li>'tx_name'</li>\n",
       "\t<li>'exon_idx'</li>\n",
       "\t<li>'uniprot_id'</li>\n",
       "\t<li>'uniprot_db'</li>\n",
       "\t<li>'uniprot_mapping_type'</li>\n",
       "</ol>\n"
      ],
      "text/latex": [
       "\\begin{enumerate*}\n",
       "\\item 'seq\\_name'\n",
       "\\item 'seq\\_length'\n",
       "\\item 'is\\_circular'\n",
       "\\item 'gene\\_id'\n",
       "\\item 'entrezid'\n",
       "\\item 'exon\\_id'\n",
       "\\item 'exon\\_seq\\_start'\n",
       "\\item 'exon\\_seq\\_end'\n",
       "\\item 'gene\\_name'\n",
       "\\item 'gene\\_biotype'\n",
       "\\item 'gene\\_seq\\_start'\n",
       "\\item 'gene\\_seq\\_end'\n",
       "\\item 'seq\\_strand'\n",
       "\\item 'seq\\_coord\\_system'\n",
       "\\item 'symbol'\n",
       "\\item 'name'\n",
       "\\item 'value'\n",
       "\\item 'tx\\_id'\n",
       "\\item 'protein\\_id'\n",
       "\\item 'protein\\_sequence'\n",
       "\\item 'protein\\_domain\\_id'\n",
       "\\item 'protein\\_domain\\_source'\n",
       "\\item 'interpro\\_accession'\n",
       "\\item 'prot\\_dom\\_start'\n",
       "\\item 'prot\\_dom\\_end'\n",
       "\\item 'tx\\_biotype'\n",
       "\\item 'tx\\_seq\\_start'\n",
       "\\item 'tx\\_seq\\_end'\n",
       "\\item 'tx\\_cds\\_seq\\_start'\n",
       "\\item 'tx\\_cds\\_seq\\_end'\n",
       "\\item 'tx\\_name'\n",
       "\\item 'exon\\_idx'\n",
       "\\item 'uniprot\\_id'\n",
       "\\item 'uniprot\\_db'\n",
       "\\item 'uniprot\\_mapping\\_type'\n",
       "\\end{enumerate*}\n"
      ],
      "text/markdown": [
       "1. 'seq_name'\n",
       "2. 'seq_length'\n",
       "3. 'is_circular'\n",
       "4. 'gene_id'\n",
       "5. 'entrezid'\n",
       "6. 'exon_id'\n",
       "7. 'exon_seq_start'\n",
       "8. 'exon_seq_end'\n",
       "9. 'gene_name'\n",
       "10. 'gene_biotype'\n",
       "11. 'gene_seq_start'\n",
       "12. 'gene_seq_end'\n",
       "13. 'seq_strand'\n",
       "14. 'seq_coord_system'\n",
       "15. 'symbol'\n",
       "16. 'name'\n",
       "17. 'value'\n",
       "18. 'tx_id'\n",
       "19. 'protein_id'\n",
       "20. 'protein_sequence'\n",
       "21. 'protein_domain_id'\n",
       "22. 'protein_domain_source'\n",
       "23. 'interpro_accession'\n",
       "24. 'prot_dom_start'\n",
       "25. 'prot_dom_end'\n",
       "26. 'tx_biotype'\n",
       "27. 'tx_seq_start'\n",
       "28. 'tx_seq_end'\n",
       "29. 'tx_cds_seq_start'\n",
       "30. 'tx_cds_seq_end'\n",
       "31. 'tx_name'\n",
       "32. 'exon_idx'\n",
       "33. 'uniprot_id'\n",
       "34. 'uniprot_db'\n",
       "35. 'uniprot_mapping_type'\n",
       "\n",
       "\n"
      ],
      "text/plain": [
       " [1] \"seq_name\"              \"seq_length\"            \"is_circular\"          \n",
       " [4] \"gene_id\"               \"entrezid\"              \"exon_id\"              \n",
       " [7] \"exon_seq_start\"        \"exon_seq_end\"          \"gene_name\"            \n",
       "[10] \"gene_biotype\"          \"gene_seq_start\"        \"gene_seq_end\"         \n",
       "[13] \"seq_strand\"            \"seq_coord_system\"      \"symbol\"               \n",
       "[16] \"name\"                  \"value\"                 \"tx_id\"                \n",
       "[19] \"protein_id\"            \"protein_sequence\"      \"protein_domain_id\"    \n",
       "[22] \"protein_domain_source\" \"interpro_accession\"    \"prot_dom_start\"       \n",
       "[25] \"prot_dom_end\"          \"tx_biotype\"            \"tx_seq_start\"         \n",
       "[28] \"tx_seq_end\"            \"tx_cds_seq_start\"      \"tx_cds_seq_end\"       \n",
       "[31] \"tx_name\"               \"exon_idx\"              \"uniprot_id\"           \n",
       "[34] \"uniprot_db\"            \"uniprot_mapping_type\" "
      ]
     },
     "metadata": {},
     "output_type": "display_data"
    },
    {
     "data": {
      "text/plain": [
       "DataFrame with 216741 rows and 2 columns\n",
       "                 tx_id      symbol\n",
       "           <character> <character>\n",
       "1      ENST00000000233        ARF5\n",
       "2      ENST00000000412        M6PR\n",
       "3      ENST00000000442       ESRRA\n",
       "4      ENST00000001008       FKBP4\n",
       "5      ENST00000001146     CYP26B1\n",
       "...                ...         ...\n",
       "216737        LRG_96t1      RAB27A\n",
       "216738        LRG_97t1        RAC2\n",
       "216739        LRG_98t1        RAG1\n",
       "216740       LRG_992t1        ESR1\n",
       "216741        LRG_99t1        RAG2"
      ]
     },
     "metadata": {},
     "output_type": "display_data"
    }
   ],
   "source": [
    "suppressPackageStartupMessages(library(EnsDb.Hsapiens.v86))\n",
    "## the different units you could summarize by:\n",
    "listColumns(EnsDb.Hsapiens.v86)\n",
    "tx3gene <- transcripts(EnsDb.Hsapiens.v86, columns=\"symbol\", \n",
    "                  return.type=\"DataFrame\")\n",
    "(tx3gene <- tx3gene[, 2:1])"
   ]
  },
  {
   "cell_type": "markdown",
   "metadata": {},
   "source": [
    "But there is a more general method that works both for `EnsDb` databases and for `TxDb` databases:"
   ]
  },
  {
   "cell_type": "code",
   "execution_count": 7,
   "metadata": {},
   "outputs": [],
   "source": [
    "library(EnsDb.Hsapiens.v86)"
   ]
  },
  {
   "cell_type": "code",
   "execution_count": 8,
   "metadata": {},
   "outputs": [
    {
     "data": {
      "text/html": [
       "<ol class=list-inline>\n",
       "\t<li>'ENTREZID'</li>\n",
       "\t<li>'EXONID'</li>\n",
       "\t<li>'GENEBIOTYPE'</li>\n",
       "\t<li>'GENEID'</li>\n",
       "\t<li>'GENENAME'</li>\n",
       "\t<li>'PROTEINDOMAINID'</li>\n",
       "\t<li>'PROTEINID'</li>\n",
       "\t<li>'SEQNAME'</li>\n",
       "\t<li>'SEQSTRAND'</li>\n",
       "\t<li>'SYMBOL'</li>\n",
       "\t<li>'TXBIOTYPE'</li>\n",
       "\t<li>'TXID'</li>\n",
       "\t<li>'TXNAME'</li>\n",
       "\t<li>'UNIPROTID'</li>\n",
       "</ol>\n"
      ],
      "text/latex": [
       "\\begin{enumerate*}\n",
       "\\item 'ENTREZID'\n",
       "\\item 'EXONID'\n",
       "\\item 'GENEBIOTYPE'\n",
       "\\item 'GENEID'\n",
       "\\item 'GENENAME'\n",
       "\\item 'PROTEINDOMAINID'\n",
       "\\item 'PROTEINID'\n",
       "\\item 'SEQNAME'\n",
       "\\item 'SEQSTRAND'\n",
       "\\item 'SYMBOL'\n",
       "\\item 'TXBIOTYPE'\n",
       "\\item 'TXID'\n",
       "\\item 'TXNAME'\n",
       "\\item 'UNIPROTID'\n",
       "\\end{enumerate*}\n"
      ],
      "text/markdown": [
       "1. 'ENTREZID'\n",
       "2. 'EXONID'\n",
       "3. 'GENEBIOTYPE'\n",
       "4. 'GENEID'\n",
       "5. 'GENENAME'\n",
       "6. 'PROTEINDOMAINID'\n",
       "7. 'PROTEINID'\n",
       "8. 'SEQNAME'\n",
       "9. 'SEQSTRAND'\n",
       "10. 'SYMBOL'\n",
       "11. 'TXBIOTYPE'\n",
       "12. 'TXID'\n",
       "13. 'TXNAME'\n",
       "14. 'UNIPROTID'\n",
       "\n",
       "\n"
      ],
      "text/plain": [
       " [1] \"ENTREZID\"        \"EXONID\"          \"GENEBIOTYPE\"     \"GENEID\"         \n",
       " [5] \"GENENAME\"        \"PROTEINDOMAINID\" \"PROTEINID\"       \"SEQNAME\"        \n",
       " [9] \"SEQSTRAND\"       \"SYMBOL\"          \"TXBIOTYPE\"       \"TXID\"           \n",
       "[13] \"TXNAME\"          \"UNIPROTID\"      "
      ]
     },
     "metadata": {},
     "output_type": "display_data"
    }
   ],
   "source": [
    "keytypes(EnsDb.Hsapiens.v86)"
   ]
  },
  {
   "cell_type": "code",
   "execution_count": 9,
   "metadata": {},
   "outputs": [
    {
     "data": {
      "text/html": [
       "<ol class=list-inline>\n",
       "\t<li>'ENTREZID'</li>\n",
       "\t<li>'EXONID'</li>\n",
       "\t<li>'EXONIDX'</li>\n",
       "\t<li>'EXONSEQEND'</li>\n",
       "\t<li>'EXONSEQSTART'</li>\n",
       "\t<li>'GENEBIOTYPE'</li>\n",
       "\t<li>'GENEID'</li>\n",
       "\t<li>'GENENAME'</li>\n",
       "\t<li>'GENESEQEND'</li>\n",
       "\t<li>'GENESEQSTART'</li>\n",
       "\t<li>'INTERPROACCESSION'</li>\n",
       "\t<li>'ISCIRCULAR'</li>\n",
       "\t<li>'PROTDOMEND'</li>\n",
       "\t<li>'PROTDOMSTART'</li>\n",
       "\t<li>'PROTEINDOMAINID'</li>\n",
       "\t<li>'PROTEINDOMAINSOURCE'</li>\n",
       "\t<li>'PROTEINID'</li>\n",
       "\t<li>'PROTEINSEQUENCE'</li>\n",
       "\t<li>'SEQCOORDSYSTEM'</li>\n",
       "\t<li>'SEQLENGTH'</li>\n",
       "\t<li>'SEQNAME'</li>\n",
       "\t<li>'SEQSTRAND'</li>\n",
       "\t<li>'SYMBOL'</li>\n",
       "\t<li>'TXBIOTYPE'</li>\n",
       "\t<li>'TXCDSSEQEND'</li>\n",
       "\t<li>'TXCDSSEQSTART'</li>\n",
       "\t<li>'TXID'</li>\n",
       "\t<li>'TXNAME'</li>\n",
       "\t<li>'TXSEQEND'</li>\n",
       "\t<li>'TXSEQSTART'</li>\n",
       "\t<li>'UNIPROTDB'</li>\n",
       "\t<li>'UNIPROTID'</li>\n",
       "\t<li>'UNIPROTMAPPINGTYPE'</li>\n",
       "</ol>\n"
      ],
      "text/latex": [
       "\\begin{enumerate*}\n",
       "\\item 'ENTREZID'\n",
       "\\item 'EXONID'\n",
       "\\item 'EXONIDX'\n",
       "\\item 'EXONSEQEND'\n",
       "\\item 'EXONSEQSTART'\n",
       "\\item 'GENEBIOTYPE'\n",
       "\\item 'GENEID'\n",
       "\\item 'GENENAME'\n",
       "\\item 'GENESEQEND'\n",
       "\\item 'GENESEQSTART'\n",
       "\\item 'INTERPROACCESSION'\n",
       "\\item 'ISCIRCULAR'\n",
       "\\item 'PROTDOMEND'\n",
       "\\item 'PROTDOMSTART'\n",
       "\\item 'PROTEINDOMAINID'\n",
       "\\item 'PROTEINDOMAINSOURCE'\n",
       "\\item 'PROTEINID'\n",
       "\\item 'PROTEINSEQUENCE'\n",
       "\\item 'SEQCOORDSYSTEM'\n",
       "\\item 'SEQLENGTH'\n",
       "\\item 'SEQNAME'\n",
       "\\item 'SEQSTRAND'\n",
       "\\item 'SYMBOL'\n",
       "\\item 'TXBIOTYPE'\n",
       "\\item 'TXCDSSEQEND'\n",
       "\\item 'TXCDSSEQSTART'\n",
       "\\item 'TXID'\n",
       "\\item 'TXNAME'\n",
       "\\item 'TXSEQEND'\n",
       "\\item 'TXSEQSTART'\n",
       "\\item 'UNIPROTDB'\n",
       "\\item 'UNIPROTID'\n",
       "\\item 'UNIPROTMAPPINGTYPE'\n",
       "\\end{enumerate*}\n"
      ],
      "text/markdown": [
       "1. 'ENTREZID'\n",
       "2. 'EXONID'\n",
       "3. 'EXONIDX'\n",
       "4. 'EXONSEQEND'\n",
       "5. 'EXONSEQSTART'\n",
       "6. 'GENEBIOTYPE'\n",
       "7. 'GENEID'\n",
       "8. 'GENENAME'\n",
       "9. 'GENESEQEND'\n",
       "10. 'GENESEQSTART'\n",
       "11. 'INTERPROACCESSION'\n",
       "12. 'ISCIRCULAR'\n",
       "13. 'PROTDOMEND'\n",
       "14. 'PROTDOMSTART'\n",
       "15. 'PROTEINDOMAINID'\n",
       "16. 'PROTEINDOMAINSOURCE'\n",
       "17. 'PROTEINID'\n",
       "18. 'PROTEINSEQUENCE'\n",
       "19. 'SEQCOORDSYSTEM'\n",
       "20. 'SEQLENGTH'\n",
       "21. 'SEQNAME'\n",
       "22. 'SEQSTRAND'\n",
       "23. 'SYMBOL'\n",
       "24. 'TXBIOTYPE'\n",
       "25. 'TXCDSSEQEND'\n",
       "26. 'TXCDSSEQSTART'\n",
       "27. 'TXID'\n",
       "28. 'TXNAME'\n",
       "29. 'TXSEQEND'\n",
       "30. 'TXSEQSTART'\n",
       "31. 'UNIPROTDB'\n",
       "32. 'UNIPROTID'\n",
       "33. 'UNIPROTMAPPINGTYPE'\n",
       "\n",
       "\n"
      ],
      "text/plain": [
       " [1] \"ENTREZID\"            \"EXONID\"              \"EXONIDX\"            \n",
       " [4] \"EXONSEQEND\"          \"EXONSEQSTART\"        \"GENEBIOTYPE\"        \n",
       " [7] \"GENEID\"              \"GENENAME\"            \"GENESEQEND\"         \n",
       "[10] \"GENESEQSTART\"        \"INTERPROACCESSION\"   \"ISCIRCULAR\"         \n",
       "[13] \"PROTDOMEND\"          \"PROTDOMSTART\"        \"PROTEINDOMAINID\"    \n",
       "[16] \"PROTEINDOMAINSOURCE\" \"PROTEINID\"           \"PROTEINSEQUENCE\"    \n",
       "[19] \"SEQCOORDSYSTEM\"      \"SEQLENGTH\"           \"SEQNAME\"            \n",
       "[22] \"SEQSTRAND\"           \"SYMBOL\"              \"TXBIOTYPE\"          \n",
       "[25] \"TXCDSSEQEND\"         \"TXCDSSEQSTART\"       \"TXID\"               \n",
       "[28] \"TXNAME\"              \"TXSEQEND\"            \"TXSEQSTART\"         \n",
       "[31] \"UNIPROTDB\"           \"UNIPROTID\"           \"UNIPROTMAPPINGTYPE\" "
      ]
     },
     "metadata": {},
     "output_type": "display_data"
    }
   ],
   "source": [
    "columns(EnsDb.Hsapiens.v86)"
   ]
  },
  {
   "cell_type": "code",
   "execution_count": 10,
   "metadata": {},
   "outputs": [],
   "source": [
    "k <- keys(EnsDb.Hsapiens.v86, \"TXNAME\")\n",
    "tx4gene <- select(EnsDb.Hsapiens.v86, keys=k, \n",
    "                  keytype = \"TXNAME\", columns = \"SYMBOL\")\n",
    "tx4gene <- tx4gene[, 3:2]"
   ]
  },
  {
   "cell_type": "code",
   "execution_count": 11,
   "metadata": {},
   "outputs": [
    {
     "data": {
      "text/html": [
       "TRUE"
      ],
      "text/latex": [
       "TRUE"
      ],
      "text/markdown": [
       "TRUE"
      ],
      "text/plain": [
       "[1] TRUE"
      ]
     },
     "metadata": {},
     "output_type": "display_data"
    },
    {
     "data": {
      "text/html": [
       "TRUE"
      ],
      "text/latex": [
       "TRUE"
      ],
      "text/markdown": [
       "TRUE"
      ],
      "text/plain": [
       "[1] TRUE"
      ]
     },
     "metadata": {},
     "output_type": "display_data"
    }
   ],
   "source": [
    "# Check that this method is equivalent to the previous one:\n",
    "all.equal(tx4gene[, 1], tx3gene[, 1])\n",
    "all.equal(tx4gene[, 2], tx3gene[, 2])"
   ]
  },
  {
   "cell_type": "markdown",
   "metadata": {},
   "source": [
    "So wherever you get your gene models from, you can convert it to a `TxDb` and use the same  `select()` commands.\n",
    "\n",
    "Finally, however you created your transcript to gene map, you can use it to summarize transcripts to genes:"
   ]
  },
  {
   "cell_type": "code",
   "execution_count": 12,
   "metadata": {},
   "outputs": [
    {
     "name": "stderr",
     "output_type": "stream",
     "text": [
      "transcripts missing from tx2gene: 3\n",
      "summarizing abundance\n",
      "summarizing counts\n",
      "summarizing length\n"
     ]
    }
   ],
   "source": [
    "txi.sum <- summarizeToGene(txi, tx2gene)"
   ]
  },
  {
   "cell_type": "markdown",
   "metadata": {},
   "source": [
    "# The SummarizedExperiment data class for representing RNA-seq data\n",
    "\n",
    "**The component parts of a *SummarizedExperiment* object.** \n",
    "\n",
    "* `assay(se)` or `assays(se)$counts` contains the matrix of counts\n",
    "* `colData(se)` may contain data about the columns, e.g. patients or biological units\n",
    "* `rowData(se)` may contain data about the rows, e.g. genes or transcript\n",
    "* `rowRanges(se)` may contain genomic ranges for the genes/transcripts\n",
    "* `metadata(se)` may contain information about the experiment\n",
    "\n",
    "<img src=\"https://github.com/waldronlab/BrownCOBRE2018/blob/master/notebooks_day2/SummarizedExperiment.jpg?raw=true\", alt=\"SummarizedExperiment image\", style=\"width:500px\">\n",
    "\n",
    "**Note**: The `rowRanges` could be a *GRanges* providing ranges of genes, or a *GRangesList* providing ranges of exons grouped by gene.  Both are accessible from TxDb databases."
   ]
  },
  {
   "cell_type": "markdown",
   "metadata": {},
   "source": [
    "*RangedSummarizedExperiment* is a subclass of *SummarizedExperiment*, where the *rowRanges* is not empty. You can convert a *SummarizedExperiment* to a *RangedSummarizedExperiment* just by setting its *rowRanges*. \n",
    "\n",
    "Some exploratory analysis of a demo *RangedSummarizedExperiment*:"
   ]
  },
  {
   "cell_type": "code",
   "execution_count": 13,
   "metadata": {},
   "outputs": [],
   "source": [
    "suppressPackageStartupMessages({\n",
    "    library(airway)\n",
    "    library(SummarizedExperiment)\n",
    "})"
   ]
  },
  {
   "cell_type": "code",
   "execution_count": 14,
   "metadata": {},
   "outputs": [],
   "source": [
    "data(airway)"
   ]
  },
  {
   "cell_type": "code",
   "execution_count": 15,
   "metadata": {},
   "outputs": [
    {
     "data": {
      "text/plain": [
       "class: RangedSummarizedExperiment \n",
       "dim: 64102 8 \n",
       "metadata(1): ''\n",
       "assays(1): counts\n",
       "rownames(64102): ENSG00000000003 ENSG00000000005 ... LRG_98 LRG_99\n",
       "rowData names(0):\n",
       "colnames(8): SRR1039508 SRR1039509 ... SRR1039520 SRR1039521\n",
       "colData names(9): SampleName cell ... Sample BioSample"
      ]
     },
     "metadata": {},
     "output_type": "display_data"
    }
   ],
   "source": [
    "airway"
   ]
  },
  {
   "cell_type": "code",
   "execution_count": 16,
   "metadata": {},
   "outputs": [
    {
     "data": {
      "text/html": [
       "<ol class=list-inline>\n",
       "\t<li>64102</li>\n",
       "\t<li>8</li>\n",
       "</ol>\n"
      ],
      "text/latex": [
       "\\begin{enumerate*}\n",
       "\\item 64102\n",
       "\\item 8\n",
       "\\end{enumerate*}\n"
      ],
      "text/markdown": [
       "1. 64102\n",
       "2. 8\n",
       "\n",
       "\n"
      ],
      "text/plain": [
       "[1] 64102     8"
      ]
     },
     "metadata": {},
     "output_type": "display_data"
    }
   ],
   "source": [
    "dim(airway)"
   ]
  },
  {
   "cell_type": "code",
   "execution_count": 17,
   "metadata": {},
   "outputs": [
    {
     "data": {
      "text/html": [
       "'counts'"
      ],
      "text/latex": [
       "'counts'"
      ],
      "text/markdown": [
       "'counts'"
      ],
      "text/plain": [
       "[1] \"counts\""
      ]
     },
     "metadata": {},
     "output_type": "display_data"
    }
   ],
   "source": [
    "assayNames(airway)"
   ]
  },
  {
   "cell_type": "code",
   "execution_count": 18,
   "metadata": {},
   "outputs": [
    {
     "data": {
      "text/html": [
       "<table>\n",
       "<thead><tr><th></th><th scope=col>SRR1039508</th><th scope=col>SRR1039509</th><th scope=col>SRR1039512</th><th scope=col>SRR1039513</th><th scope=col>SRR1039516</th><th scope=col>SRR1039517</th><th scope=col>SRR1039520</th><th scope=col>SRR1039521</th></tr></thead>\n",
       "<tbody>\n",
       "\t<tr><th scope=row>ENSG00000000003</th><td>679 </td><td>448 </td><td>873 </td><td>408 </td><td>1138</td><td>1047</td><td>770 </td><td>572 </td></tr>\n",
       "\t<tr><th scope=row>ENSG00000000005</th><td>  0 </td><td>  0 </td><td>  0 </td><td>  0 </td><td>   0</td><td>   0</td><td>  0 </td><td>  0 </td></tr>\n",
       "\t<tr><th scope=row>ENSG00000000419</th><td>467 </td><td>515 </td><td>621 </td><td>365 </td><td> 587</td><td> 799</td><td>417 </td><td>508 </td></tr>\n",
       "</tbody>\n",
       "</table>\n"
      ],
      "text/latex": [
       "\\begin{tabular}{r|llllllll}\n",
       "  & SRR1039508 & SRR1039509 & SRR1039512 & SRR1039513 & SRR1039516 & SRR1039517 & SRR1039520 & SRR1039521\\\\\n",
       "\\hline\n",
       "\tENSG00000000003 & 679  & 448  & 873  & 408  & 1138 & 1047 & 770  & 572 \\\\\n",
       "\tENSG00000000005 &   0  &   0  &   0  &   0  &    0 &    0 &   0  &   0 \\\\\n",
       "\tENSG00000000419 & 467  & 515  & 621  & 365  &  587 &  799 & 417  & 508 \\\\\n",
       "\\end{tabular}\n"
      ],
      "text/markdown": [
       "\n",
       "| <!--/--> | SRR1039508 | SRR1039509 | SRR1039512 | SRR1039513 | SRR1039516 | SRR1039517 | SRR1039520 | SRR1039521 | \n",
       "|---|---|---|\n",
       "| ENSG00000000003 | 679  | 448  | 873  | 408  | 1138 | 1047 | 770  | 572  | \n",
       "| ENSG00000000005 |   0  |   0  |   0  |   0  |    0 |    0 |   0  |   0  | \n",
       "| ENSG00000000419 | 467  | 515  | 621  | 365  |  587 |  799 | 417  | 508  | \n",
       "\n",
       "\n"
      ],
      "text/plain": [
       "                SRR1039508 SRR1039509 SRR1039512 SRR1039513 SRR1039516\n",
       "ENSG00000000003 679        448        873        408        1138      \n",
       "ENSG00000000005   0          0          0          0           0      \n",
       "ENSG00000000419 467        515        621        365         587      \n",
       "                SRR1039517 SRR1039520 SRR1039521\n",
       "ENSG00000000003 1047       770        572       \n",
       "ENSG00000000005    0         0          0       \n",
       "ENSG00000000419  799       417        508       "
      ]
     },
     "metadata": {},
     "output_type": "display_data"
    }
   ],
   "source": [
    "head(assay(airway), 3)"
   ]
  },
  {
   "cell_type": "code",
   "execution_count": 19,
   "metadata": {},
   "outputs": [
    {
     "data": {
      "text/html": [
       "<dl class=dl-horizontal>\n",
       "\t<dt>SRR1039508</dt>\n",
       "\t\t<dd>20637971</dd>\n",
       "\t<dt>SRR1039509</dt>\n",
       "\t\t<dd>18809481</dd>\n",
       "\t<dt>SRR1039512</dt>\n",
       "\t\t<dd>25348649</dd>\n",
       "\t<dt>SRR1039513</dt>\n",
       "\t\t<dd>15163415</dd>\n",
       "\t<dt>SRR1039516</dt>\n",
       "\t\t<dd>24448408</dd>\n",
       "\t<dt>SRR1039517</dt>\n",
       "\t\t<dd>30818215</dd>\n",
       "\t<dt>SRR1039520</dt>\n",
       "\t\t<dd>19126151</dd>\n",
       "\t<dt>SRR1039521</dt>\n",
       "\t\t<dd>21164133</dd>\n",
       "</dl>\n"
      ],
      "text/latex": [
       "\\begin{description*}\n",
       "\\item[SRR1039508] 20637971\n",
       "\\item[SRR1039509] 18809481\n",
       "\\item[SRR1039512] 25348649\n",
       "\\item[SRR1039513] 15163415\n",
       "\\item[SRR1039516] 24448408\n",
       "\\item[SRR1039517] 30818215\n",
       "\\item[SRR1039520] 19126151\n",
       "\\item[SRR1039521] 21164133\n",
       "\\end{description*}\n"
      ],
      "text/markdown": [
       "SRR1039508\n",
       ":   20637971SRR1039509\n",
       ":   18809481SRR1039512\n",
       ":   25348649SRR1039513\n",
       ":   15163415SRR1039516\n",
       ":   24448408SRR1039517\n",
       ":   30818215SRR1039520\n",
       ":   19126151SRR1039521\n",
       ":   21164133\n",
       "\n"
      ],
      "text/plain": [
       "SRR1039508 SRR1039509 SRR1039512 SRR1039513 SRR1039516 SRR1039517 SRR1039520 \n",
       "  20637971   18809481   25348649   15163415   24448408   30818215   19126151 \n",
       "SRR1039521 \n",
       "  21164133 "
      ]
     },
     "metadata": {},
     "output_type": "display_data"
    }
   ],
   "source": [
    "colSums(assay(airway))"
   ]
  },
  {
   "cell_type": "markdown",
   "metadata": {},
   "source": [
    "The `rowRanges` here are a *GRangesList*. The first gene has 17 exons:"
   ]
  },
  {
   "cell_type": "code",
   "execution_count": 20,
   "metadata": {},
   "outputs": [
    {
     "data": {
      "text/plain": [
       "GRangesList object of length 64102:\n",
       "$ENSG00000000003 \n",
       "GRanges object with 17 ranges and 2 metadata columns:\n",
       "       seqnames               ranges strand |   exon_id       exon_name\n",
       "          <Rle>            <IRanges>  <Rle> | <integer>     <character>\n",
       "   [1]        X [99883667, 99884983]      - |    667145 ENSE00001459322\n",
       "   [2]        X [99885756, 99885863]      - |    667146 ENSE00000868868\n",
       "   [3]        X [99887482, 99887565]      - |    667147 ENSE00000401072\n",
       "   [4]        X [99887538, 99887565]      - |    667148 ENSE00001849132\n",
       "   [5]        X [99888402, 99888536]      - |    667149 ENSE00003554016\n",
       "   ...      ...                  ...    ... .       ...             ...\n",
       "  [13]        X [99890555, 99890743]      - |    667156 ENSE00003512331\n",
       "  [14]        X [99891188, 99891686]      - |    667158 ENSE00001886883\n",
       "  [15]        X [99891605, 99891803]      - |    667159 ENSE00001855382\n",
       "  [16]        X [99891790, 99892101]      - |    667160 ENSE00001863395\n",
       "  [17]        X [99894942, 99894988]      - |    667161 ENSE00001828996\n",
       "\n",
       "...\n",
       "<64101 more elements>\n",
       "-------\n",
       "seqinfo: 722 sequences (1 circular) from an unspecified genome"
      ]
     },
     "metadata": {},
     "output_type": "display_data"
    }
   ],
   "source": [
    "rowRanges(airway)"
   ]
  },
  {
   "cell_type": "markdown",
   "metadata": {},
   "source": [
    "The `rowRanges` also contains information about the gene model in the `metadata` slot. Here we use a helpful R function, `str`, to display the metadata compactly:"
   ]
  },
  {
   "cell_type": "code",
   "execution_count": 21,
   "metadata": {},
   "outputs": [
    {
     "name": "stdout",
     "output_type": "stream",
     "text": [
      "List of 1\n",
      " $ genomeInfo:List of 20\n",
      "  ..$ Db type                                 : chr \"TranscriptDb\"\n",
      "  ..$ Supporting package                      : chr \"GenomicFeatures\"\n",
      "  ..$ Data source                             : chr \"BioMart\"\n",
      "  ..$ Organism                                : chr \"Homo sapiens\"\n",
      "  ..$ Resource URL                            : chr \"www.biomart.org:80\"\n",
      "  ..$ BioMart database                        : chr \"ensembl\"\n",
      "  ..$ BioMart database version                : chr \"ENSEMBL GENES 75 (SANGER UK)\"\n",
      "  ..$ BioMart dataset                         : chr \"hsapiens_gene_ensembl\"\n",
      "  ..$ BioMart dataset description             : chr \"Homo sapiens genes (GRCh37.p13)\"\n",
      "  ..$ BioMart dataset version                 : chr \"GRCh37.p13\"\n",
      "  ..$ Full dataset                            : chr \"yes\"\n",
      "  ..$ miRBase build ID                        : chr NA\n",
      "  ..$ transcript_nrow                         : chr \"215647\"\n",
      "  ..$ exon_nrow                               : chr \"745593\"\n",
      "  ..$ cds_nrow                                : chr \"537555\"\n",
      "  ..$ Db created by                           : chr \"GenomicFeatures package from Bioconductor\"\n",
      "  ..$ Creation time                           : chr \"2014-07-10 14:55:55 -0400 (Thu, 10 Jul 2014)\"\n",
      "  ..$ GenomicFeatures version at creation time: chr \"1.17.9\"\n",
      "  ..$ RSQLite version at creation time        : chr \"0.11.4\"\n",
      "  ..$ DBSCHEMAVERSION                         : chr \"1.0\"\n"
     ]
    }
   ],
   "source": [
    "str(metadata(rowRanges(airway)))"
   ]
  },
  {
   "cell_type": "markdown",
   "metadata": {},
   "source": [
    "The `colData`:"
   ]
  },
  {
   "cell_type": "code",
   "execution_count": 22,
   "metadata": {},
   "outputs": [
    {
     "data": {
      "text/plain": [
       "DataFrame with 8 rows and 9 columns\n",
       "           SampleName     cell      dex    albut        Run avgLength\n",
       "             <factor> <factor> <factor> <factor>   <factor> <integer>\n",
       "SRR1039508 GSM1275862   N61311    untrt    untrt SRR1039508       126\n",
       "SRR1039509 GSM1275863   N61311      trt    untrt SRR1039509       126\n",
       "SRR1039512 GSM1275866  N052611    untrt    untrt SRR1039512       126\n",
       "SRR1039513 GSM1275867  N052611      trt    untrt SRR1039513        87\n",
       "SRR1039516 GSM1275870  N080611    untrt    untrt SRR1039516       120\n",
       "SRR1039517 GSM1275871  N080611      trt    untrt SRR1039517       126\n",
       "SRR1039520 GSM1275874  N061011    untrt    untrt SRR1039520       101\n",
       "SRR1039521 GSM1275875  N061011      trt    untrt SRR1039521        98\n",
       "           Experiment    Sample    BioSample\n",
       "             <factor>  <factor>     <factor>\n",
       "SRR1039508  SRX384345 SRS508568 SAMN02422669\n",
       "SRR1039509  SRX384346 SRS508567 SAMN02422675\n",
       "SRR1039512  SRX384349 SRS508571 SAMN02422678\n",
       "SRR1039513  SRX384350 SRS508572 SAMN02422670\n",
       "SRR1039516  SRX384353 SRS508575 SAMN02422682\n",
       "SRR1039517  SRX384354 SRS508576 SAMN02422673\n",
       "SRR1039520  SRX384357 SRS508579 SAMN02422683\n",
       "SRR1039521  SRX384358 SRS508580 SAMN02422677"
      ]
     },
     "metadata": {},
     "output_type": "display_data"
    }
   ],
   "source": [
    "colData(airway)"
   ]
  },
  {
   "cell_type": "markdown",
   "metadata": {},
   "source": [
    "## Exercise\n",
    "\n",
    "Create your own *SummarizedExperiment* and *RangedSummarizedExperiment* objects using the examples in `?SummarizedExperiment`. *SummarizedExperiment* objects can be the starting point for many analyses.\n",
    "\n",
    "Explore the components of the created objects, including how many rows/columns they have,  and what the *rowRanges* contain.\n",
    "\n",
    "#  Exploratory data analysis\n",
    "\n",
    "## Standardization / transformation of count data for visual exploration\n",
    "\n",
    "Features (e.g. genes) are typically \"standardized\", because: \n",
    "1.  the differences in overall levels between features are often not due to biological effects but technical ones, *e.g.* GC bias, PCR amplification efficiency, ...\n",
    "2. otherwise a few very high-variance genes can dominate the distance, and make the distances less biologically relevant\n",
    "\n",
    "Standardization traditionally meant converting to z-score:\n",
    "\n",
    "$$x_{gi} \\leftarrow \\frac{(x_{gi} - \\bar{x}_g)}{s_g}$$     \n",
    "\n",
    "But `DESeq2` and `edgeR` provide their own RNA-seq specific standardization methods.\n",
    "\n",
    "We will use standardization for the purposes of visualization below, but for statistical testing in the next period, we will go back to the original count data \n",
    "as required by the statistical procedures used.\n",
    "\n",
    "## Exploring the airway dataset\n",
    "\n",
    "Once we have our fully annotated *SummarizedExperiment* object,\n",
    "we can construct a *DESeqDataSet* object from it that will then form\n",
    "the starting point of the analysis.\n",
    "We add an appropriate design for the analysis (more on model formulae in the next period):"
   ]
  },
  {
   "cell_type": "code",
   "execution_count": 23,
   "metadata": {},
   "outputs": [],
   "source": [
    "suppressPackageStartupMessages(library(DESeq2))"
   ]
  },
  {
   "cell_type": "code",
   "execution_count": 24,
   "metadata": {},
   "outputs": [],
   "source": [
    "dds <- DESeqDataSet(airway, design = ~ cell + dex)"
   ]
  },
  {
   "cell_type": "markdown",
   "metadata": {},
   "source": [
    "## Filtering genes not satisfying a minimum expression threshold\n",
    "\n",
    "Our count matrix contains many rows with only\n",
    "zeros, and additionally many rows with only a few fragments total. In\n",
    "order to reduce the size of the object, and to increase the speed of\n",
    "our functions, we can remove the rows that have no or nearly no\n",
    "information about the amount of gene expression.  Here we apply the\n",
    "most minimal filtering rule: removing rows of the *DESeqDataSet* that\n",
    "have no counts, or only a single count across all samples. Additional\n",
    "weighting/filtering to improve power is applied at a later step in the\n",
    "workflow."
   ]
  },
  {
   "cell_type": "code",
   "execution_count": 25,
   "metadata": {},
   "outputs": [
    {
     "data": {
      "text/html": [
       "64102"
      ],
      "text/latex": [
       "64102"
      ],
      "text/markdown": [
       "64102"
      ],
      "text/plain": [
       "[1] 64102"
      ]
     },
     "metadata": {},
     "output_type": "display_data"
    }
   ],
   "source": [
    "nrow(dds)"
   ]
  },
  {
   "cell_type": "code",
   "execution_count": 26,
   "metadata": {},
   "outputs": [
    {
     "data": {
      "text/html": [
       "29391"
      ],
      "text/latex": [
       "29391"
      ],
      "text/markdown": [
       "29391"
      ],
      "text/plain": [
       "[1] 29391"
      ]
     },
     "metadata": {},
     "output_type": "display_data"
    }
   ],
   "source": [
    "dds <- dds[ rowSums(counts(dds)) > 1, ]\n",
    "nrow(dds)"
   ]
  },
  {
   "cell_type": "markdown",
   "metadata": {},
   "source": [
    "**Note**: For differential expression analysis later, filtering is \n",
    "allowable but not necessary if using [Independent Hypothesis Weighting](http://www.bioconductor.org/packages/IHW),\n",
    "as is the default behavior of `DESeq2`. Independent hypothesis weighting (IHW) is a multiple testing procedure that increases power compared to the method of Benjamini and Hochberg by assigning data-driven weights to each hypothesis. \n",
    "\n",
    "## The rlog and variance stabilizing transformations\n",
    "\n",
    "Many common statistical methods for exploratory analysis of\n",
    "multidimensional data, for example clustering and *principal\n",
    "components analysis* (PCA), work best for data that generally has the\n",
    "same range of variance at different ranges of the mean values. When\n",
    "the expected amount of variance is approximately the same across\n",
    "different mean values, the data is said to be *homoskedastic*. For\n",
    "RNA-seq counts, however, the expected variance grows with the mean. For\n",
    "example, if one performs PCA directly on a matrix of\n",
    "counts or normalized counts (e.g. correcting for differences in\n",
    "sequencing depth), the resulting plot typically depends mostly\n",
    "on the genes with *highest* counts because they show the largest\n",
    "absolute differences between samples. A simple and often used\n",
    "strategy to avoid this is to take the logarithm of the normalized\n",
    "count values plus a pseudocount of 1; however, depending on the\n",
    "choice of pseudocount, the genes with the very *lowest* counts\n",
    "will contribute a great deal of noise to the resulting plot, because\n",
    "taking the logarithm of small counts actually inflates their variance.\n",
    "We can quickly show this property of counts with simulated\n",
    "data (here, Poisson counts with a range of lambda from 0.1 to 100).\n",
    "We plot the standard deviation of each row (genes) against the mean:"
   ]
  },
  {
   "cell_type": "code",
   "execution_count": 27,
   "metadata": {},
   "outputs": [
    {
     "data": {
      "image/png": "[encoded data removed]",
      "text/plain": [
       "plot without title"
      ]
     },
     "metadata": {},
     "output_type": "display_data"
    }
   ],
   "source": [
    "options(repr.plot.height=3, repr.plot.width=5)\n",
    "lambda <- 10^seq(from = -1, to = 2, length = 1000)\n",
    "cts <- matrix(rpois(1000*100, lambda), ncol = 100)\n",
    "library(vsn)\n",
    "meanSdPlot(cts, ranks = FALSE)"
   ]
  },
  {
   "cell_type": "markdown",
   "metadata": {},
   "source": [
    "And for logarithm-transformed counts:"
   ]
  },
  {
   "cell_type": "code",
   "execution_count": 28,
   "metadata": {},
   "outputs": [
    {
     "data": {
      "image/png": "[encoded data removed]",
      "text/plain": [
       "plot without title"
      ]
     },
     "metadata": {},
     "output_type": "display_data"
    }
   ],
   "source": [
    "options(repr.plot.height=3, repr.plot.width=5)\n",
    "log.cts.one <- log2(cts + 1)\n",
    "meanSdPlot(log.cts.one, ranks = FALSE)"
   ]
  },
  {
   "cell_type": "markdown",
   "metadata": {},
   "source": [
    "The logarithm with a small pseudocount amplifies differences when the\n",
    "values are close to 0. The low count genes with low signal-to-noise\n",
    "ratio will overly contribute to sample-sample distances and PCA\n",
    "plots. \n",
    "\n",
    "As a solution, *DESeq2* offers two transformations for count data that\n",
    "stabilize the variance across the mean: the \n",
    "*regularized-logarithm transformation* or *rlog* ([Love, Huber, Anders, Genome Biology 2014](https://genomebiology.biomedcentral.com/articles/10.1186/s13059-014-0550-8)),\n",
    "and the *variance stabilizing transformation* (VST)\n",
    "for negative binomial data with a dispersion-mean trend\n",
    "([Anders and Huber, Genome Biology 2010](https://genomebiology.biomedcentral.com/articles/10.1186/gb-2010-11-10-r106)), implemented in the *vst* function.\n",
    "\n",
    "For genes with high counts, the rlog and VST will give similar result\n",
    "to the ordinary log2 transformation of normalized counts.  For genes\n",
    "with lower counts, however, the values are shrunken towards the genes'\n",
    "averages across all samples. The rlog-transformed or VST data then\n",
    "becomes approximately homoskedastic, and can be used directly for\n",
    "computing distances between samples, making PCA plots, or as input to\n",
    "downstream methods which perform best with homoskedastic data.\n",
    "\n",
    "**Which transformation to choose?** The rlog tends to work well on\n",
    "small datasets (n < 30), sometimes outperforming the VST when there is\n",
    "a large range of sequencing depth across samples (an order of\n",
    "magnitude difference). The VST is much faster to compute and is less\n",
    "sensitive to high count outliers than the rlog. We therefore recommend\n",
    "the VST for large datasets (hundreds of samples). You can perform both\n",
    "transformations and compare the `meanSdPlot` or PCA plots generated,\n",
    "as described below.\n",
    "\n",
    "Note that the two transformations offered by DESeq2 are provided for\n",
    "applications *other* than differential testing. \n",
    "For differential testing we recommend the\n",
    "*DESeq* function applied to raw counts, as described later\n",
    "in this workflow, which also takes into account the dependence of the\n",
    "variance of counts on the mean value during the dispersion estimation\n",
    "step.\n",
    "\n",
    "The function *rlog* returns an object based on the *SummarizedExperiment*\n",
    "class that contains the rlog-transformed values in its *assay* slot."
   ]
  },
  {
   "cell_type": "code",
   "execution_count": 29,
   "metadata": {},
   "outputs": [
    {
     "data": {
      "text/html": [
       "<table>\n",
       "<thead><tr><th></th><th scope=col>SRR1039508</th><th scope=col>SRR1039509</th><th scope=col>SRR1039512</th><th scope=col>SRR1039513</th><th scope=col>SRR1039516</th><th scope=col>SRR1039517</th><th scope=col>SRR1039520</th><th scope=col>SRR1039521</th></tr></thead>\n",
       "<tbody>\n",
       "\t<tr><th scope=row>ENSG00000000003</th><td>9.385683</td><td>9.052608</td><td>9.516875</td><td>9.285338</td><td>9.839085</td><td>9.530311</td><td>9.663255</td><td>9.277699</td></tr>\n",
       "\t<tr><th scope=row>ENSG00000000419</th><td>8.869616</td><td>9.138271</td><td>9.036116</td><td>9.075295</td><td>8.972126</td><td>9.131824</td><td>8.861534</td><td>9.060905</td></tr>\n",
       "\t<tr><th scope=row>ENSG00000000457</th><td>7.961369</td><td>7.881385</td><td>7.824079</td><td>7.921490</td><td>7.751699</td><td>7.886441</td><td>7.957121</td><td>7.912123</td></tr>\n",
       "</tbody>\n",
       "</table>\n"
      ],
      "text/latex": [
       "\\begin{tabular}{r|llllllll}\n",
       "  & SRR1039508 & SRR1039509 & SRR1039512 & SRR1039513 & SRR1039516 & SRR1039517 & SRR1039520 & SRR1039521\\\\\n",
       "\\hline\n",
       "\tENSG00000000003 & 9.385683 & 9.052608 & 9.516875 & 9.285338 & 9.839085 & 9.530311 & 9.663255 & 9.277699\\\\\n",
       "\tENSG00000000419 & 8.869616 & 9.138271 & 9.036116 & 9.075295 & 8.972126 & 9.131824 & 8.861534 & 9.060905\\\\\n",
       "\tENSG00000000457 & 7.961369 & 7.881385 & 7.824079 & 7.921490 & 7.751699 & 7.886441 & 7.957121 & 7.912123\\\\\n",
       "\\end{tabular}\n"
      ],
      "text/markdown": [
       "\n",
       "| <!--/--> | SRR1039508 | SRR1039509 | SRR1039512 | SRR1039513 | SRR1039516 | SRR1039517 | SRR1039520 | SRR1039521 | \n",
       "|---|---|---|\n",
       "| ENSG00000000003 | 9.385683 | 9.052608 | 9.516875 | 9.285338 | 9.839085 | 9.530311 | 9.663255 | 9.277699 | \n",
       "| ENSG00000000419 | 8.869616 | 9.138271 | 9.036116 | 9.075295 | 8.972126 | 9.131824 | 8.861534 | 9.060905 | \n",
       "| ENSG00000000457 | 7.961369 | 7.881385 | 7.824079 | 7.921490 | 7.751699 | 7.886441 | 7.957121 | 7.912123 | \n",
       "\n",
       "\n"
      ],
      "text/plain": [
       "                SRR1039508 SRR1039509 SRR1039512 SRR1039513 SRR1039516\n",
       "ENSG00000000003 9.385683   9.052608   9.516875   9.285338   9.839085  \n",
       "ENSG00000000419 8.869616   9.138271   9.036116   9.075295   8.972126  \n",
       "ENSG00000000457 7.961369   7.881385   7.824079   7.921490   7.751699  \n",
       "                SRR1039517 SRR1039520 SRR1039521\n",
       "ENSG00000000003 9.530311   9.663255   9.277699  \n",
       "ENSG00000000419 9.131824   8.861534   9.060905  \n",
       "ENSG00000000457 7.886441   7.957121   7.912123  "
      ]
     },
     "metadata": {},
     "output_type": "display_data"
    },
    {
     "data": {
      "image/png": "[encoded data removed]",
      "text/plain": [
       "plot without title"
      ]
     },
     "metadata": {},
     "output_type": "display_data"
    }
   ],
   "source": [
    "options(repr.plot.height=3, repr.plot.width=5)\n",
    "rld <- rlog(dds, blind = FALSE)\n",
    "head(assay(rld), 3)\n",
    "meanSdPlot(assay(rld), ranks=FALSE)"
   ]
  },
  {
   "cell_type": "markdown",
   "metadata": {},
   "source": [
    "The function *vst* returns a similar object:"
   ]
  },
  {
   "cell_type": "code",
   "execution_count": 30,
   "metadata": {},
   "outputs": [
    {
     "data": {
      "text/html": [
       "<table>\n",
       "<thead><tr><th></th><th scope=col>SRR1039508</th><th scope=col>SRR1039509</th><th scope=col>SRR1039512</th><th scope=col>SRR1039513</th><th scope=col>SRR1039516</th><th scope=col>SRR1039517</th><th scope=col>SRR1039520</th><th scope=col>SRR1039521</th></tr></thead>\n",
       "<tbody>\n",
       "\t<tr><th scope=row>ENSG00000000003</th><td>9.742340 </td><td>9.430742 </td><td>9.867872 </td><td>9.646126 </td><td>10.183344</td><td>9.880660 </td><td>10.010591</td><td>9.640065 </td></tr>\n",
       "\t<tr><th scope=row>ENSG00000000419</th><td>9.334009 </td><td>9.582000 </td><td>9.486456 </td><td>9.523397 </td><td> 9.427605</td><td>9.575154 </td><td> 9.326341</td><td>9.509553 </td></tr>\n",
       "\t<tr><th scope=row>ENSG00000000457</th><td>8.765748 </td><td>8.698940 </td><td>8.651978 </td><td>8.732908 </td><td> 8.593308</td><td>8.703164 </td><td> 8.762419</td><td>8.724586 </td></tr>\n",
       "</tbody>\n",
       "</table>\n"
      ],
      "text/latex": [
       "\\begin{tabular}{r|llllllll}\n",
       "  & SRR1039508 & SRR1039509 & SRR1039512 & SRR1039513 & SRR1039516 & SRR1039517 & SRR1039520 & SRR1039521\\\\\n",
       "\\hline\n",
       "\tENSG00000000003 & 9.742340  & 9.430742  & 9.867872  & 9.646126  & 10.183344 & 9.880660  & 10.010591 & 9.640065 \\\\\n",
       "\tENSG00000000419 & 9.334009  & 9.582000  & 9.486456  & 9.523397  &  9.427605 & 9.575154  &  9.326341 & 9.509553 \\\\\n",
       "\tENSG00000000457 & 8.765748  & 8.698940  & 8.651978  & 8.732908  &  8.593308 & 8.703164  &  8.762419 & 8.724586 \\\\\n",
       "\\end{tabular}\n"
      ],
      "text/markdown": [
       "\n",
       "| <!--/--> | SRR1039508 | SRR1039509 | SRR1039512 | SRR1039513 | SRR1039516 | SRR1039517 | SRR1039520 | SRR1039521 | \n",
       "|---|---|---|\n",
       "| ENSG00000000003 | 9.742340  | 9.430742  | 9.867872  | 9.646126  | 10.183344 | 9.880660  | 10.010591 | 9.640065  | \n",
       "| ENSG00000000419 | 9.334009  | 9.582000  | 9.486456  | 9.523397  |  9.427605 | 9.575154  |  9.326341 | 9.509553  | \n",
       "| ENSG00000000457 | 8.765748  | 8.698940  | 8.651978  | 8.732908  |  8.593308 | 8.703164  |  8.762419 | 8.724586  | \n",
       "\n",
       "\n"
      ],
      "text/plain": [
       "                SRR1039508 SRR1039509 SRR1039512 SRR1039513 SRR1039516\n",
       "ENSG00000000003 9.742340   9.430742   9.867872   9.646126   10.183344 \n",
       "ENSG00000000419 9.334009   9.582000   9.486456   9.523397    9.427605 \n",
       "ENSG00000000457 8.765748   8.698940   8.651978   8.732908    8.593308 \n",
       "                SRR1039517 SRR1039520 SRR1039521\n",
       "ENSG00000000003 9.880660   10.010591  9.640065  \n",
       "ENSG00000000419 9.575154    9.326341  9.509553  \n",
       "ENSG00000000457 8.703164    8.762419  8.724586  "
      ]
     },
     "metadata": {},
     "output_type": "display_data"
    },
    {
     "data": {
      "image/png": "[encoded data removed]",
      "text/plain": [
       "plot without title"
      ]
     },
     "metadata": {},
     "output_type": "display_data"
    }
   ],
   "source": [
    "vsd <- vst(dds, blind = FALSE)\n",
    "head(assay(vsd), 3)\n",
    "meanSdPlot(assay(vsd), ranks=FALSE)"
   ]
  },
  {
   "cell_type": "markdown",
   "metadata": {},
   "source": [
    "In the above function calls, we specified `blind = FALSE`, which means\n",
    "that differences between cell lines and treatment (the variables in\n",
    "the design) will not contribute to the expected variance-mean trend of\n",
    "the experiment. The experimental design is not used directly in the\n",
    "transformation, only in estimating the global amount of variability in\n",
    "the counts.  For a fully *unsupervised* transformation, one can set\n",
    "`blind = TRUE` (which is the default).\n",
    "\n",
    "To show the effect of the transformation, in the figure below\n",
    "we plot the first sample\n",
    "against the second, first simply using the *log2* function (after adding\n",
    "1, to avoid taking the log of zero), and then using the rlog- and VST-transformed\n",
    "values. For the *log2* approach, we need to first estimate *size factors* to\n",
    "account for sequencing depth, and then specify `normalized=TRUE`.\n",
    "Sequencing depth correction is done automatically for the *rlog*\n",
    "and the *vst*."
   ]
  },
  {
   "cell_type": "code",
   "execution_count": 31,
   "metadata": {},
   "outputs": [],
   "source": [
    "dds <- estimateSizeFactors(dds)"
   ]
  },
  {
   "cell_type": "code",
   "execution_count": 32,
   "metadata": {},
   "outputs": [
    {
     "data": {
      "text/html": [
       "<table>\n",
       "<thead><tr><th></th><th scope=col>x</th><th scope=col>y</th><th scope=col>transformation</th></tr></thead>\n",
       "<tbody>\n",
       "\t<tr><th scope=row>ENSG00000000003</th><td> 9.375722  </td><td> 8.968399  </td><td>log2(x + 1)</td></tr>\n",
       "\t<tr><th scope=row>ENSG00000000419</th><td> 8.836718  </td><td> 9.169098  </td><td>log2(x + 1)</td></tr>\n",
       "\t<tr><th scope=row>ENSG00000000457</th><td> 7.994317  </td><td> 7.885375  </td><td>log2(x + 1)</td></tr>\n",
       "\t<tr><th scope=row>ENSG00000000460</th><td> 5.897577  </td><td> 5.962838  </td><td>log2(x + 1)</td></tr>\n",
       "\t<tr><th scope=row>ENSG00000000938</th><td> 0.000000  </td><td> 0.000000  </td><td>log2(x + 1)</td></tr>\n",
       "\t<tr><th scope=row>ENSG00000000971</th><td>11.633403  </td><td>12.003610  </td><td>log2(x + 1)</td></tr>\n",
       "</tbody>\n",
       "</table>\n"
      ],
      "text/latex": [
       "\\begin{tabular}{r|lll}\n",
       "  & x & y & transformation\\\\\n",
       "\\hline\n",
       "\tENSG00000000003 &  9.375722   &  8.968399   & log2(x + 1)\\\\\n",
       "\tENSG00000000419 &  8.836718   &  9.169098   & log2(x + 1)\\\\\n",
       "\tENSG00000000457 &  7.994317   &  7.885375   & log2(x + 1)\\\\\n",
       "\tENSG00000000460 &  5.897577   &  5.962838   & log2(x + 1)\\\\\n",
       "\tENSG00000000938 &  0.000000   &  0.000000   & log2(x + 1)\\\\\n",
       "\tENSG00000000971 & 11.633403   & 12.003610   & log2(x + 1)\\\\\n",
       "\\end{tabular}\n"
      ],
      "text/markdown": [
       "\n",
       "| <!--/--> | x | y | transformation | \n",
       "|---|---|---|---|---|---|\n",
       "| ENSG00000000003 |  9.375722   |  8.968399   | log2(x + 1) | \n",
       "| ENSG00000000419 |  8.836718   |  9.169098   | log2(x + 1) | \n",
       "| ENSG00000000457 |  7.994317   |  7.885375   | log2(x + 1) | \n",
       "| ENSG00000000460 |  5.897577   |  5.962838   | log2(x + 1) | \n",
       "| ENSG00000000938 |  0.000000   |  0.000000   | log2(x + 1) | \n",
       "| ENSG00000000971 | 11.633403   | 12.003610   | log2(x + 1) | \n",
       "\n",
       "\n"
      ],
      "text/plain": [
       "                x         y         transformation\n",
       "ENSG00000000003  9.375722  8.968399 log2(x + 1)   \n",
       "ENSG00000000419  8.836718  9.169098 log2(x + 1)   \n",
       "ENSG00000000457  7.994317  7.885375 log2(x + 1)   \n",
       "ENSG00000000460  5.897577  5.962838 log2(x + 1)   \n",
       "ENSG00000000938  0.000000  0.000000 log2(x + 1)   \n",
       "ENSG00000000971 11.633403 12.003610 log2(x + 1)   "
      ]
     },
     "metadata": {},
     "output_type": "display_data"
    }
   ],
   "source": [
    "ddsESF <- estimateSizeFactors(dds)\n",
    "df1 <- data.frame(log2(counts(ddsESF, normalized=TRUE)[, 1:2] + 1))\n",
    "df1$transformation <- \"log2(x + 1)\"\n",
    "df2 <- data.frame(assay(rld)[, 1:2])\n",
    "df2$transformation <- \"rld\"\n",
    "df3 <- data.frame(assay(vsd)[, 1:2])\n",
    "df3$transformation <- \"vsd\"\n",
    "df <- rbind(df1, df2, df3)\n",
    "colnames(df)[1:2] <- c(\"x\", \"y\")\n",
    "head(df)"
   ]
  },
  {
   "cell_type": "code",
   "execution_count": 33,
   "metadata": {},
   "outputs": [
    {
     "data": {},
     "metadata": {},
     "output_type": "display_data"
    },
    {
     "data": {
      "image/png": "[encoded data removed]",
      "text/plain": [
       "plot without title"
      ]
     },
     "metadata": {},
     "output_type": "display_data"
    }
   ],
   "source": [
    "options(repr.plot.width=6, repr.plot.height=2.5)\n",
    "library(ggplot2)\n",
    "ggplot(df, aes(x = x, y = y)) + geom_hex(bins = 80) +\n",
    "  coord_fixed() + facet_grid( . ~ transformation)  "
   ]
  },
  {
   "cell_type": "markdown",
   "metadata": {},
   "source": [
    "**Scatterplot of transformed counts from two samples**. Shown are\n",
    "scatterplots using the log2 transform of normalized counts (left),\n",
    "using the rlog (middle), and using the VST (right). While the rlog is\n",
    "on roughly the same scale as the log2 counts, the VST has a upward\n",
    "shift for the smaller values. It is the differences between samples\n",
    "(deviation from y=x in these scatterplots) which will contribute to\n",
    "the distance calculations and the PCA plot.\n",
    "\n",
    "We can see how genes with low counts (bottom left-hand corner) seem to\n",
    "be excessively variable on the ordinary logarithmic scale, while the\n",
    "rlog transform and VST compress differences for the low count genes\n",
    "for which the data provide little information about differential\n",
    "expression.\n",
    "\n",
    "## Boxplots of transformed distributions\n",
    "\n",
    "Boxplots of the count distributions in each sample are a good way to understand the effects these transformations have."
   ]
  },
  {
   "cell_type": "code",
   "execution_count": 34,
   "metadata": {},
   "outputs": [
    {
     "data": {
      "image/png": "[encoded data removed]",
      "text/plain": [
       "Plot with title \"vsd\""
      ]
     },
     "metadata": {},
     "output_type": "display_data"
    }
   ],
   "source": [
    "par(mfrow=c(1,3))\n",
    "boxplot(log2(assay(ddsESF)+1), las=2, main=\"log2(x+1)\")\n",
    "boxplot(assay(rld), las=2, main=\"rld\")\n",
    "boxplot(assay(vsd), las=2, main=\"vsd\")"
   ]
  },
  {
   "cell_type": "markdown",
   "metadata": {},
   "source": [
    "# Sample distances\n",
    "\n",
    "## The importance of distances\n",
    "\n",
    "High-dimensional data are complex and impossible to visualize in raw form. They represent\n",
    "thousands of dimensions, but we can only visualize 2-3.\n",
    "\n",
    "<center>\n",
    "<img src=\"https://upload.wikimedia.org/wikipedia/commons/c/ca/Animals_png_set_by_mossi889-d4uye4q.png\" alt=\"animals\" align=\"middle\" style=\"height: 350px;\">\n",
    "</center>\n",
    "**Animals Figure**: Distances can simplify thousands of dimensions or measurements, but encompass assumptions about what kinds of differences are important.\n",
    "\n",
    "All clustering and classification of samples and/or genes involves\n",
    "combining or identifying objects that are close or similar. Distances \n",
    "or similarities are mathematical representations of what we mean by \n",
    "close or similar. The choice of distance is important, varies for different subject areas and types of data.\n",
    "\n",
    "See: http://master.bioconductor.org/help/course-materials/2002/Summer02Course/Distance/distance.pdf\n",
    "\n",
    "## Distances for exploratory RNA-seq data analysis\n",
    "\n",
    "A useful first step in an RNA-seq analysis is often to assess overall\n",
    "similarity between samples: Which samples are similar to each other,\n",
    "which are different? Does this fit to the expectation from the\n",
    "experiment's design?\n",
    "\n",
    "We use the R function *dist* to calculate the Euclidean distance\n",
    "between samples. To ensure we have a roughly equal contribution from\n",
    "all genes, we use it on the rlog-transformed data. We need to\n",
    "transpose the matrix of values using *t*, because the *dist* function\n",
    "expects the different samples to be rows of its argument, and\n",
    "different dimensions (here, genes) to be columns."
   ]
  },
  {
   "cell_type": "code",
   "execution_count": 35,
   "metadata": {},
   "outputs": [
    {
     "data": {
      "text/plain": [
       "           SRR1039508 SRR1039509 SRR1039512 SRR1039513 SRR1039516 SRR1039517\n",
       "SRR1039509   45.69859                                                       \n",
       "SRR1039512   39.25239   54.90828                                            \n",
       "SRR1039513   62.63201   44.52740   48.72579                                 \n",
       "SRR1039516   44.50557   59.06364   43.57856   63.74275                      \n",
       "SRR1039517   64.49410   51.44882   59.22962   49.87992   47.48199           \n",
       "SRR1039520   39.57693   57.46259   36.74434   58.49014   46.40785   63.59942\n",
       "SRR1039521   63.36124   45.05732   57.87616   36.49484   65.54600   52.31695\n",
       "           SRR1039520\n",
       "SRR1039509           \n",
       "SRR1039512           \n",
       "SRR1039513           \n",
       "SRR1039516           \n",
       "SRR1039517           \n",
       "SRR1039520           \n",
       "SRR1039521   50.13430"
      ]
     },
     "metadata": {},
     "output_type": "display_data"
    }
   ],
   "source": [
    "sampleDists <- dist(t(assay(rld)))\n",
    "sampleDists"
   ]
  },
  {
   "cell_type": "markdown",
   "metadata": {},
   "source": [
    "We visualize the distances in a heatmap in a figure below, using the function\n",
    "*pheatmap* from the [pheatmap](https://cran.r-project.org/web/packages/pheatmap/index.html) package."
   ]
  },
  {
   "cell_type": "code",
   "execution_count": 36,
   "metadata": {},
   "outputs": [],
   "source": [
    "library(pheatmap)\n",
    "library(RColorBrewer)"
   ]
  },
  {
   "cell_type": "markdown",
   "metadata": {},
   "source": [
    "In order to plot the sample distance matrix with the rows/columns\n",
    "arranged by the distances in our distance matrix,\n",
    "we manually provide `sampleDists` to the `clustering_distance`\n",
    "argument of the *pheatmap* function.\n",
    "Otherwise the *pheatmap* function would assume that the matrix contains\n",
    "the data values themselves, and would calculate distances between the\n",
    "rows/columns of the distance matrix, which is not desired.\n",
    "We also manually specify a blue color palette using the\n",
    "*colorRampPalette* function from the [RColorBrewer](https://cran.r-project.org/web/packages/RColorBrewer/index.html) package."
   ]
  },
  {
   "cell_type": "code",
   "execution_count": 37,
   "metadata": {},
   "outputs": [
    {
     "data": {
      "image/png": "[encoded data removed]",
      "text/plain": [
       "plot without title"
      ]
     },
     "metadata": {},
     "output_type": "display_data"
    }
   ],
   "source": [
    "options(repr.plot.height=3, repr.plot.width=5)\n",
    "sampleDistMatrix <- as.matrix( sampleDists )\n",
    "rownames(sampleDistMatrix) <- paste( rld$dex, rld$cell, sep = \" - \" )\n",
    "colnames(sampleDistMatrix) <- NULL\n",
    "colors <- colorRampPalette( rev(brewer.pal(9, \"Blues\")) )(255)\n",
    "pheatmap(sampleDistMatrix,\n",
    "         clustering_distance_rows = sampleDists,\n",
    "         clustering_distance_cols = sampleDists,\n",
    "         col = colors)"
   ]
  },
  {
   "cell_type": "markdown",
   "metadata": {},
   "source": [
    "**Heatmap of sample-to-sample distances using the rlog-transformed values.**\n",
    "\n",
    "Note that we have changed the row names of the distance matrix to\n",
    "contain treatment type and patient number instead of sample ID, so\n",
    "that we have all this information in view when looking at the heatmap.\n",
    "\n",
    "Another option for calculating sample distances is to use the\n",
    "Poisson Distance, implemented in the\n",
    "[PoiClaClu](https://cran.r-project.org/web/packages/PoiClaClu/index.html) CRAN package.\n",
    "This measure of dissimilarity between counts\n",
    "also takes the inherent variance\n",
    "structure of counts into consideration when calculating the distances\n",
    "between samples. The *PoissonDistance* function takes the original\n",
    "count matrix (not normalized) with samples as rows instead of columns,\n",
    "so we need to transpose the counts in `dds`."
   ]
  },
  {
   "cell_type": "code",
   "execution_count": 38,
   "metadata": {},
   "outputs": [],
   "source": [
    "library(PoiClaClu)\n",
    "poisd <- PoissonDistance(t(counts(ddsESF)))"
   ]
  },
  {
   "cell_type": "markdown",
   "metadata": {},
   "source": [
    "We plot the heatmap below."
   ]
  },
  {
   "cell_type": "code",
   "execution_count": 39,
   "metadata": {},
   "outputs": [
    {
     "data": {
      "image/png": "[encoded data removed]",
      "text/plain": [
       "plot without title"
      ]
     },
     "metadata": {},
     "output_type": "display_data"
    }
   ],
   "source": [
    "options(repr.plot.height=3, repr.plot.width=5)\n",
    "samplePoisDistMatrix <- as.matrix( poisd$dd )\n",
    "rownames(samplePoisDistMatrix) <- paste( rld$dex, rld$cell, sep=\" - \" )\n",
    "colnames(samplePoisDistMatrix) <- NULL\n",
    "pheatmap(samplePoisDistMatrix,\n",
    "         clustering_distance_rows = poisd$dd,\n",
    "         clustering_distance_cols = poisd$dd,\n",
    "         col = colors)"
   ]
  },
  {
   "cell_type": "markdown",
   "metadata": {},
   "source": [
    "**Heatmap of sample-to-sample distances using the *Poisson Distance*.**\n",
    "\n",
    "## PCA plot\n",
    "\n",
    "Another way to visualize sample-to-sample distances is a\n",
    "principal components analysis (PCA). In this ordination method, the\n",
    "data points (here, the samples) are projected onto the 2D plane\n",
    "such that they spread out in the two directions that explain most of\n",
    "the differences (figure below). The x-axis is the direction that separates the data\n",
    "points the most. The values of the samples in this direction are\n",
    "written *PC1*. The y-axis is a direction (it must be *orthogonal* to\n",
    "the first direction) that separates the data the second most. The\n",
    "values of the samples in this direction are written *PC2*.\n",
    "The percent of the total variance that is contained in the direction\n",
    "is printed in the axis label. Note that these percentages do not add to\n",
    "100%, because there are more dimensions that contain the remaining\n",
    "variance (although each of these remaining dimensions will explain\n",
    "less than the two that we see)."
   ]
  },
  {
   "cell_type": "code",
   "execution_count": 40,
   "metadata": {},
   "outputs": [
    {
     "data": {},
     "metadata": {},
     "output_type": "display_data"
    },
    {
     "data": {
      "image/png": "[encoded data removed]",
      "text/plain": [
       "plot without title"
      ]
     },
     "metadata": {},
     "output_type": "display_data"
    }
   ],
   "source": [
    "plotPCA(rld, intgroup = c(\"dex\", \"cell\"))"
   ]
  },
  {
   "cell_type": "markdown",
   "metadata": {},
   "source": [
    "**PCA plot using the rlog-transformed values.** Each unique combination of\n",
    "treatment and cell line is given its own color.\n",
    "\n",
    "Here, we have used the function *plotPCA* that comes with *DESeq2*.\n",
    "The two terms specified by `intgroup` are the interesting groups for\n",
    "labeling the samples; they tell the function to use them to choose\n",
    "colors. We can also build the PCA plot from scratch using the\n",
    "[ggplot2](https://cran.r-project.org/web/packages/ggplot2/index.html).\n",
    "This is done by asking the *plotPCA* function\n",
    "to return the data used for plotting rather than building the plot.\n",
    "See the *ggplot2* [documentation](http://docs.ggplot2.org/current/)\n",
    "for more details on using *ggplot*."
   ]
  },
  {
   "cell_type": "code",
   "execution_count": 41,
   "metadata": {},
   "outputs": [
    {
     "data": {
      "text/html": [
       "<table>\n",
       "<thead><tr><th></th><th scope=col>PC1</th><th scope=col>PC2</th><th scope=col>group</th><th scope=col>dex</th><th scope=col>cell</th><th scope=col>name</th></tr></thead>\n",
       "<tbody>\n",
       "\t<tr><th scope=row>SRR1039508</th><td>-17.81773    </td><td> -4.020835   </td><td>untrt:N61311 </td><td>untrt        </td><td>N61311       </td><td>SRR1039508   </td></tr>\n",
       "\t<tr><th scope=row>SRR1039509</th><td>  8.38790    </td><td> -1.490804   </td><td>trt:N61311   </td><td>trt          </td><td>N61311       </td><td>SRR1039509   </td></tr>\n",
       "\t<tr><th scope=row>SRR1039512</th><td>-10.22735    </td><td> -5.004069   </td><td>untrt:N052611</td><td>untrt        </td><td>N052611      </td><td>SRR1039512   </td></tr>\n",
       "\t<tr><th scope=row>SRR1039513</th><td> 17.53277    </td><td> -3.909890   </td><td>trt:N052611  </td><td>trt          </td><td>N052611      </td><td>SRR1039513   </td></tr>\n",
       "\t<tr><th scope=row>SRR1039516</th><td>-14.67169    </td><td> 15.873239   </td><td>untrt:N080611</td><td>untrt        </td><td>N080611      </td><td>SRR1039516   </td></tr>\n",
       "\t<tr><th scope=row>SRR1039517</th><td> 10.98782    </td><td> 20.598625   </td><td>trt:N080611  </td><td>trt          </td><td>N080611      </td><td>SRR1039517   </td></tr>\n",
       "\t<tr><th scope=row>SRR1039520</th><td>-12.06035    </td><td>-11.985876   </td><td>untrt:N061011</td><td>untrt        </td><td>N061011      </td><td>SRR1039520   </td></tr>\n",
       "\t<tr><th scope=row>SRR1039521</th><td> 17.86863    </td><td>-10.060389   </td><td>trt:N061011  </td><td>trt          </td><td>N061011      </td><td>SRR1039521   </td></tr>\n",
       "</tbody>\n",
       "</table>\n"
      ],
      "text/latex": [
       "\\begin{tabular}{r|llllll}\n",
       "  & PC1 & PC2 & group & dex & cell & name\\\\\n",
       "\\hline\n",
       "\tSRR1039508 & -17.81773     &  -4.020835    & untrt:N61311  & untrt         & N61311        & SRR1039508   \\\\\n",
       "\tSRR1039509 &   8.38790     &  -1.490804    & trt:N61311    & trt           & N61311        & SRR1039509   \\\\\n",
       "\tSRR1039512 & -10.22735     &  -5.004069    & untrt:N052611 & untrt         & N052611       & SRR1039512   \\\\\n",
       "\tSRR1039513 &  17.53277     &  -3.909890    & trt:N052611   & trt           & N052611       & SRR1039513   \\\\\n",
       "\tSRR1039516 & -14.67169     &  15.873239    & untrt:N080611 & untrt         & N080611       & SRR1039516   \\\\\n",
       "\tSRR1039517 &  10.98782     &  20.598625    & trt:N080611   & trt           & N080611       & SRR1039517   \\\\\n",
       "\tSRR1039520 & -12.06035     & -11.985876    & untrt:N061011 & untrt         & N061011       & SRR1039520   \\\\\n",
       "\tSRR1039521 &  17.86863     & -10.060389    & trt:N061011   & trt           & N061011       & SRR1039521   \\\\\n",
       "\\end{tabular}\n"
      ],
      "text/markdown": [
       "\n",
       "| <!--/--> | PC1 | PC2 | group | dex | cell | name | \n",
       "|---|---|---|---|---|---|---|---|\n",
       "| SRR1039508 | -17.81773     |  -4.020835    | untrt:N61311  | untrt         | N61311        | SRR1039508    | \n",
       "| SRR1039509 |   8.38790     |  -1.490804    | trt:N61311    | trt           | N61311        | SRR1039509    | \n",
       "| SRR1039512 | -10.22735     |  -5.004069    | untrt:N052611 | untrt         | N052611       | SRR1039512    | \n",
       "| SRR1039513 |  17.53277     |  -3.909890    | trt:N052611   | trt           | N052611       | SRR1039513    | \n",
       "| SRR1039516 | -14.67169     |  15.873239    | untrt:N080611 | untrt         | N080611       | SRR1039516    | \n",
       "| SRR1039517 |  10.98782     |  20.598625    | trt:N080611   | trt           | N080611       | SRR1039517    | \n",
       "| SRR1039520 | -12.06035     | -11.985876    | untrt:N061011 | untrt         | N061011       | SRR1039520    | \n",
       "| SRR1039521 |  17.86863     | -10.060389    | trt:N061011   | trt           | N061011       | SRR1039521    | \n",
       "\n",
       "\n"
      ],
      "text/plain": [
       "           PC1       PC2        group         dex   cell    name      \n",
       "SRR1039508 -17.81773  -4.020835 untrt:N61311  untrt N61311  SRR1039508\n",
       "SRR1039509   8.38790  -1.490804 trt:N61311    trt   N61311  SRR1039509\n",
       "SRR1039512 -10.22735  -5.004069 untrt:N052611 untrt N052611 SRR1039512\n",
       "SRR1039513  17.53277  -3.909890 trt:N052611   trt   N052611 SRR1039513\n",
       "SRR1039516 -14.67169  15.873239 untrt:N080611 untrt N080611 SRR1039516\n",
       "SRR1039517  10.98782  20.598625 trt:N080611   trt   N080611 SRR1039517\n",
       "SRR1039520 -12.06035 -11.985876 untrt:N061011 untrt N061011 SRR1039520\n",
       "SRR1039521  17.86863 -10.060389 trt:N061011   trt   N061011 SRR1039521"
      ]
     },
     "metadata": {},
     "output_type": "display_data"
    }
   ],
   "source": [
    "pcaData <- plotPCA(rld, intgroup = c( \"dex\", \"cell\"), returnData = TRUE)\n",
    "pcaData\n",
    "percentVar <- round(100 * attr(pcaData, \"percentVar\"))"
   ]
  },
  {
   "cell_type": "markdown",
   "metadata": {},
   "source": [
    "We can then use these data to build up a second plot in a figure below, specifying that the\n",
    "color of the points should reflect dexamethasone treatment and the\n",
    "shape should reflect the cell line."
   ]
  },
  {
   "cell_type": "code",
   "execution_count": 42,
   "metadata": {},
   "outputs": [
    {
     "data": {},
     "metadata": {},
     "output_type": "display_data"
    },
    {
     "data": {
      "image/png": "[encoded data removed]",
      "text/plain": [
       "plot without title"
      ]
     },
     "metadata": {},
     "output_type": "display_data"
    }
   ],
   "source": [
    "ggplot(pcaData, aes(x = PC1, y = PC2, color = dex, shape = cell)) +\n",
    "  geom_point(size =3) +\n",
    "  xlab(paste0(\"PC1: \", percentVar[1], \"% variance\")) +\n",
    "  ylab(paste0(\"PC2: \", percentVar[2], \"% variance\")) +\n",
    "  coord_fixed()"
   ]
  },
  {
   "cell_type": "markdown",
   "metadata": {},
   "source": [
    "**PCA plot using the rlog-transformed values with custom *ggplot2* code.**\n",
    "Here we specify cell line (plotting symbol) and dexamethasone treatment (color).\n",
    "\n",
    "From the PCA plot, we see that the differences between cells (the\n",
    "different plotting shapes) are considerable, though not stronger than the differences due to\n",
    "treatment with dexamethasone (red vs blue color). This shows why it will be important to\n",
    "account for this in differential testing by using a paired design\n",
    "(\"paired\", because each dex treated sample is paired with one\n",
    "untreated sample from the *same* cell line). We are already set up for\n",
    "this design by assigning the formula `~ cell + dex` earlier.\n",
    "\n",
    "## MDS plot\n",
    "\n",
    "Another plot, very similar to the PCA plot, can be made using the \n",
    "*multidimensional scaling* (MDS) function in base R. This is useful when we\n",
    "don't have a matrix of data, but only a matrix of distances. Here we\n",
    "compute the MDS for the distances calculated from the *rlog*\n",
    "transformed counts and plot these in a figure below."
   ]
  },
  {
   "cell_type": "markdown",
   "metadata": {},
   "source": [
    "**MDS plot using rlog-transformed values.**"
   ]
  },
  {
   "cell_type": "code",
   "execution_count": 43,
   "metadata": {},
   "outputs": [
    {
     "data": {},
     "metadata": {},
     "output_type": "display_data"
    },
    {
     "data": {
      "image/png": "[encoded data removed]",
      "text/plain": [
       "plot without title"
      ]
     },
     "metadata": {},
     "output_type": "display_data"
    }
   ],
   "source": [
    "mds <- cbind(as.data.frame(colData(rld)), cmdscale(sampleDistMatrix))\n",
    "ggplot(mds, aes(x = `1`, y = `2`, color = dex, shape = cell)) +\n",
    "  geom_point(size = 3) + coord_fixed()"
   ]
  },
  {
   "cell_type": "markdown",
   "metadata": {},
   "source": [
    "In the figure below we show the same plot for the *PoissonDistance*.\n",
    "\n",
    "**MDS plot using the *Poisson Distance*.**"
   ]
  },
  {
   "cell_type": "code",
   "execution_count": 44,
   "metadata": {},
   "outputs": [
    {
     "data": {},
     "metadata": {},
     "output_type": "display_data"
    },
    {
     "data": {
      "image/png": "[encoded data removed]",
      "text/plain": [
       "plot without title"
      ]
     },
     "metadata": {},
     "output_type": "display_data"
    }
   ],
   "source": [
    "mdsPois <- cbind(as.data.frame(colData(ddsESF)),\n",
    "   cmdscale(samplePoisDistMatrix))\n",
    "ggplot(mdsPois, aes(x = `1`, y = `2`, color = dex, shape = cell)) +\n",
    "  geom_point(size = 3) + coord_fixed()"
   ]
  },
  {
   "cell_type": "markdown",
   "metadata": {},
   "source": [
    "**Exercise**: The following code will read example `.bam` files containing only reads from human chromosome 14, and count overlaps with known genes on chromosome 14. Follow these steps, then perform exploratory analysis on the resulting data object"
   ]
  },
  {
   "cell_type": "markdown",
   "metadata": {},
   "source": [
    "library(RNAseqData.HNRNPC.bam.chr14)\n",
    "bfp = RNAseqData.HNRNPC.bam.chr14_BAMFILES\n",
    "library(Rsamtools)\n",
    "bfl = BamFileList(file=bfp)\n",
    "library(Homo.sapiens)\n",
    "gr14 = genes(Homo.sapiens, filter=list(tx_chrom=\"chr14\"), columns=\"SYMBOL\")\n",
    "library(GenomicAlignments)\n",
    "rse <- summarizeOverlaps(gr14, bfl)"
   ]
  },
  {
   "cell_type": "markdown",
   "metadata": {},
   "source": [
    "# Appendix <a name=\"appendix\"></a>"
   ]
  },
  {
   "cell_type": "markdown",
   "metadata": {},
   "source": [
    "## Additional options for mapping transcripts to genes"
   ]
  },
  {
   "cell_type": "markdown",
   "metadata": {},
   "source": [
    "**Option 2.** Bioconductor `TxDb.*` packages, which are available for a number of model species (search for \"TxDb\" at https://bioconductor.org/packages/3.6/data/annotation/). These are slightly less convenient for this purpose than the Ensembl packages. For example, there is a TxDb package Mus Musculus from UCSC build mm10 based on the knownGene Track:"
   ]
  },
  {
   "cell_type": "code",
   "execution_count": 45,
   "metadata": {},
   "outputs": [
    {
     "data": {
      "text/html": [
       "<ol class=list-inline>\n",
       "\t<li>'CDSID'</li>\n",
       "\t<li>'CDSNAME'</li>\n",
       "\t<li>'EXONID'</li>\n",
       "\t<li>'EXONNAME'</li>\n",
       "\t<li>'GENEID'</li>\n",
       "\t<li>'TXID'</li>\n",
       "\t<li>'TXNAME'</li>\n",
       "</ol>\n"
      ],
      "text/latex": [
       "\\begin{enumerate*}\n",
       "\\item 'CDSID'\n",
       "\\item 'CDSNAME'\n",
       "\\item 'EXONID'\n",
       "\\item 'EXONNAME'\n",
       "\\item 'GENEID'\n",
       "\\item 'TXID'\n",
       "\\item 'TXNAME'\n",
       "\\end{enumerate*}\n"
      ],
      "text/markdown": [
       "1. 'CDSID'\n",
       "2. 'CDSNAME'\n",
       "3. 'EXONID'\n",
       "4. 'EXONNAME'\n",
       "5. 'GENEID'\n",
       "6. 'TXID'\n",
       "7. 'TXNAME'\n",
       "\n",
       "\n"
      ],
      "text/plain": [
       "[1] \"CDSID\"    \"CDSNAME\"  \"EXONID\"   \"EXONNAME\" \"GENEID\"   \"TXID\"     \"TXNAME\"  "
      ]
     },
     "metadata": {},
     "output_type": "display_data"
    },
    {
     "data": {
      "text/html": [
       "<ol class=list-inline>\n",
       "\t<li>'CDSCHROM'</li>\n",
       "\t<li>'CDSEND'</li>\n",
       "\t<li>'CDSID'</li>\n",
       "\t<li>'CDSNAME'</li>\n",
       "\t<li>'CDSSTART'</li>\n",
       "\t<li>'CDSSTRAND'</li>\n",
       "\t<li>'EXONCHROM'</li>\n",
       "\t<li>'EXONEND'</li>\n",
       "\t<li>'EXONID'</li>\n",
       "\t<li>'EXONNAME'</li>\n",
       "\t<li>'EXONRANK'</li>\n",
       "\t<li>'EXONSTART'</li>\n",
       "\t<li>'EXONSTRAND'</li>\n",
       "\t<li>'GENEID'</li>\n",
       "\t<li>'TXCHROM'</li>\n",
       "\t<li>'TXEND'</li>\n",
       "\t<li>'TXID'</li>\n",
       "\t<li>'TXNAME'</li>\n",
       "\t<li>'TXSTART'</li>\n",
       "\t<li>'TXSTRAND'</li>\n",
       "\t<li>'TXTYPE'</li>\n",
       "</ol>\n"
      ],
      "text/latex": [
       "\\begin{enumerate*}\n",
       "\\item 'CDSCHROM'\n",
       "\\item 'CDSEND'\n",
       "\\item 'CDSID'\n",
       "\\item 'CDSNAME'\n",
       "\\item 'CDSSTART'\n",
       "\\item 'CDSSTRAND'\n",
       "\\item 'EXONCHROM'\n",
       "\\item 'EXONEND'\n",
       "\\item 'EXONID'\n",
       "\\item 'EXONNAME'\n",
       "\\item 'EXONRANK'\n",
       "\\item 'EXONSTART'\n",
       "\\item 'EXONSTRAND'\n",
       "\\item 'GENEID'\n",
       "\\item 'TXCHROM'\n",
       "\\item 'TXEND'\n",
       "\\item 'TXID'\n",
       "\\item 'TXNAME'\n",
       "\\item 'TXSTART'\n",
       "\\item 'TXSTRAND'\n",
       "\\item 'TXTYPE'\n",
       "\\end{enumerate*}\n"
      ],
      "text/markdown": [
       "1. 'CDSCHROM'\n",
       "2. 'CDSEND'\n",
       "3. 'CDSID'\n",
       "4. 'CDSNAME'\n",
       "5. 'CDSSTART'\n",
       "6. 'CDSSTRAND'\n",
       "7. 'EXONCHROM'\n",
       "8. 'EXONEND'\n",
       "9. 'EXONID'\n",
       "10. 'EXONNAME'\n",
       "11. 'EXONRANK'\n",
       "12. 'EXONSTART'\n",
       "13. 'EXONSTRAND'\n",
       "14. 'GENEID'\n",
       "15. 'TXCHROM'\n",
       "16. 'TXEND'\n",
       "17. 'TXID'\n",
       "18. 'TXNAME'\n",
       "19. 'TXSTART'\n",
       "20. 'TXSTRAND'\n",
       "21. 'TXTYPE'\n",
       "\n",
       "\n"
      ],
      "text/plain": [
       " [1] \"CDSCHROM\"   \"CDSEND\"     \"CDSID\"      \"CDSNAME\"    \"CDSSTART\"  \n",
       " [6] \"CDSSTRAND\"  \"EXONCHROM\"  \"EXONEND\"    \"EXONID\"     \"EXONNAME\"  \n",
       "[11] \"EXONRANK\"   \"EXONSTART\"  \"EXONSTRAND\" \"GENEID\"     \"TXCHROM\"   \n",
       "[16] \"TXEND\"      \"TXID\"       \"TXNAME\"     \"TXSTART\"    \"TXSTRAND\"  \n",
       "[21] \"TXTYPE\"    "
      ]
     },
     "metadata": {},
     "output_type": "display_data"
    },
    {
     "name": "stderr",
     "output_type": "stream",
     "text": [
      "'select()' returned 1:1 mapping between keys and columns\n"
     ]
    }
   ],
   "source": [
    "library(TxDb.Mmusculus.UCSC.mm10.knownGene)\n",
    "txdb <- TxDb.Mmusculus.UCSC.mm10.knownGene\n",
    "keytypes(txdb)\n",
    "k <- keys(txdb, \"TXNAME\")\n",
    "columns(txdb)\n",
    "tx4gene <- select(txdb, keys=k, keytype=\"TXNAME\", column=\"GENEID\")"
   ]
  },
  {
   "cell_type": "code",
   "execution_count": 46,
   "metadata": {},
   "outputs": [
    {
     "data": {
      "text/plain": [
       "GRanges object with 24044 ranges and 1 metadata column:\n",
       "            seqnames                 ranges strand |     gene_id\n",
       "               <Rle>              <IRanges>  <Rle> | <character>\n",
       "  100009600     chr9 [ 21062393,  21075496]      - |   100009600\n",
       "  100009609     chr7 [ 84940169,  84964009]      - |   100009609\n",
       "  100009614    chr10 [ 77711446,  77712009]      + |   100009614\n",
       "  100009664    chr11 [ 45808083,  45842878]      + |   100009664\n",
       "     100012     chr4 [144157556, 144162651]      - |      100012\n",
       "        ...      ...                    ...    ... .         ...\n",
       "      99889     chr3 [ 84496093,  85887518]      - |       99889\n",
       "      99890     chr3 [110246104, 110250999]      - |       99890\n",
       "      99899     chr3 [151730923, 151749959]      - |       99899\n",
       "      99929     chr3 [ 65528447,  65555518]      + |       99929\n",
       "      99982     chr4 [136550533, 136602723]      - |       99982\n",
       "  -------\n",
       "  seqinfo: 66 sequences (1 circular) from mm10 genome"
      ]
     },
     "metadata": {},
     "output_type": "display_data"
    },
    {
     "data": {
      "text/plain": [
       "GRangesList object of length 63759:\n",
       "$1 \n",
       "GRanges object with 8 ranges and 3 metadata columns:\n",
       "      seqnames             ranges strand |   exon_id   exon_name exon_rank\n",
       "         <Rle>          <IRanges>  <Rle> | <integer> <character> <integer>\n",
       "  [1]     chr1 [4807893, 4807982]      + |         1        <NA>         1\n",
       "  [2]     chr1 [4808455, 4808486]      + |         2        <NA>         2\n",
       "  [3]     chr1 [4828584, 4828649]      + |         3        <NA>         3\n",
       "  [4]     chr1 [4830268, 4830315]      + |         4        <NA>         4\n",
       "  [5]     chr1 [4832311, 4832381]      + |         5        <NA>         5\n",
       "  [6]     chr1 [4837001, 4837074]      + |         6        <NA>         6\n",
       "  [7]     chr1 [4839387, 4839488]      + |         7        <NA>         7\n",
       "  [8]     chr1 [4840956, 4842827]      + |         9        <NA>         8\n",
       "\n",
       "$2 \n",
       "GRanges object with 9 ranges and 3 metadata columns:\n",
       "      seqnames             ranges strand | exon_id exon_name exon_rank\n",
       "  [1]     chr1 [4807893, 4807982]      + |       1      <NA>         1\n",
       "  [2]     chr1 [4808455, 4808486]      + |       2      <NA>         2\n",
       "  [3]     chr1 [4828584, 4828649]      + |       3      <NA>         3\n",
       "  [4]     chr1 [4830268, 4830315]      + |       4      <NA>         4\n",
       "  [5]     chr1 [4832311, 4832381]      + |       5      <NA>         5\n",
       "  [6]     chr1 [4837001, 4837074]      + |       6      <NA>         6\n",
       "  [7]     chr1 [4839387, 4839488]      + |       7      <NA>         7\n",
       "  [8]     chr1 [4840956, 4841132]      + |       8      <NA>         8\n",
       "  [9]     chr1 [4844963, 4846735]      + |      10      <NA>         9\n",
       "\n",
       "...\n",
       "<63757 more elements>\n",
       "-------\n",
       "seqinfo: 66 sequences (1 circular) from mm10 genome"
      ]
     },
     "metadata": {},
     "output_type": "display_data"
    }
   ],
   "source": [
    "genes(txdb)\n",
    "exonsBy(txdb)"
   ]
  },
  {
   "cell_type": "markdown",
   "metadata": {},
   "source": [
    "**Option 3.** Find a TxDb from AnnotationHub\n",
    "\n",
    "This opens up more annotation files from different sources. First find and choose a TxDb database:"
   ]
  },
  {
   "cell_type": "code",
   "execution_count": 47,
   "metadata": {},
   "outputs": [
    {
     "name": "stderr",
     "output_type": "stream",
     "text": [
      "snapshotDate(): 2017-10-27\n"
     ]
    },
    {
     "data": {
      "text/plain": [
       "AnnotationHub with 45 records\n",
       "# snapshotDate(): 2017-10-27 \n",
       "# $dataprovider: UCSC\n",
       "# $species: Rattus norvegicus, Gallus gallus, Homo sapiens, Caenorhabditis e...\n",
       "# $rdataclass: TxDb\n",
       "# additional mcols(): taxonomyid, genome, description,\n",
       "#   coordinate_1_based, maintainer, rdatadateadded, preparerclass, tags,\n",
       "#   rdatapath, sourceurl, sourcetype \n",
       "# retrieve records with, e.g., 'object[[\"AH52245\"]]' \n",
       "\n",
       "            title                                        \n",
       "  AH52245 | TxDb.Athaliana.BioMart.plantsmart22.sqlite   \n",
       "  AH52246 | TxDb.Athaliana.BioMart.plantsmart25.sqlite   \n",
       "  AH52247 | TxDb.Athaliana.BioMart.plantsmart28.sqlite   \n",
       "  AH52248 | TxDb.Btaurus.UCSC.bosTau8.refGene.sqlite     \n",
       "  AH52249 | TxDb.Celegans.UCSC.ce11.refGene.sqlite       \n",
       "  ...       ...                                          \n",
       "  AH57988 | TxDb.Ggallus.UCSC.galGal5.refGene.sqlite     \n",
       "  AH57989 | TxDb.Mmulatta.UCSC.rheMac3.refGene.sqlite    \n",
       "  AH57990 | TxDb.Mmulatta.UCSC.rheMac8.refGene.sqlite    \n",
       "  AH57991 | TxDb.Ptroglodytes.UCSC.panTro4.refGene.sqlite\n",
       "  AH57992 | TxDb.Rnorvegicus.UCSC.rn5.refGene.sqlite     "
      ]
     },
     "metadata": {},
     "output_type": "display_data"
    },
    {
     "name": "stderr",
     "output_type": "stream",
     "text": [
      "loading from cache '/home/ubuntu//.AnnotationHub/58983'\n"
     ]
    }
   ],
   "source": [
    "suppressPackageStartupMessages(library(AnnotationHub))\n",
    "ah <- AnnotationHub()\n",
    "query(ah, \"TxDb\")\n",
    "txdb <- ah[[\"AH52245\"]] #TxDb.Athaliana.BioMart.plantsmart22.sqlite"
   ]
  },
  {
   "cell_type": "markdown",
   "metadata": {},
   "source": [
    "Then use it to create the transcript-gene map:"
   ]
  },
  {
   "cell_type": "code",
   "execution_count": 48,
   "metadata": {},
   "outputs": [
    {
     "data": {
      "text/html": [
       "<ol class=list-inline>\n",
       "\t<li>'CDSID'</li>\n",
       "\t<li>'CDSNAME'</li>\n",
       "\t<li>'EXONID'</li>\n",
       "\t<li>'EXONNAME'</li>\n",
       "\t<li>'GENEID'</li>\n",
       "\t<li>'TXID'</li>\n",
       "\t<li>'TXNAME'</li>\n",
       "</ol>\n"
      ],
      "text/latex": [
       "\\begin{enumerate*}\n",
       "\\item 'CDSID'\n",
       "\\item 'CDSNAME'\n",
       "\\item 'EXONID'\n",
       "\\item 'EXONNAME'\n",
       "\\item 'GENEID'\n",
       "\\item 'TXID'\n",
       "\\item 'TXNAME'\n",
       "\\end{enumerate*}\n"
      ],
      "text/markdown": [
       "1. 'CDSID'\n",
       "2. 'CDSNAME'\n",
       "3. 'EXONID'\n",
       "4. 'EXONNAME'\n",
       "5. 'GENEID'\n",
       "6. 'TXID'\n",
       "7. 'TXNAME'\n",
       "\n",
       "\n"
      ],
      "text/plain": [
       "[1] \"CDSID\"    \"CDSNAME\"  \"EXONID\"   \"EXONNAME\" \"GENEID\"   \"TXID\"     \"TXNAME\"  "
      ]
     },
     "metadata": {},
     "output_type": "display_data"
    }
   ],
   "source": [
    "keytypes(txdb)"
   ]
  },
  {
   "cell_type": "code",
   "execution_count": 49,
   "metadata": {},
   "outputs": [
    {
     "data": {
      "text/html": [
       "<ol class=list-inline>\n",
       "\t<li>'CDSCHROM'</li>\n",
       "\t<li>'CDSEND'</li>\n",
       "\t<li>'CDSID'</li>\n",
       "\t<li>'CDSNAME'</li>\n",
       "\t<li>'CDSSTART'</li>\n",
       "\t<li>'CDSSTRAND'</li>\n",
       "\t<li>'EXONCHROM'</li>\n",
       "\t<li>'EXONEND'</li>\n",
       "\t<li>'EXONID'</li>\n",
       "\t<li>'EXONNAME'</li>\n",
       "\t<li>'EXONRANK'</li>\n",
       "\t<li>'EXONSTART'</li>\n",
       "\t<li>'EXONSTRAND'</li>\n",
       "\t<li>'GENEID'</li>\n",
       "\t<li>'TXCHROM'</li>\n",
       "\t<li>'TXEND'</li>\n",
       "\t<li>'TXID'</li>\n",
       "\t<li>'TXNAME'</li>\n",
       "\t<li>'TXSTART'</li>\n",
       "\t<li>'TXSTRAND'</li>\n",
       "</ol>\n"
      ],
      "text/latex": [
       "\\begin{enumerate*}\n",
       "\\item 'CDSCHROM'\n",
       "\\item 'CDSEND'\n",
       "\\item 'CDSID'\n",
       "\\item 'CDSNAME'\n",
       "\\item 'CDSSTART'\n",
       "\\item 'CDSSTRAND'\n",
       "\\item 'EXONCHROM'\n",
       "\\item 'EXONEND'\n",
       "\\item 'EXONID'\n",
       "\\item 'EXONNAME'\n",
       "\\item 'EXONRANK'\n",
       "\\item 'EXONSTART'\n",
       "\\item 'EXONSTRAND'\n",
       "\\item 'GENEID'\n",
       "\\item 'TXCHROM'\n",
       "\\item 'TXEND'\n",
       "\\item 'TXID'\n",
       "\\item 'TXNAME'\n",
       "\\item 'TXSTART'\n",
       "\\item 'TXSTRAND'\n",
       "\\end{enumerate*}\n"
      ],
      "text/markdown": [
       "1. 'CDSCHROM'\n",
       "2. 'CDSEND'\n",
       "3. 'CDSID'\n",
       "4. 'CDSNAME'\n",
       "5. 'CDSSTART'\n",
       "6. 'CDSSTRAND'\n",
       "7. 'EXONCHROM'\n",
       "8. 'EXONEND'\n",
       "9. 'EXONID'\n",
       "10. 'EXONNAME'\n",
       "11. 'EXONRANK'\n",
       "12. 'EXONSTART'\n",
       "13. 'EXONSTRAND'\n",
       "14. 'GENEID'\n",
       "15. 'TXCHROM'\n",
       "16. 'TXEND'\n",
       "17. 'TXID'\n",
       "18. 'TXNAME'\n",
       "19. 'TXSTART'\n",
       "20. 'TXSTRAND'\n",
       "\n",
       "\n"
      ],
      "text/plain": [
       " [1] \"CDSCHROM\"   \"CDSEND\"     \"CDSID\"      \"CDSNAME\"    \"CDSSTART\"  \n",
       " [6] \"CDSSTRAND\"  \"EXONCHROM\"  \"EXONEND\"    \"EXONID\"     \"EXONNAME\"  \n",
       "[11] \"EXONRANK\"   \"EXONSTART\"  \"EXONSTRAND\" \"GENEID\"     \"TXCHROM\"   \n",
       "[16] \"TXEND\"      \"TXID\"       \"TXNAME\"     \"TXSTART\"    \"TXSTRAND\"  "
      ]
     },
     "metadata": {},
     "output_type": "display_data"
    }
   ],
   "source": [
    "columns(txdb)"
   ]
  },
  {
   "cell_type": "code",
   "execution_count": 50,
   "metadata": {},
   "outputs": [
    {
     "name": "stderr",
     "output_type": "stream",
     "text": [
      "'select()' returned 1:1 mapping between keys and columns\n"
     ]
    },
    {
     "data": {
      "text/html": [
       "<table>\n",
       "<thead><tr><th scope=col>TXNAME</th><th scope=col>GENEID</th></tr></thead>\n",
       "<tbody>\n",
       "\t<tr><td>AT1G01010.1</td><td>AT1G01010  </td></tr>\n",
       "\t<tr><td>AT1G01040.1</td><td>AT1G01040  </td></tr>\n",
       "\t<tr><td>AT1G01040.2</td><td>AT1G01040  </td></tr>\n",
       "\t<tr><td>AT1G01046.1</td><td>AT1G01046  </td></tr>\n",
       "\t<tr><td>AT1G01073.1</td><td>AT1G01073  </td></tr>\n",
       "\t<tr><td>AT1G01110.2</td><td>AT1G01110  </td></tr>\n",
       "</tbody>\n",
       "</table>\n"
      ],
      "text/latex": [
       "\\begin{tabular}{r|ll}\n",
       " TXNAME & GENEID\\\\\n",
       "\\hline\n",
       "\t AT1G01010.1 & AT1G01010  \\\\\n",
       "\t AT1G01040.1 & AT1G01040  \\\\\n",
       "\t AT1G01040.2 & AT1G01040  \\\\\n",
       "\t AT1G01046.1 & AT1G01046  \\\\\n",
       "\t AT1G01073.1 & AT1G01073  \\\\\n",
       "\t AT1G01110.2 & AT1G01110  \\\\\n",
       "\\end{tabular}\n"
      ],
      "text/markdown": [
       "\n",
       "TXNAME | GENEID | \n",
       "|---|---|---|---|---|---|\n",
       "| AT1G01010.1 | AT1G01010   | \n",
       "| AT1G01040.1 | AT1G01040   | \n",
       "| AT1G01040.2 | AT1G01040   | \n",
       "| AT1G01046.1 | AT1G01046   | \n",
       "| AT1G01073.1 | AT1G01073   | \n",
       "| AT1G01110.2 | AT1G01110   | \n",
       "\n",
       "\n"
      ],
      "text/plain": [
       "  TXNAME      GENEID   \n",
       "1 AT1G01010.1 AT1G01010\n",
       "2 AT1G01040.1 AT1G01040\n",
       "3 AT1G01040.2 AT1G01040\n",
       "4 AT1G01046.1 AT1G01046\n",
       "5 AT1G01073.1 AT1G01073\n",
       "6 AT1G01110.2 AT1G01110"
      ]
     },
     "metadata": {},
     "output_type": "display_data"
    }
   ],
   "source": [
    "k <- keys(txdb, \"TXNAME\")\n",
    "tx5gene <- select(txdb, keys=k, keytype=\"TXNAME\", column=\"GENEID\")\n",
    "head(tx5gene)"
   ]
  },
  {
   "cell_type": "markdown",
   "metadata": {},
   "source": [
    "** Option 4.** Import a GFF annotation file from somewhere else.\n",
    "\n",
    "To convert the GFF file these to a TxDb database, use the `makeTxDbFromGFF()` function from the `GenomicFeatures` package:"
   ]
  },
  {
   "cell_type": "code",
   "execution_count": 51,
   "metadata": {},
   "outputs": [
    {
     "name": "stderr",
     "output_type": "stream",
     "text": [
      "Import genomic features from the file as a GRanges object ... OK\n",
      "Prepare the 'metadata' data frame ... OK\n",
      "Make the TxDb object ... Warning message in .get_cds_IDX(type, phase):\n",
      "\"The \"phase\" metadata column contains non-NA values for features of type\n",
      "  exon. This information was ignored.\"OK\n"
     ]
    },
    {
     "data": {
      "text/html": [
       "<ol class=list-inline>\n",
       "\t<li>'CDSID'</li>\n",
       "\t<li>'CDSNAME'</li>\n",
       "\t<li>'EXONID'</li>\n",
       "\t<li>'EXONNAME'</li>\n",
       "\t<li>'GENEID'</li>\n",
       "\t<li>'TXID'</li>\n",
       "\t<li>'TXNAME'</li>\n",
       "</ol>\n"
      ],
      "text/latex": [
       "\\begin{enumerate*}\n",
       "\\item 'CDSID'\n",
       "\\item 'CDSNAME'\n",
       "\\item 'EXONID'\n",
       "\\item 'EXONNAME'\n",
       "\\item 'GENEID'\n",
       "\\item 'TXID'\n",
       "\\item 'TXNAME'\n",
       "\\end{enumerate*}\n"
      ],
      "text/markdown": [
       "1. 'CDSID'\n",
       "2. 'CDSNAME'\n",
       "3. 'EXONID'\n",
       "4. 'EXONNAME'\n",
       "5. 'GENEID'\n",
       "6. 'TXID'\n",
       "7. 'TXNAME'\n",
       "\n",
       "\n"
      ],
      "text/plain": [
       "[1] \"CDSID\"    \"CDSNAME\"  \"EXONID\"   \"EXONNAME\" \"GENEID\"   \"TXID\"     \"TXNAME\"  "
      ]
     },
     "metadata": {},
     "output_type": "display_data"
    }
   ],
   "source": [
    "library(GenomicFeatures)\n",
    "gffFile <- system.file(\"extdata\", \"GFF3_files\", \"a.gff3\", \n",
    "                       package=\"GenomicFeatures\")\n",
    "txdb <- makeTxDbFromGFF(file=gffFile,\n",
    "            dataSource=\"partial gtf file for Tomatoes for testing\",\n",
    "            organism=\"Solanum lycopersicum\")\n",
    "keytypes(txdb)"
   ]
  },
  {
   "cell_type": "code",
   "execution_count": 52,
   "metadata": {},
   "outputs": [
    {
     "data": {
      "text/html": [
       "<ol class=list-inline>\n",
       "\t<li>'CDSCHROM'</li>\n",
       "\t<li>'CDSEND'</li>\n",
       "\t<li>'CDSID'</li>\n",
       "\t<li>'CDSNAME'</li>\n",
       "\t<li>'CDSPHASE'</li>\n",
       "\t<li>'CDSSTART'</li>\n",
       "\t<li>'CDSSTRAND'</li>\n",
       "\t<li>'EXONCHROM'</li>\n",
       "\t<li>'EXONEND'</li>\n",
       "\t<li>'EXONID'</li>\n",
       "\t<li>'EXONNAME'</li>\n",
       "\t<li>'EXONRANK'</li>\n",
       "\t<li>'EXONSTART'</li>\n",
       "\t<li>'EXONSTRAND'</li>\n",
       "\t<li>'GENEID'</li>\n",
       "\t<li>'TXCHROM'</li>\n",
       "\t<li>'TXEND'</li>\n",
       "\t<li>'TXID'</li>\n",
       "\t<li>'TXNAME'</li>\n",
       "\t<li>'TXSTART'</li>\n",
       "\t<li>'TXSTRAND'</li>\n",
       "\t<li>'TXTYPE'</li>\n",
       "</ol>\n"
      ],
      "text/latex": [
       "\\begin{enumerate*}\n",
       "\\item 'CDSCHROM'\n",
       "\\item 'CDSEND'\n",
       "\\item 'CDSID'\n",
       "\\item 'CDSNAME'\n",
       "\\item 'CDSPHASE'\n",
       "\\item 'CDSSTART'\n",
       "\\item 'CDSSTRAND'\n",
       "\\item 'EXONCHROM'\n",
       "\\item 'EXONEND'\n",
       "\\item 'EXONID'\n",
       "\\item 'EXONNAME'\n",
       "\\item 'EXONRANK'\n",
       "\\item 'EXONSTART'\n",
       "\\item 'EXONSTRAND'\n",
       "\\item 'GENEID'\n",
       "\\item 'TXCHROM'\n",
       "\\item 'TXEND'\n",
       "\\item 'TXID'\n",
       "\\item 'TXNAME'\n",
       "\\item 'TXSTART'\n",
       "\\item 'TXSTRAND'\n",
       "\\item 'TXTYPE'\n",
       "\\end{enumerate*}\n"
      ],
      "text/markdown": [
       "1. 'CDSCHROM'\n",
       "2. 'CDSEND'\n",
       "3. 'CDSID'\n",
       "4. 'CDSNAME'\n",
       "5. 'CDSPHASE'\n",
       "6. 'CDSSTART'\n",
       "7. 'CDSSTRAND'\n",
       "8. 'EXONCHROM'\n",
       "9. 'EXONEND'\n",
       "10. 'EXONID'\n",
       "11. 'EXONNAME'\n",
       "12. 'EXONRANK'\n",
       "13. 'EXONSTART'\n",
       "14. 'EXONSTRAND'\n",
       "15. 'GENEID'\n",
       "16. 'TXCHROM'\n",
       "17. 'TXEND'\n",
       "18. 'TXID'\n",
       "19. 'TXNAME'\n",
       "20. 'TXSTART'\n",
       "21. 'TXSTRAND'\n",
       "22. 'TXTYPE'\n",
       "\n",
       "\n"
      ],
      "text/plain": [
       " [1] \"CDSCHROM\"   \"CDSEND\"     \"CDSID\"      \"CDSNAME\"    \"CDSPHASE\"  \n",
       " [6] \"CDSSTART\"   \"CDSSTRAND\"  \"EXONCHROM\"  \"EXONEND\"    \"EXONID\"    \n",
       "[11] \"EXONNAME\"   \"EXONRANK\"   \"EXONSTART\"  \"EXONSTRAND\" \"GENEID\"    \n",
       "[16] \"TXCHROM\"    \"TXEND\"      \"TXID\"       \"TXNAME\"     \"TXSTART\"   \n",
       "[21] \"TXSTRAND\"   \"TXTYPE\"    "
      ]
     },
     "metadata": {},
     "output_type": "display_data"
    }
   ],
   "source": [
    "columns(txdb)"
   ]
  },
  {
   "cell_type": "code",
   "execution_count": 53,
   "metadata": {},
   "outputs": [
    {
     "name": "stderr",
     "output_type": "stream",
     "text": [
      "'select()' returned 1:1 mapping between keys and columns\n"
     ]
    },
    {
     "data": {
      "text/html": [
       "<table>\n",
       "<thead><tr><th scope=col>TXNAME</th><th scope=col>GENEID</th></tr></thead>\n",
       "<tbody>\n",
       "\t<tr><td>AT1G01010.1</td><td>AT1G01010  </td></tr>\n",
       "\t<tr><td>AT1G01040.1</td><td>AT1G01040  </td></tr>\n",
       "\t<tr><td>AT1G01040.2</td><td>AT1G01040  </td></tr>\n",
       "\t<tr><td>AT1G01046.1</td><td>AT1G01046  </td></tr>\n",
       "\t<tr><td>AT1G01073.1</td><td>AT1G01073  </td></tr>\n",
       "\t<tr><td>AT1G01110.2</td><td>AT1G01110  </td></tr>\n",
       "</tbody>\n",
       "</table>\n"
      ],
      "text/latex": [
       "\\begin{tabular}{r|ll}\n",
       " TXNAME & GENEID\\\\\n",
       "\\hline\n",
       "\t AT1G01010.1 & AT1G01010  \\\\\n",
       "\t AT1G01040.1 & AT1G01040  \\\\\n",
       "\t AT1G01040.2 & AT1G01040  \\\\\n",
       "\t AT1G01046.1 & AT1G01046  \\\\\n",
       "\t AT1G01073.1 & AT1G01073  \\\\\n",
       "\t AT1G01110.2 & AT1G01110  \\\\\n",
       "\\end{tabular}\n"
      ],
      "text/markdown": [
       "\n",
       "TXNAME | GENEID | \n",
       "|---|---|---|---|---|---|\n",
       "| AT1G01010.1 | AT1G01010   | \n",
       "| AT1G01040.1 | AT1G01040   | \n",
       "| AT1G01040.2 | AT1G01040   | \n",
       "| AT1G01046.1 | AT1G01046   | \n",
       "| AT1G01073.1 | AT1G01073   | \n",
       "| AT1G01110.2 | AT1G01110   | \n",
       "\n",
       "\n"
      ],
      "text/plain": [
       "  TXNAME      GENEID   \n",
       "1 AT1G01010.1 AT1G01010\n",
       "2 AT1G01040.1 AT1G01040\n",
       "3 AT1G01040.2 AT1G01040\n",
       "4 AT1G01046.1 AT1G01046\n",
       "5 AT1G01073.1 AT1G01073\n",
       "6 AT1G01110.2 AT1G01110"
      ]
     },
     "metadata": {},
     "output_type": "display_data"
    }
   ],
   "source": [
    "k <- keys(txdb, \"TXNAME\")\n",
    "tx6gene <- select(txdb, keys=k, keytype=\"TXNAME\", column=\"GENEID\")\n",
    "head(tx5gene)"
   ]
  },
  {
   "cell_type": "markdown",
   "metadata": {},
   "source": [
    "Note, the `GenomicFeatures` package enables you to make a TxDb from a variety of sources:"
   ]
  },
  {
   "cell_type": "code",
   "execution_count": 54,
   "metadata": {},
   "outputs": [
    {
     "data": {
      "text/html": [
       "<ol class=list-inline>\n",
       "\t<li>'makeTxDb'</li>\n",
       "\t<li>'makeTxDbFromBiomart'</li>\n",
       "\t<li>'makeTxDbFromEnsembl'</li>\n",
       "\t<li>'makeTxDbFromGFF'</li>\n",
       "\t<li>'makeTxDbFromGRanges'</li>\n",
       "\t<li>'makeTxDbFromUCSC'</li>\n",
       "\t<li>'makeTxDbPackage'</li>\n",
       "\t<li>'makeTxDbPackageFromBiomart'</li>\n",
       "\t<li>'makeTxDbPackageFromUCSC'</li>\n",
       "</ol>\n"
      ],
      "text/latex": [
       "\\begin{enumerate*}\n",
       "\\item 'makeTxDb'\n",
       "\\item 'makeTxDbFromBiomart'\n",
       "\\item 'makeTxDbFromEnsembl'\n",
       "\\item 'makeTxDbFromGFF'\n",
       "\\item 'makeTxDbFromGRanges'\n",
       "\\item 'makeTxDbFromUCSC'\n",
       "\\item 'makeTxDbPackage'\n",
       "\\item 'makeTxDbPackageFromBiomart'\n",
       "\\item 'makeTxDbPackageFromUCSC'\n",
       "\\end{enumerate*}\n"
      ],
      "text/markdown": [
       "1. 'makeTxDb'\n",
       "2. 'makeTxDbFromBiomart'\n",
       "3. 'makeTxDbFromEnsembl'\n",
       "4. 'makeTxDbFromGFF'\n",
       "5. 'makeTxDbFromGRanges'\n",
       "6. 'makeTxDbFromUCSC'\n",
       "7. 'makeTxDbPackage'\n",
       "8. 'makeTxDbPackageFromBiomart'\n",
       "9. 'makeTxDbPackageFromUCSC'\n",
       "\n",
       "\n"
      ],
      "text/plain": [
       "[1] \"makeTxDb\"                   \"makeTxDbFromBiomart\"       \n",
       "[3] \"makeTxDbFromEnsembl\"        \"makeTxDbFromGFF\"           \n",
       "[5] \"makeTxDbFromGRanges\"        \"makeTxDbFromUCSC\"          \n",
       "[7] \"makeTxDbPackage\"            \"makeTxDbPackageFromBiomart\"\n",
       "[9] \"makeTxDbPackageFromUCSC\"   "
      ]
     },
     "metadata": {},
     "output_type": "display_data"
    }
   ],
   "source": [
    "grep(\"makeTxDb\", ls(\"package:GenomicFeatures\"), val=TRUE)"
   ]
  }
 ],
 "metadata": {
  "kernelspec": {
   "display_name": "R",
   "language": "R",
   "name": "ir"
  },
  "language_info": {
   "codemirror_mode": "r",
   "file_extension": ".r",
   "mimetype": "text/x-r-source",
   "name": "R",
   "pygments_lexer": "r",
   "version": "3.4.3"
  }
 },
 "nbformat": 4,
 "nbformat_minor": 2
}
