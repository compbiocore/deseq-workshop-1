{
 "cells": [
  {
   "cell_type": "markdown",
   "metadata": {},
   "source": [
    "# Period 3 - Gene set analysis\n",
    "\n",
    "Ludwig Geistlinger\n",
    "\n",
    "# Abstract\n",
    "\n",
    "Overview of existing methods for enrichment analysis of gene \n",
    "expression data with regard to functional gene sets, pathways, and networks.\n",
    "Functionality for differential expression analysis, set- and network-based\n",
    "enrichment analysis, along with visualization and exploration of results.\n",
    "Introduction to concepts for enrichment analysis of genomic regions and \n",
    "regulatory elements.\n",
    "Required packages:\n",
    "[EnrichmentBrowser](http://bioconductor.org/packages/EnrichmentBrowser), \n",
    "[ALL](http://bioconductor.org/packages/ALL), \n",
    "[hgu95av2.db](http://bioconductor.org/packages/hgu95av2.db), \n",
    "[airway](http://bioconductor.org/packages/airway),\n",
    "[regioneR](http://bioconductor.org/packages/regioneR), \n",
    "[BSgenome.Hsapiens.UCSC.hg19.masked](http://bioconductor.org/packages/BSgenome.Hsapiens.UCSC.hg19.masked)\n",
    "\n",
    "\n",
    "<img src=\"https://github.com/waldronlab/BrownCOBRE2018/blob/master/notebooks_day2/ExpressionDataAnalysis.png?raw=true\", alt=\"ExpressionDataAnalysis image\", style=\"width:500px\">\n",
    "\n",
    "\n",
    "\n",
    "# Where does it all come from?\n",
    "\n",
    "Test whether known biological functions or processes are over-represented\n",
    "(= enriched) in an experimentally-derived gene list, e.g. a list of\n",
    "differentially expressed (DE) genes. See\n",
    "[Goeman and Buehlmann, 2007](https://doi.org/10.1093/bioinformatics/btm051) for\n",
    "a critical review.\n",
    "\n",
    "Example: Transcriptomic study, in which 12,671 genes have been tested for\n",
    "differential expression between two sample conditions and 529 genes were found\n",
    "DE.\n",
    "\n",
    "Among the DE genes, 28 are annotated to a specific functional gene set, which\n",
    "contains in total 170 genes. This setup corresponds to a 2x2 contingency table,"
   ]
  },
  {
   "cell_type": "code",
   "execution_count": 1,
   "metadata": {},
   "outputs": [
    {
     "data": {
      "text/html": [
       "<table>\n",
       "<thead><tr><th></th><th scope=col>In.gene.set</th><th scope=col>Not.in.gene.set</th></tr></thead>\n",
       "<tbody>\n",
       "\t<tr><th scope=row>DE</th><td> 28  </td><td>  501</td></tr>\n",
       "\t<tr><th scope=row>Not.DE</th><td>142  </td><td>12000</td></tr>\n",
       "</tbody>\n",
       "</table>\n"
      ],
      "text/latex": [
       "\\begin{tabular}{r|ll}\n",
       "  & In.gene.set & Not.in.gene.set\\\\\n",
       "\\hline\n",
       "\tDE &  28   &   501\\\\\n",
       "\tNot.DE & 142   & 12000\\\\\n",
       "\\end{tabular}\n"
      ],
      "text/markdown": [
       "\n",
       "| <!--/--> | In.gene.set | Not.in.gene.set | \n",
       "|---|---|\n",
       "| DE |  28   |   501 | \n",
       "| Not.DE | 142   | 12000 | \n",
       "\n",
       "\n"
      ],
      "text/plain": [
       "       In.gene.set Not.in.gene.set\n",
       "DE      28           501          \n",
       "Not.DE 142         12000          "
      ]
     },
     "metadata": {},
     "output_type": "display_data"
    }
   ],
   "source": [
    "deTable <-\n",
    "     matrix(c(28, 142, 501, 12000),\n",
    "            nrow = 2,\n",
    "            dimnames = list(c(\"DE\", \"Not.DE\"),\n",
    "                            c(\"In.gene.set\", \"Not.in.gene.set\")))\n",
    "deTable"
   ]
  },
  {
   "cell_type": "markdown",
   "metadata": {},
   "source": [
    "where the overlap of 28 genes can be assessed based on the hypergeometric distribution.\n",
    "This corresponds to a one-sided version of Fisher's exact test, yielding here a\n",
    "significant enrichment."
   ]
  },
  {
   "cell_type": "code",
   "execution_count": 2,
   "metadata": {},
   "outputs": [
    {
     "data": {
      "text/plain": [
       "\n",
       "\tFisher's Exact Test for Count Data\n",
       "\n",
       "data:  deTable\n",
       "p-value = 4.088e-10\n",
       "alternative hypothesis: true odds ratio is greater than 1\n",
       "95 percent confidence interval:\n",
       " 3.226736      Inf\n",
       "sample estimates:\n",
       "odds ratio \n",
       "  4.721744 \n"
      ]
     },
     "metadata": {},
     "output_type": "display_data"
    }
   ],
   "source": [
    "fisher.test(deTable, alternative = \"greater\")"
   ]
  },
  {
   "cell_type": "markdown",
   "metadata": {},
   "source": [
    "This basic principle is at the foundation of major public and commercial enrichment\n",
    "tools such as [DAVID](https://david.ncifcrf.gov/) and \n",
    "[Pathway Studio](https://www.pathwaystudio.com).\n",
    "\n",
    "Although gene set enrichment methods have been primarily developed and applied\n",
    "on transcriptomic data, they have recently been modified, extended and applied\n",
    "also in other fields of genomic and biomedical research. This includes novel\n",
    "approaches for functional enrichment analysis of proteomic and metabolomic data\n",
    "as well as genomic regions and disease phenotypes,\n",
    "[Lavallee and Yates, 2016](https://doi.org/10.1002/0471250953.bi1328s53),\n",
    "[Chagoyen et al., 2016](https://doi.org/10.1007/978-1-4939-3572-7_20),\n",
    "[McLean et al., 2010](https://doi.org/10.1038/nbt.1630),\n",
    "[Ried et al., 2012](https://doi.org/10.1002/gepi.21617).\n",
    "\n",
    "# Gene expression-based enrichment analysis\n",
    "\n",
    "The first part of the workshop is largely based on the\n",
    "[EnrichmentBrowser](http://bioconductor.org/packages/EnrichmentBrowser)\n",
    "package, which implements an analysis pipeline\n",
    "for high-throughput gene expression data as measured with microarrays and\n",
    "RNA-seq. In a workflow-like manner, the package brings together a selection of\n",
    "established Bioconductor packages for gene expression data analysis. It\n",
    "integrates a wide range of gene set enrichment analysis methods and facilitates\n",
    "combination and exploration of results across methods.\n",
    "\n",
    "<img src=\"https://github.com/waldronlab/BrownCOBRE2018/blob/master/notebooks_day2/EnrichmentBrowserWorkflow.png?raw=true\", alt=\"EnrichmentBrowserWorkflow image\", style=\"width:650px\">"
   ]
  },
  {
   "cell_type": "code",
   "execution_count": 3,
   "metadata": {},
   "outputs": [],
   "source": [
    "suppressPackageStartupMessages(library(EnrichmentBrowser))"
   ]
  },
  {
   "cell_type": "markdown",
   "metadata": {},
   "source": [
    "Further information can be found in the \n",
    "[vignette](http://www.bioconductor.org/packages/release/bioc/vignettes/EnrichmentBrowser/inst/doc/EnrichmentBrowser.pdf)\n",
    "and [publication](https://doi.org/10.1186/s12859-016-0884-1).\n",
    "\n",
    "## A primer on terminology, existing methods & statistical theory\n",
    "\n",
    "**Gene sets, pathways & regulatory networks**\n",
    "\n",
    "Gene sets are simple lists of usually functionally related genes without further\n",
    "specification of relationships between genes.\n",
    "\n",
    "Pathways can be interpreted as specific gene sets, typically representing a\n",
    "group of genes that \n",
    "work together in a biological process. Pathways are commonly divided in \n",
    "metabolic and signaling pathways.\n",
    "Metabolic pathways such as glycolysis represent biochemical substrate conversions\n",
    "by specific enzymes. Signaling pathways such as the MAPK signaling pathway describe \n",
    "signal transduction cascades from receptor proteins to transcription factors, \n",
    "resulting in activation or inhibition of specific target genes.\n",
    "\n",
    "Gene regulatory networks describe the interplay and effects of regulatory\n",
    "factors (such as transcription factors and microRNAs) on the expression of their\n",
    "target genes.\n",
    "\n",
    "**Resources**\n",
    "\n",
    "[GO](http://www.geneontology.org) and [KEGG](http://www.genome.jp/kegg) \n",
    "annotations are most frequently used for the enrichment analysis of \n",
    "functional gene sets. Despite an increasing number of gene set and pathway \n",
    "databases, they are typically the first choice due to their long-standing \n",
    "curation and availability for a wide range of species.\n",
    "\n",
    "*GO*: The Gene Ontology (GO) consists of three major sub-ontologies that classify\n",
    "gene products according to molecular function (MF), biological process (BP) and \n",
    "cellular component (CC). Each ontology consists of GO terms that define MFs, BPs\n",
    "or CCs to which specific genes are annotated. The terms are organized in a\n",
    "directed acyclic graph, where edges between the terms represent\n",
    "relationships of different types. They relate the terms according to a parent-child\n",
    "scheme, i.e. parent terms denote more general entities, whereas child terms represent\n",
    "more specific entities.\n",
    "\n",
    "*KEGG*: The Kyoto Encyclopedia of Genes and Genomes (KEGG) is a collection of \n",
    "manually drawn pathway maps representing molecular interaction and reaction networks.\n",
    "These pathways cover a wide range of biochemical processes that can be divided in\n",
    "7 broad categories: metabolism, genetic and environmental information processing,\n",
    "cellular processes, organismal systems, human diseases, and drug development. \n",
    "Metabolism and drug development pathways differ from pathways of the other 5\n",
    "categories by illustrating reactions between chemical compounds.\n",
    "Pathways of the other 5 categories illustrate molecular interactions between\n",
    "genes and gene products. \n",
    "\n",
    "**Gene set analysis vs. gene set enrichment analysis**\n",
    "\n",
    "The two predominantly used enrichment methods are:\n",
    "\n",
    "- Overrepresentation analysis (ORA), testing whether a gene set contains \n",
    "disproportional many genes of significant expression change, based on the \n",
    "procedure outlined in the first section\n",
    "- Gene set enrichment analysis (GSEA), testing whether genes of a gene set \n",
    "accumulate at the top or bottom of the full gene vector ordered by direction\n",
    "and magnitude of expression change\n",
    "[Subramanian et al., 2005](https://doi.org/10.1073/pnas.0506580102)\n",
    "\n",
    "However, the term *gene set enrichment analysis* nowadays subsumes a general \n",
    "strategy implemented by a wide range of methods \n",
    "[Huang et al., 2009](https://doi.org/10.1093/nar/gkn923). \n",
    "Those methods have in common the same goal, although approach and statistical\n",
    "model can vary substantially\n",
    "[Goeman and Buehlmann, 2007](https://doi.org/10.1093/bioinformatics/btm051),\n",
    "[Khatri et al., 2012](https://doi.org/10.1371/journal.pcbi.1002375).\n",
    "\n",
    "To better distinguish from the specific method, some authors use the term\n",
    "*gene set analysis* to denote the general strategy.\n",
    "However, there is also a specific method from\n",
    "[Efron and Tibshirani, 2007](https://doi.org/10.1214/07-AOAS101) of this name.\n",
    "\n",
    "**Underlying null: competitive vs. self-contained**\n",
    "\n",
    "[Goeman and Buehlmann, 2007](https://doi.org/10.1093/bioinformatics/btm051)\n",
    "classified existing enrichment methods into *competitive* and *self-contained* \n",
    "based on the underlying null hypothesis.\n",
    "\n",
    "- *Competitive* null hypothesis: the genes in the set of interest are at most as\n",
    "often DE as the genes not in the set, \n",
    "- *Self-contained* null hypothesis: no genes in the set of interest are DE.\n",
    "\n",
    "Although the authors argue that a self-contained null is closer to the actual \n",
    "question of interest, the vast majority of enrichment methods is competitive.\n",
    "\n",
    "Goeman and Buehlmann further raise several critical issues concerning the 2x2 ORA:\n",
    "\n",
    "- rather arbitrary classification of genes in DE / not DE\n",
    "- based on gene sampling, although sampling of subjects is appropriate \n",
    "- unrealistic independence assumption between genes, resulting in highly\n",
    "anti-conservative *p*-values\n",
    "\n",
    "With regard to these statistical concerns, GSEA is considered superior:\n",
    "\n",
    "- takes all measured genes into account \n",
    "- subject sampling via permutation of class labels  \n",
    "- the incorporated permutation procedure implicitly accounts for correlations\n",
    "between genes\n",
    "\n",
    "However, the simplicity and general applicability of ORA is unmet by subsequent\n",
    "methods improving on these issues. For instance, GSEA requires the expression data\n",
    "as input, which is not available for gene lists derived from other experiment types.\n",
    "On the other hand, the involved sample permutation procedure has been proven \n",
    "inaccurate and time-consuming\n",
    "[Efron and Tibshirani, 2007](https://doi.org/10.1214/07-AOAS101),\n",
    "[Phipson and Smyth, 2010](https://doi.org/10.2202/1544-6115.1585),\n",
    "[Larson and Owen, 2015](https://doi.org/10.1186/s12859-015-0571-7).\n",
    "\n",
    "**Generations: ora, fcs & topology-based**\n",
    "\n",
    "[Khatri et al., 2012](https://doi.org/10.1371/journal.pcbi.1002375) have taken a\n",
    "slightly different approach by classifying methods along the timeline of \n",
    "development into three generations:\n",
    "\n",
    "1. Generation: ORA methods based on the 2x2 contingency table test,\n",
    "2. Generation: functional class scoring (FCS) methods such as GSEA, which compute\n",
    "gene set (= functional class) scores by summarizing per-gene DE statistics,\n",
    "3. Generation: topology-based methods, explicitly taking into account interactions\n",
    "between genes as defined in signaling pathways and gene regulatory networks\n",
    "([Geistlinger et al., 2011](https://doi.org/10.1093/bioinformatics/btr228) for an example).\n",
    "\n",
    "Although topology-based (also: network-based) methods appear to be most realistic,\n",
    "their straightforward application can be impaired by features that are not-detectable\n",
    "on the transcriptional level (such as protein-protein interactions) and insufficient network knowledge\n",
    "[Geistlinger et al., 2013](https://doi.org/10.1093/nar/gkt631),\n",
    "[Bayerlova et al., 2015](https://doi.org/10.1186/s12859-015-0751-5).\n",
    "\n",
    "Given the individual benefits and limitations of existing methods,\n",
    "cautious interpretation of results is required to derive valid conclusions. \n",
    "Whereas no single method is best suited for all application scenarios, applying\n",
    "multiple methods can be beneficial.\n",
    "This has been shown to filter out spurious hits of individual methods, thereby\n",
    "reducing the outcome to gene sets accumulating evidence from different methods\n",
    "[Geistlinger et al., 2016](https://doi.org/10.1186/s12859-016-0884-1),\n",
    "[Alhamdoosh et al., 2017](https://doi.org/10.1093/bioinformatics/btw623).\n",
    "\n",
    "## Data types\n",
    "\n",
    "Although RNA-seq (read count data) has become the *de facto* standard for\n",
    "transcriptomic profiling, it is important to know that many methods for\n",
    "differential expression and gene set enrichment analysis have been originally\n",
    "developed for microarray data (intensity measurements).\n",
    "\n",
    "However, differences in data distribution assumptions (microarray: quasi-normal,\n",
    "RNA-seq: negative binomial) made adaptations in differential expression analysis\n",
    "and, to some extent, also in gene set enrichment analysis necessary.\n",
    "\n",
    "Thus, we consider two example datasets - a microarray and a RNA-seq dataset,\n",
    "and discuss similarities and differences of the respective analysis steps. \n",
    "\n",
    "For microarray data, we consider expression measurements of patients with acute\n",
    "lymphoblastic leukemia\n",
    "[Chiaretti et al., 2004](https://doi.org/10.1182/blood-2003-09-3243). A\n",
    "frequent chromosomal defect found among these patients is a translocation, in\n",
    "which parts of chromosome 9 and 22 swap places. This results in the oncogenic\n",
    "fusion gene BCR/ABL created by positioning the ABL1 gene on chromosome 9 to a\n",
    "part of the BCR gene on chromosome 22.\n",
    "\n",
    "We load the\n",
    "[ALL](http://bioconductor.org/packages/ALL) \n",
    "dataset"
   ]
  },
  {
   "cell_type": "code",
   "execution_count": 4,
   "metadata": {},
   "outputs": [],
   "source": [
    "library(ALL)\n",
    "data(ALL)"
   ]
  },
  {
   "cell_type": "markdown",
   "metadata": {},
   "source": [
    "and select B-cell ALL patients with and without the BCR/ABL fusion, as described previously\n",
    "[Gentleman et al., 2005](https://www.bioconductor.org/help/publications/books/bioinformatics-and-computational-biology-solutions)."
   ]
  },
  {
   "cell_type": "code",
   "execution_count": 5,
   "metadata": {},
   "outputs": [],
   "source": [
    "ind.bs <- grep(\"^B\", ALL$BT)\n",
    "ind.mut <- which(ALL$mol.biol %in% c(\"BCR/ABL\", \"NEG\"))\n",
    "sset <- intersect(ind.bs, ind.mut)\n",
    "all.eset <- ALL[, sset]"
   ]
  },
  {
   "cell_type": "markdown",
   "metadata": {},
   "source": [
    "We can now access the expression values, which are intensity measurements\n",
    "on a log-scale for 12,625 probes (rows) across 79 patients (columns)."
   ]
  },
  {
   "cell_type": "code",
   "execution_count": 6,
   "metadata": {},
   "outputs": [
    {
     "data": {
      "text/html": [
       "<dl class=dl-horizontal>\n",
       "\t<dt>Features</dt>\n",
       "\t\t<dd>12625</dd>\n",
       "\t<dt>Samples</dt>\n",
       "\t\t<dd>79</dd>\n",
       "</dl>\n"
      ],
      "text/latex": [
       "\\begin{description*}\n",
       "\\item[Features] 12625\n",
       "\\item[Samples] 79\n",
       "\\end{description*}\n"
      ],
      "text/markdown": [
       "Features\n",
       ":   12625Samples\n",
       ":   79\n",
       "\n"
      ],
      "text/plain": [
       "Features  Samples \n",
       "   12625       79 "
      ]
     },
     "metadata": {},
     "output_type": "display_data"
    }
   ],
   "source": [
    "dim(all.eset)"
   ]
  },
  {
   "cell_type": "code",
   "execution_count": 7,
   "metadata": {},
   "outputs": [
    {
     "data": {
      "text/html": [
       "<table>\n",
       "<thead><tr><th></th><th scope=col>01005</th><th scope=col>01010</th><th scope=col>03002</th><th scope=col>04007</th></tr></thead>\n",
       "<tbody>\n",
       "\t<tr><th scope=row>1000_at</th><td>7.597323</td><td>7.479445</td><td>7.567593</td><td>7.905312</td></tr>\n",
       "\t<tr><th scope=row>1001_at</th><td>5.046194</td><td>4.932537</td><td>4.799294</td><td>4.844565</td></tr>\n",
       "\t<tr><th scope=row>1002_f_at</th><td>3.900466</td><td>4.208155</td><td>3.886169</td><td>3.416923</td></tr>\n",
       "\t<tr><th scope=row>1003_s_at</th><td>5.903856</td><td>6.169024</td><td>5.860459</td><td>5.687997</td></tr>\n",
       "</tbody>\n",
       "</table>\n"
      ],
      "text/latex": [
       "\\begin{tabular}{r|llll}\n",
       "  & 01005 & 01010 & 03002 & 04007\\\\\n",
       "\\hline\n",
       "\t1000\\_at & 7.597323 & 7.479445 & 7.567593 & 7.905312\\\\\n",
       "\t1001\\_at & 5.046194 & 4.932537 & 4.799294 & 4.844565\\\\\n",
       "\t1002\\_f\\_at & 3.900466 & 4.208155 & 3.886169 & 3.416923\\\\\n",
       "\t1003\\_s\\_at & 5.903856 & 6.169024 & 5.860459 & 5.687997\\\\\n",
       "\\end{tabular}\n"
      ],
      "text/markdown": [
       "\n",
       "| <!--/--> | 01005 | 01010 | 03002 | 04007 | \n",
       "|---|---|---|---|\n",
       "| 1000_at | 7.597323 | 7.479445 | 7.567593 | 7.905312 | \n",
       "| 1001_at | 5.046194 | 4.932537 | 4.799294 | 4.844565 | \n",
       "| 1002_f_at | 3.900466 | 4.208155 | 3.886169 | 3.416923 | \n",
       "| 1003_s_at | 5.903856 | 6.169024 | 5.860459 | 5.687997 | \n",
       "\n",
       "\n"
      ],
      "text/plain": [
       "          01005    01010    03002    04007   \n",
       "1000_at   7.597323 7.479445 7.567593 7.905312\n",
       "1001_at   5.046194 4.932537 4.799294 4.844565\n",
       "1002_f_at 3.900466 4.208155 3.886169 3.416923\n",
       "1003_s_at 5.903856 6.169024 5.860459 5.687997"
      ]
     },
     "metadata": {},
     "output_type": "display_data"
    }
   ],
   "source": [
    "exprs(all.eset)[1:4,1:4]"
   ]
  },
  {
   "cell_type": "markdown",
   "metadata": {},
   "source": [
    "As we often have more than one probe per gene, we compute gene expression values\n",
    "as the average of the corresponding probe values."
   ]
  },
  {
   "cell_type": "code",
   "execution_count": 8,
   "metadata": {},
   "outputs": [
    {
     "name": "stderr",
     "output_type": "stream",
     "text": [
      "Loading required package: hgu95av2.db\n",
      "\n"
     ]
    },
    {
     "data": {
      "text/html": [
       "<ol class=list-inline>\n",
       "\t<li>'5595'</li>\n",
       "\t<li>'7075'</li>\n",
       "\t<li>'1557'</li>\n",
       "\t<li>'643'</li>\n",
       "\t<li>'1843'</li>\n",
       "\t<li>'4319'</li>\n",
       "</ol>\n"
      ],
      "text/latex": [
       "\\begin{enumerate*}\n",
       "\\item '5595'\n",
       "\\item '7075'\n",
       "\\item '1557'\n",
       "\\item '643'\n",
       "\\item '1843'\n",
       "\\item '4319'\n",
       "\\end{enumerate*}\n"
      ],
      "text/markdown": [
       "1. '5595'\n",
       "2. '7075'\n",
       "3. '1557'\n",
       "4. '643'\n",
       "5. '1843'\n",
       "6. '4319'\n",
       "\n",
       "\n"
      ],
      "text/plain": [
       "[1] \"5595\" \"7075\" \"1557\" \"643\"  \"1843\" \"4319\""
      ]
     },
     "metadata": {},
     "output_type": "display_data"
    }
   ],
   "source": [
    "all.eset <- probe.2.gene.eset(all.eset) \n",
    "head(names(all.eset))"
   ]
  },
  {
   "cell_type": "markdown",
   "metadata": {},
   "source": [
    "For RNA-seq data, we consider transcriptome profiles of four primary human\n",
    "airway smooth muscle cell lines in two conditions: control and treatment with\n",
    "dexamethasone\n",
    "[Himes et al., 2014](https://doi.org/10.1371/journal.pone.0099625).\n",
    "\n",
    "We load the\n",
    "[airway](http://bioconductor.org/packages/airway)\n",
    "dataset"
   ]
  },
  {
   "cell_type": "code",
   "execution_count": 9,
   "metadata": {},
   "outputs": [],
   "source": [
    "library(airway)\n",
    "data(airway)"
   ]
  },
  {
   "cell_type": "markdown",
   "metadata": {},
   "source": [
    "For further analysis, we only keep genes that are annotated to an ENSEMBL gene ID."
   ]
  },
  {
   "cell_type": "code",
   "execution_count": 10,
   "metadata": {},
   "outputs": [
    {
     "data": {
      "text/html": [
       "<ol class=list-inline>\n",
       "\t<li>63677</li>\n",
       "\t<li>8</li>\n",
       "</ol>\n"
      ],
      "text/latex": [
       "\\begin{enumerate*}\n",
       "\\item 63677\n",
       "\\item 8\n",
       "\\end{enumerate*}\n"
      ],
      "text/markdown": [
       "1. 63677\n",
       "2. 8\n",
       "\n",
       "\n"
      ],
      "text/plain": [
       "[1] 63677     8"
      ]
     },
     "metadata": {},
     "output_type": "display_data"
    }
   ],
   "source": [
    "air.eset <- airway[grep(\"^ENSG\", names(airway)), ]\n",
    "dim(air.eset)"
   ]
  },
  {
   "cell_type": "code",
   "execution_count": 11,
   "metadata": {},
   "outputs": [
    {
     "data": {
      "text/html": [
       "<table>\n",
       "<thead><tr><th></th><th scope=col>SRR1039508</th><th scope=col>SRR1039509</th><th scope=col>SRR1039512</th><th scope=col>SRR1039513</th></tr></thead>\n",
       "<tbody>\n",
       "\t<tr><th scope=row>ENSG00000000003</th><td>679</td><td>448</td><td>873</td><td>408</td></tr>\n",
       "\t<tr><th scope=row>ENSG00000000005</th><td>  0</td><td>  0</td><td>  0</td><td>  0</td></tr>\n",
       "\t<tr><th scope=row>ENSG00000000419</th><td>467</td><td>515</td><td>621</td><td>365</td></tr>\n",
       "\t<tr><th scope=row>ENSG00000000457</th><td>260</td><td>211</td><td>263</td><td>164</td></tr>\n",
       "</tbody>\n",
       "</table>\n"
      ],
      "text/latex": [
       "\\begin{tabular}{r|llll}\n",
       "  & SRR1039508 & SRR1039509 & SRR1039512 & SRR1039513\\\\\n",
       "\\hline\n",
       "\tENSG00000000003 & 679 & 448 & 873 & 408\\\\\n",
       "\tENSG00000000005 &   0 &   0 &   0 &   0\\\\\n",
       "\tENSG00000000419 & 467 & 515 & 621 & 365\\\\\n",
       "\tENSG00000000457 & 260 & 211 & 263 & 164\\\\\n",
       "\\end{tabular}\n"
      ],
      "text/markdown": [
       "\n",
       "| <!--/--> | SRR1039508 | SRR1039509 | SRR1039512 | SRR1039513 | \n",
       "|---|---|---|---|\n",
       "| ENSG00000000003 | 679 | 448 | 873 | 408 | \n",
       "| ENSG00000000005 |   0 |   0 |   0 |   0 | \n",
       "| ENSG00000000419 | 467 | 515 | 621 | 365 | \n",
       "| ENSG00000000457 | 260 | 211 | 263 | 164 | \n",
       "\n",
       "\n"
      ],
      "text/plain": [
       "                SRR1039508 SRR1039509 SRR1039512 SRR1039513\n",
       "ENSG00000000003 679        448        873        408       \n",
       "ENSG00000000005   0          0          0          0       \n",
       "ENSG00000000419 467        515        621        365       \n",
       "ENSG00000000457 260        211        263        164       "
      ]
     },
     "metadata": {},
     "output_type": "display_data"
    }
   ],
   "source": [
    "assay(air.eset)[1:4,1:4]"
   ]
  },
  {
   "cell_type": "markdown",
   "metadata": {},
   "source": [
    "## Differential expression analysis\n",
    "\n",
    "Normalization of high-throughput expression data is essential to make results\n",
    "within and between experiments comparable. Microarray (intensity measurements)\n",
    "and RNA-seq (read counts) data typically show distinct features that need to be\n",
    "normalized for. As this is beyond the scope of this workshop, we refer to\n",
    "[limma](http://bioconductor.org/packages/limma)\n",
    "for microarray normalization and\n",
    "[EDASeq](http://bioconductor.org/packages/EDASeq)\n",
    "for RNA-seq normalization. See also `EnrichmentBrowser::normalize`, which wraps\n",
    "commonly used functionality for normalization.\n",
    "\n",
    "The EnrichmentBrowser incorporates established functionality from the \n",
    "[limma](http://bioconductor.org/packages/limma)\n",
    "package for differential expression analysis.\n",
    "This involves the `voom` transformation when applied to RNA-seq data. \n",
    "Alternatively, differential expression analysis for RNA-seq data can also be\n",
    "carried out based on the negative binomial distribution with\n",
    "[edgeR](http://bioconductor.org/packages/edgeR)\n",
    "and\n",
    "[DESeq2](http://bioconductor.org/packages/DESeq2).\n",
    "\n",
    "This can be performed using the function `EnrichmentBrowser::de.ana`\n",
    "and assumes some standardized variable names:\n",
    " \n",
    "- **GROUP** defines the sample groups being contrasted,\n",
    "- **BLOCK** defines paired samples or sample blocks, as e.g. for batch effects.\n",
    "\n",
    "For more information on experimental design, see the\n",
    "[limma user's guide](https://www.bioconductor.org/packages/devel/bioc/vignettes/limma/inst/doc/usersguide.pdf),\n",
    "chapter 9.  \n",
    "\n",
    "For the ALL dataset, the **GROUP** variable indicates whether the BCR-ABL gene\n",
    "fusion is present (1) or not (0)."
   ]
  },
  {
   "cell_type": "code",
   "execution_count": 12,
   "metadata": {},
   "outputs": [
    {
     "data": {
      "text/plain": [
       "\n",
       " 0  1 \n",
       "42 37 "
      ]
     },
     "metadata": {},
     "output_type": "display_data"
    }
   ],
   "source": [
    "all.eset$GROUP <- ifelse(all.eset$mol.biol == \"BCR/ABL\", 1, 0)\n",
    "table(all.eset$GROUP)"
   ]
  },
  {
   "cell_type": "markdown",
   "metadata": {},
   "source": [
    "For the airway dataset, it indicates whether the cell lines have been treated\n",
    "with dexamethasone (1) or not (0)."
   ]
  },
  {
   "cell_type": "code",
   "execution_count": 13,
   "metadata": {},
   "outputs": [
    {
     "data": {
      "text/plain": [
       "\n",
       "0 1 \n",
       "4 4 "
      ]
     },
     "metadata": {},
     "output_type": "display_data"
    }
   ],
   "source": [
    "air.eset$GROUP <- ifelse(colData(airway)$dex == \"trt\", 1, 0)\n",
    "table(air.eset$GROUP)"
   ]
  },
  {
   "cell_type": "markdown",
   "metadata": {},
   "source": [
    "Paired samples, or in general sample batches/blocks, can be defined via a\n",
    "`BLOCK` column in the `colData` slot. For the airway dataset, the sample blocks\n",
    "correspond to the four different cell lines."
   ]
  },
  {
   "cell_type": "code",
   "execution_count": 14,
   "metadata": {},
   "outputs": [
    {
     "data": {
      "text/plain": [
       "\n",
       "N052611 N061011 N080611  N61311 \n",
       "      2       2       2       2 "
      ]
     },
     "metadata": {},
     "output_type": "display_data"
    }
   ],
   "source": [
    "air.eset$BLOCK <- airway$cell\n",
    "table(air.eset$BLOCK)"
   ]
  },
  {
   "cell_type": "markdown",
   "metadata": {},
   "source": [
    "For microarray data, the `EnrichmentBrowser::de.ana` function carries out\n",
    "differential expression analysis based on functionality from the\n",
    "*limma* package. Resulting log2 fold changes and *t*-test derived\n",
    "*p*-values for each gene are appended to the `rowData` slot."
   ]
  },
  {
   "cell_type": "code",
   "execution_count": 15,
   "metadata": {},
   "outputs": [
    {
     "data": {
      "text/plain": [
       "DataFrame with 9010 rows and 3 columns\n",
       "               FC  ADJ.PVAL limma.STAT\n",
       "        <numeric> <numeric>  <numeric>\n",
       "5595   0.04296986 0.8992468  0.7346792\n",
       "7075   0.03208350 0.9490010  0.4546911\n",
       "1557  -0.04394014 0.8183301 -1.0657826\n",
       "643   -0.02775435 0.9291486 -0.5673944\n",
       "1843  -0.42730253 0.5660348 -1.7505023\n",
       "...           ...       ...        ...\n",
       "6300 -0.026651766 0.9228285 -0.6086089\n",
       "7297 -0.124257678 0.8045785 -1.1127949\n",
       "2246  0.052242886 0.7480210  1.2740842\n",
       "7850 -0.009082296 0.9918265 -0.1024063\n",
       "1593 -0.007477138 0.9895330 -0.1456503"
      ]
     },
     "metadata": {},
     "output_type": "display_data"
    }
   ],
   "source": [
    "all.eset <- de.ana(all.eset)\n",
    "rowData(all.eset, use.names=TRUE)"
   ]
  },
  {
   "cell_type": "markdown",
   "metadata": {},
   "source": [
    "Nominal *p*-values are already corrected for multiple testing (`ADJ.PVAL`)\n",
    "using the method from Benjamini and Hochberg implemented in `stats::p.adjust`.\n",
    "\n",
    "For RNA-seq data, the `de.ana` function can be used to carry out differential \n",
    "expression analysis between the two groups either based on functionality from\n",
    "*limma* (that includes the `voom` transformation), or\n",
    "alternatively, the frequently used *edgeR* or *DESeq2*\n",
    "package. Here, we use the analysis based on *edgeR*."
   ]
  },
  {
   "cell_type": "code",
   "execution_count": 16,
   "metadata": {},
   "outputs": [
    {
     "name": "stderr",
     "output_type": "stream",
     "text": [
      "Excluding 50740 genes not satisfying min.cpm threshold\n",
      "Loading required package: edgeR\n",
      "Loading required package: limma\n",
      "\n",
      "Attaching package: 'limma'\n",
      "\n",
      "The following object is masked from 'package:BiocGenerics':\n",
      "\n",
      "    plotMA\n",
      "\n"
     ]
    }
   ],
   "source": [
    "air.eset <- de.ana(air.eset, de.method=\"edgeR\")"
   ]
  },
  {
   "cell_type": "code",
   "execution_count": 17,
   "metadata": {},
   "outputs": [
    {
     "data": {
      "text/plain": [
       "DataFrame with 12937 rows and 3 columns\n",
       "                          FC    ADJ.PVAL   edgeR.STAT\n",
       "                   <numeric>   <numeric>    <numeric>\n",
       "ENSG00000000003  -0.40494563 0.002134583  35.87437100\n",
       "ENSG00000000419   0.18298543 0.091569195   5.90960620\n",
       "ENSG00000000457   0.01434777 0.922279475   0.02339233\n",
       "ENSG00000000460  -0.14117337 0.619013214   0.49292996\n",
       "ENSG00000000971   0.40224043 0.004038205  27.85099620\n",
       "...                      ...         ...          ...\n",
       "ENSG00000273270 -0.129793853 0.495892936 9.015984e-01\n",
       "ENSG00000273290  0.505580472 0.006392184 2.309057e+01\n",
       "ENSG00000273311  0.001615576 0.996356137 8.048212e-05\n",
       "ENSG00000273329 -0.222817127 0.388294594 1.427233e+00\n",
       "ENSG00000273344  0.015170401 0.962777106 5.435033e-03"
      ]
     },
     "metadata": {},
     "output_type": "display_data"
    }
   ],
   "source": [
    "rowData(air.eset, use.names=TRUE)"
   ]
  },
  {
   "cell_type": "markdown",
   "metadata": {},
   "source": [
    "*Exercise:* Compare the number of differentially expressed genes as obtained on the `air.eset` with `limma/voom`, `edgeR`, and `DESeq2`. \n",
    "\n",
    "\n",
    "\n",
    "## Gene sets\n",
    "\n",
    "We are now interested in whether pre-defined sets of genes that are known to \n",
    "work together, e.g. as defined in the [Gene Ontology](http://www.geneontology.org) \n",
    "or the [KEGG](http://www.genome.jp/kegg) pathway annotation, are coordinately \n",
    "differentially expressed. The function `get.kegg.genesets` downloads all KEGG \n",
    "pathways for a chosen organism (here: *Homo sapiens*) as gene sets using NCBI \n",
    "Entrez Gene IDs."
   ]
  },
  {
   "cell_type": "code",
   "execution_count": 18,
   "metadata": {},
   "outputs": [],
   "source": [
    "kegg.gs <- get.kegg.genesets(\"hsa\")"
   ]
  },
  {
   "cell_type": "markdown",
   "metadata": {},
   "source": [
    "Analogously, the function `get.go.genesets` retrieves GO terms of a selected\n",
    "ontology (here: biological process, BP) as defined in the *GO.db*\n",
    "annotation package."
   ]
  },
  {
   "cell_type": "code",
   "execution_count": 19,
   "metadata": {},
   "outputs": [],
   "source": [
    "go.gs <- get.go.genesets(org=\"hsa\", onto=\"BP\", mode=\"GO.db\")"
   ]
  },
  {
   "cell_type": "markdown",
   "metadata": {},
   "source": [
    "User-defined gene sets can be parsed from GMT file format.\n",
    "Here, we are using this functionality for reading a list of already downloaded\n",
    "KEGG gene sets for *Homo sapiens* containing NCBI Entrez Gene IDs."
   ]
  },
  {
   "cell_type": "code",
   "execution_count": 20,
   "metadata": {},
   "outputs": [
    {
     "data": {
      "text/html": [
       "39"
      ],
      "text/latex": [
       "39"
      ],
      "text/markdown": [
       "39"
      ],
      "text/plain": [
       "[1] 39"
      ]
     },
     "metadata": {},
     "output_type": "display_data"
    }
   ],
   "source": [
    "data.dir <- system.file(\"extdata\", package=\"EnrichmentBrowser\")\n",
    "gmt.file <- file.path(data.dir, \"hsa_kegg_gs.gmt\")\n",
    "hsa.gs <- parse.genesets.from.GMT(gmt.file)\n",
    "length(hsa.gs)"
   ]
  },
  {
   "cell_type": "code",
   "execution_count": 21,
   "metadata": {},
   "outputs": [
    {
     "data": {
      "text/html": [
       "<dl>\n",
       "\t<dt>$hsa05416_Viral_myocarditis</dt>\n",
       "\t\t<dd><ol class=list-inline>\n",
       "\t<li>'100509457'</li>\n",
       "\t<li>'101060835'</li>\n",
       "\t<li>'1525'</li>\n",
       "\t<li>'1604'</li>\n",
       "\t<li>'1605'</li>\n",
       "\t<li>'1756'</li>\n",
       "\t<li>'1981'</li>\n",
       "\t<li>'1982'</li>\n",
       "\t<li>'25'</li>\n",
       "\t<li>'2534'</li>\n",
       "\t<li>'27'</li>\n",
       "\t<li>'3105'</li>\n",
       "\t<li>'3106'</li>\n",
       "\t<li>'3107'</li>\n",
       "\t<li>'3108'</li>\n",
       "\t<li>'3109'</li>\n",
       "\t<li>'3111'</li>\n",
       "\t<li>'3112'</li>\n",
       "\t<li>'3113'</li>\n",
       "\t<li>'3115'</li>\n",
       "\t<li>'3117'</li>\n",
       "\t<li>'3118'</li>\n",
       "\t<li>'3119'</li>\n",
       "\t<li>'3122'</li>\n",
       "\t<li>'3123'</li>\n",
       "\t<li>'3125'</li>\n",
       "\t<li>'3126'</li>\n",
       "\t<li>'3127'</li>\n",
       "\t<li>'3133'</li>\n",
       "\t<li>'3134'</li>\n",
       "\t<li>'3135'</li>\n",
       "\t<li>'3383'</li>\n",
       "\t<li>'3683'</li>\n",
       "\t<li>'3689'</li>\n",
       "\t<li>'3908'</li>\n",
       "\t<li>'4624'</li>\n",
       "\t<li>'4625'</li>\n",
       "\t<li>'54205'</li>\n",
       "\t<li>'5551'</li>\n",
       "\t<li>'5879'</li>\n",
       "\t<li>'5880'</li>\n",
       "\t<li>'5881'</li>\n",
       "\t<li>'595'</li>\n",
       "\t<li>'60'</li>\n",
       "\t<li>'637'</li>\n",
       "\t<li>'6442'</li>\n",
       "\t<li>'6443'</li>\n",
       "\t<li>'6444'</li>\n",
       "\t<li>'6445'</li>\n",
       "\t<li>'71'</li>\n",
       "\t<li>'836'</li>\n",
       "\t<li>'841'</li>\n",
       "\t<li>'842'</li>\n",
       "\t<li>'857'</li>\n",
       "\t<li>'8672'</li>\n",
       "\t<li>'940'</li>\n",
       "\t<li>'941'</li>\n",
       "\t<li>'942'</li>\n",
       "\t<li>'958'</li>\n",
       "\t<li>'959'</li>\n",
       "</ol>\n",
       "</dd>\n",
       "\t<dt>$`hsa04622_RIG-I-like_receptor_signaling_pathway`</dt>\n",
       "\t\t<dd><ol class=list-inline>\n",
       "\t<li>'10010'</li>\n",
       "\t<li>'1147'</li>\n",
       "\t<li>'1432'</li>\n",
       "\t<li>'1540'</li>\n",
       "\t<li>'1654'</li>\n",
       "\t<li>'23586'</li>\n",
       "\t<li>'26007'</li>\n",
       "\t<li>'29110'</li>\n",
       "\t<li>'338376'</li>\n",
       "\t<li>'340061'</li>\n",
       "\t<li>'3439'</li>\n",
       "\t<li>'3440'</li>\n",
       "\t<li>'3441'</li>\n",
       "\t<li>'3442'</li>\n",
       "\t<li>'3443'</li>\n",
       "\t<li>'3444'</li>\n",
       "\t<li>'3445'</li>\n",
       "\t<li>'3446'</li>\n",
       "\t<li>'3447'</li>\n",
       "\t<li>'3448'</li>\n",
       "\t<li>'3449'</li>\n",
       "\t<li>'3451'</li>\n",
       "\t<li>'3452'</li>\n",
       "\t<li>'3456'</li>\n",
       "\t<li>'3467'</li>\n",
       "\t<li>'3551'</li>\n",
       "\t<li>'3576'</li>\n",
       "\t<li>'3592'</li>\n",
       "\t<li>'3593'</li>\n",
       "\t<li>'3627'</li>\n",
       "\t<li>'3661'</li>\n",
       "\t<li>'3665'</li>\n",
       "\t<li>'4214'</li>\n",
       "\t<li>'4790'</li>\n",
       "\t<li>'4792'</li>\n",
       "\t<li>'4793'</li>\n",
       "\t<li>'5300'</li>\n",
       "\t<li>'54941'</li>\n",
       "\t<li>'55593'</li>\n",
       "\t<li>'5599'</li>\n",
       "\t<li>'5600'</li>\n",
       "\t<li>'5601'</li>\n",
       "\t<li>'5602'</li>\n",
       "\t<li>'5603'</li>\n",
       "\t<li>'56832'</li>\n",
       "\t<li>'57506'</li>\n",
       "\t<li>'5970'</li>\n",
       "\t<li>'6300'</li>\n",
       "\t<li>'64135'</li>\n",
       "\t<li>'64343'</li>\n",
       "\t<li>'6885'</li>\n",
       "\t<li>'7124'</li>\n",
       "\t<li>'7186'</li>\n",
       "\t<li>'7187'</li>\n",
       "\t<li>'7189'</li>\n",
       "\t<li>'7706'</li>\n",
       "\t<li>'79132'</li>\n",
       "\t<li>'79671'</li>\n",
       "\t<li>'80143'</li>\n",
       "\t<li>'841'</li>\n",
       "\t<li>'843'</li>\n",
       "\t<li>'8517'</li>\n",
       "\t<li>'8717'</li>\n",
       "\t<li>'8737'</li>\n",
       "\t<li>'8772'</li>\n",
       "\t<li>'9140'</li>\n",
       "\t<li>'9474'</li>\n",
       "\t<li>'9636'</li>\n",
       "\t<li>'9641'</li>\n",
       "\t<li>'9755'</li>\n",
       "</ol>\n",
       "</dd>\n",
       "</dl>\n"
      ],
      "text/latex": [
       "\\begin{description}\n",
       "\\item[\\$hsa05416\\_Viral\\_myocarditis] \\begin{enumerate*}\n",
       "\\item '100509457'\n",
       "\\item '101060835'\n",
       "\\item '1525'\n",
       "\\item '1604'\n",
       "\\item '1605'\n",
       "\\item '1756'\n",
       "\\item '1981'\n",
       "\\item '1982'\n",
       "\\item '25'\n",
       "\\item '2534'\n",
       "\\item '27'\n",
       "\\item '3105'\n",
       "\\item '3106'\n",
       "\\item '3107'\n",
       "\\item '3108'\n",
       "\\item '3109'\n",
       "\\item '3111'\n",
       "\\item '3112'\n",
       "\\item '3113'\n",
       "\\item '3115'\n",
       "\\item '3117'\n",
       "\\item '3118'\n",
       "\\item '3119'\n",
       "\\item '3122'\n",
       "\\item '3123'\n",
       "\\item '3125'\n",
       "\\item '3126'\n",
       "\\item '3127'\n",
       "\\item '3133'\n",
       "\\item '3134'\n",
       "\\item '3135'\n",
       "\\item '3383'\n",
       "\\item '3683'\n",
       "\\item '3689'\n",
       "\\item '3908'\n",
       "\\item '4624'\n",
       "\\item '4625'\n",
       "\\item '54205'\n",
       "\\item '5551'\n",
       "\\item '5879'\n",
       "\\item '5880'\n",
       "\\item '5881'\n",
       "\\item '595'\n",
       "\\item '60'\n",
       "\\item '637'\n",
       "\\item '6442'\n",
       "\\item '6443'\n",
       "\\item '6444'\n",
       "\\item '6445'\n",
       "\\item '71'\n",
       "\\item '836'\n",
       "\\item '841'\n",
       "\\item '842'\n",
       "\\item '857'\n",
       "\\item '8672'\n",
       "\\item '940'\n",
       "\\item '941'\n",
       "\\item '942'\n",
       "\\item '958'\n",
       "\\item '959'\n",
       "\\end{enumerate*}\n",
       "\n",
       "\\item[\\$`hsa04622\\_RIG-I-like\\_receptor\\_signaling\\_pathway`] \\begin{enumerate*}\n",
       "\\item '10010'\n",
       "\\item '1147'\n",
       "\\item '1432'\n",
       "\\item '1540'\n",
       "\\item '1654'\n",
       "\\item '23586'\n",
       "\\item '26007'\n",
       "\\item '29110'\n",
       "\\item '338376'\n",
       "\\item '340061'\n",
       "\\item '3439'\n",
       "\\item '3440'\n",
       "\\item '3441'\n",
       "\\item '3442'\n",
       "\\item '3443'\n",
       "\\item '3444'\n",
       "\\item '3445'\n",
       "\\item '3446'\n",
       "\\item '3447'\n",
       "\\item '3448'\n",
       "\\item '3449'\n",
       "\\item '3451'\n",
       "\\item '3452'\n",
       "\\item '3456'\n",
       "\\item '3467'\n",
       "\\item '3551'\n",
       "\\item '3576'\n",
       "\\item '3592'\n",
       "\\item '3593'\n",
       "\\item '3627'\n",
       "\\item '3661'\n",
       "\\item '3665'\n",
       "\\item '4214'\n",
       "\\item '4790'\n",
       "\\item '4792'\n",
       "\\item '4793'\n",
       "\\item '5300'\n",
       "\\item '54941'\n",
       "\\item '55593'\n",
       "\\item '5599'\n",
       "\\item '5600'\n",
       "\\item '5601'\n",
       "\\item '5602'\n",
       "\\item '5603'\n",
       "\\item '56832'\n",
       "\\item '57506'\n",
       "\\item '5970'\n",
       "\\item '6300'\n",
       "\\item '64135'\n",
       "\\item '64343'\n",
       "\\item '6885'\n",
       "\\item '7124'\n",
       "\\item '7186'\n",
       "\\item '7187'\n",
       "\\item '7189'\n",
       "\\item '7706'\n",
       "\\item '79132'\n",
       "\\item '79671'\n",
       "\\item '80143'\n",
       "\\item '841'\n",
       "\\item '843'\n",
       "\\item '8517'\n",
       "\\item '8717'\n",
       "\\item '8737'\n",
       "\\item '8772'\n",
       "\\item '9140'\n",
       "\\item '9474'\n",
       "\\item '9636'\n",
       "\\item '9641'\n",
       "\\item '9755'\n",
       "\\end{enumerate*}\n",
       "\n",
       "\\end{description}\n"
      ],
      "text/markdown": [
       "$hsa05416_Viral_myocarditis\n",
       ":   1. '100509457'\n",
       "2. '101060835'\n",
       "3. '1525'\n",
       "4. '1604'\n",
       "5. '1605'\n",
       "6. '1756'\n",
       "7. '1981'\n",
       "8. '1982'\n",
       "9. '25'\n",
       "10. '2534'\n",
       "11. '27'\n",
       "12. '3105'\n",
       "13. '3106'\n",
       "14. '3107'\n",
       "15. '3108'\n",
       "16. '3109'\n",
       "17. '3111'\n",
       "18. '3112'\n",
       "19. '3113'\n",
       "20. '3115'\n",
       "21. '3117'\n",
       "22. '3118'\n",
       "23. '3119'\n",
       "24. '3122'\n",
       "25. '3123'\n",
       "26. '3125'\n",
       "27. '3126'\n",
       "28. '3127'\n",
       "29. '3133'\n",
       "30. '3134'\n",
       "31. '3135'\n",
       "32. '3383'\n",
       "33. '3683'\n",
       "34. '3689'\n",
       "35. '3908'\n",
       "36. '4624'\n",
       "37. '4625'\n",
       "38. '54205'\n",
       "39. '5551'\n",
       "40. '5879'\n",
       "41. '5880'\n",
       "42. '5881'\n",
       "43. '595'\n",
       "44. '60'\n",
       "45. '637'\n",
       "46. '6442'\n",
       "47. '6443'\n",
       "48. '6444'\n",
       "49. '6445'\n",
       "50. '71'\n",
       "51. '836'\n",
       "52. '841'\n",
       "53. '842'\n",
       "54. '857'\n",
       "55. '8672'\n",
       "56. '940'\n",
       "57. '941'\n",
       "58. '942'\n",
       "59. '958'\n",
       "60. '959'\n",
       "\n",
       "\n",
       "\n",
       "$`hsa04622_RIG-I-like_receptor_signaling_pathway`\n",
       ":   1. '10010'\n",
       "2. '1147'\n",
       "3. '1432'\n",
       "4. '1540'\n",
       "5. '1654'\n",
       "6. '23586'\n",
       "7. '26007'\n",
       "8. '29110'\n",
       "9. '338376'\n",
       "10. '340061'\n",
       "11. '3439'\n",
       "12. '3440'\n",
       "13. '3441'\n",
       "14. '3442'\n",
       "15. '3443'\n",
       "16. '3444'\n",
       "17. '3445'\n",
       "18. '3446'\n",
       "19. '3447'\n",
       "20. '3448'\n",
       "21. '3449'\n",
       "22. '3451'\n",
       "23. '3452'\n",
       "24. '3456'\n",
       "25. '3467'\n",
       "26. '3551'\n",
       "27. '3576'\n",
       "28. '3592'\n",
       "29. '3593'\n",
       "30. '3627'\n",
       "31. '3661'\n",
       "32. '3665'\n",
       "33. '4214'\n",
       "34. '4790'\n",
       "35. '4792'\n",
       "36. '4793'\n",
       "37. '5300'\n",
       "38. '54941'\n",
       "39. '55593'\n",
       "40. '5599'\n",
       "41. '5600'\n",
       "42. '5601'\n",
       "43. '5602'\n",
       "44. '5603'\n",
       "45. '56832'\n",
       "46. '57506'\n",
       "47. '5970'\n",
       "48. '6300'\n",
       "49. '64135'\n",
       "50. '64343'\n",
       "51. '6885'\n",
       "52. '7124'\n",
       "53. '7186'\n",
       "54. '7187'\n",
       "55. '7189'\n",
       "56. '7706'\n",
       "57. '79132'\n",
       "58. '79671'\n",
       "59. '80143'\n",
       "60. '841'\n",
       "61. '843'\n",
       "62. '8517'\n",
       "63. '8717'\n",
       "64. '8737'\n",
       "65. '8772'\n",
       "66. '9140'\n",
       "67. '9474'\n",
       "68. '9636'\n",
       "69. '9641'\n",
       "70. '9755'\n",
       "\n",
       "\n",
       "\n",
       "\n",
       "\n"
      ],
      "text/plain": [
       "$hsa05416_Viral_myocarditis\n",
       " [1] \"100509457\" \"101060835\" \"1525\"      \"1604\"      \"1605\"      \"1756\"     \n",
       " [7] \"1981\"      \"1982\"      \"25\"        \"2534\"      \"27\"        \"3105\"     \n",
       "[13] \"3106\"      \"3107\"      \"3108\"      \"3109\"      \"3111\"      \"3112\"     \n",
       "[19] \"3113\"      \"3115\"      \"3117\"      \"3118\"      \"3119\"      \"3122\"     \n",
       "[25] \"3123\"      \"3125\"      \"3126\"      \"3127\"      \"3133\"      \"3134\"     \n",
       "[31] \"3135\"      \"3383\"      \"3683\"      \"3689\"      \"3908\"      \"4624\"     \n",
       "[37] \"4625\"      \"54205\"     \"5551\"      \"5879\"      \"5880\"      \"5881\"     \n",
       "[43] \"595\"       \"60\"        \"637\"       \"6442\"      \"6443\"      \"6444\"     \n",
       "[49] \"6445\"      \"71\"        \"836\"       \"841\"       \"842\"       \"857\"      \n",
       "[55] \"8672\"      \"940\"       \"941\"       \"942\"       \"958\"       \"959\"      \n",
       "\n",
       "$`hsa04622_RIG-I-like_receptor_signaling_pathway`\n",
       " [1] \"10010\"  \"1147\"   \"1432\"   \"1540\"   \"1654\"   \"23586\"  \"26007\"  \"29110\" \n",
       " [9] \"338376\" \"340061\" \"3439\"   \"3440\"   \"3441\"   \"3442\"   \"3443\"   \"3444\"  \n",
       "[17] \"3445\"   \"3446\"   \"3447\"   \"3448\"   \"3449\"   \"3451\"   \"3452\"   \"3456\"  \n",
       "[25] \"3467\"   \"3551\"   \"3576\"   \"3592\"   \"3593\"   \"3627\"   \"3661\"   \"3665\"  \n",
       "[33] \"4214\"   \"4790\"   \"4792\"   \"4793\"   \"5300\"   \"54941\"  \"55593\"  \"5599\"  \n",
       "[41] \"5600\"   \"5601\"   \"5602\"   \"5603\"   \"56832\"  \"57506\"  \"5970\"   \"6300\"  \n",
       "[49] \"64135\"  \"64343\"  \"6885\"   \"7124\"   \"7186\"   \"7187\"   \"7189\"   \"7706\"  \n",
       "[57] \"79132\"  \"79671\"  \"80143\"  \"841\"    \"843\"    \"8517\"   \"8717\"   \"8737\"  \n",
       "[65] \"8772\"   \"9140\"   \"9474\"   \"9636\"   \"9641\"   \"9755\"  \n"
      ]
     },
     "metadata": {},
     "output_type": "display_data"
    }
   ],
   "source": [
    "hsa.gs[1:2]"
   ]
  },
  {
   "cell_type": "markdown",
   "metadata": {},
   "source": [
    "See also the [MSigDb](http://software.broadinstitute.org/gsea/msigdb) for\n",
    "additional gene set collections.\n",
    "\n",
    "## GO/KEGG overrepresentation analysis\n",
    "\n",
    "A variety of gene set analysis methods have been proposed\n",
    "[Khatri et al., 2012](https://doi.org/10.1371/journal.pcbi.1002375).\n",
    "The most basic, yet frequently used, method is the over-representation analysis\n",
    "(ORA) with gene sets defined according to GO or KEGG.\n",
    "As outlined in the first section, ORA tests the overlap between DE genes\n",
    "(typically DE *p*-value < 0.05) and genes in a gene set based on the \n",
    "hypergeometric distribution.\n",
    "Here, we choose a significance level $\\alpha = 0.2$ for demonstration."
   ]
  },
  {
   "cell_type": "code",
   "execution_count": 22,
   "metadata": {},
   "outputs": [
    {
     "data": {
      "text/plain": [
       "DataFrame with 7 rows and 4 columns\n",
       "                                                         GENE.SET  NR.GENES\n",
       "                                                      <character> <numeric>\n",
       "1                hsa05202_Transcriptional_misregulation_in_cancer       153\n",
       "2 hsa05412_Arrhythmogenic_right_ventricular_cardiomyopathy_(ARVC)        63\n",
       "3                                                hsa05144_Malaria        45\n",
       "4                   hsa04670_Leukocyte_transendothelial_migration        94\n",
       "5                 hsa05100_Bacterial_invasion_of_epithelial_cells        64\n",
       "6                  hsa04622_RIG-I-like_receptor_signaling_pathway        54\n",
       "7                  hsa05130_Pathogenic_Escherichia_coli_infection        43\n",
       "  NR.SIG.GENES   P.VALUE\n",
       "     <numeric> <numeric>\n",
       "1           17    0.0351\n",
       "2            8    0.0717\n",
       "3            6    0.0932\n",
       "4           10    0.1220\n",
       "5            7    0.1620\n",
       "6            6    0.1780\n",
       "7            5    0.1840"
      ]
     },
     "metadata": {},
     "output_type": "display_data"
    }
   ],
   "source": [
    "ora.all <- sbea(method=\"ora\", eset=all.eset, gs=hsa.gs, perm=0, alpha=0.2)\n",
    "gs.ranking(ora.all)"
   ]
  },
  {
   "cell_type": "markdown",
   "metadata": {},
   "source": [
    "Such a ranked list is the standard output of most existing enrichment tools.\n",
    "Using the `ea.browse` function creates a HTML summary from which each\n",
    "gene set can be inspected in more detail.\n",
    "\n",
    "<img src=\"https://github.com/waldronlab/BrownCOBRE2018/blob/master/notebooks_day2/EnrichmentBrowserNavigation.png?raw=true\", alt=\"EnrichmentBrowserNavigation image\", style=\"width:600px\">"
   ]
  },
  {
   "cell_type": "code",
   "execution_count": 23,
   "metadata": {},
   "outputs": [
    {
     "name": "stderr",
     "output_type": "stream",
     "text": [
      "Creating gene report ...\n",
      "Creating set view ...\n",
      "Creating kegg view ...\n"
     ]
    }
   ],
   "source": [
    "ea.browse(ora.all)"
   ]
  },
  {
   "cell_type": "markdown",
   "metadata": {},
   "source": [
    "The resulting summary page includes for each significant gene set\n",
    "\n",
    "- a gene report, which lists all genes of a set along with fold change and DE\n",
    "$p$-value (click on links in column `NR.GENES`),\n",
    "- interactive overview plots such as heatmap and volcano plot (column\n",
    "`SET.VIEW`, supports mouse-over and click-on),\n",
    "- for KEGG pathways: highlighting of differentially expressed genes on the\n",
    "pathway maps (column `PATH.VIEW`, supports mouse-over and click-on).\n",
    "\n",
    "As ORA works on the list of DE genes and not the actual expression values, it\n",
    "can be straightforward applied to RNA-seq data. However, as the gene sets here\n",
    "contain NCBI Entrez gene IDs and the airway dataset contains ENSEMBL gene ids,\n",
    "we first map the airway dataset to Entrez IDs."
   ]
  },
  {
   "cell_type": "code",
   "execution_count": 24,
   "metadata": {},
   "outputs": [
    {
     "name": "stderr",
     "output_type": "stream",
     "text": [
      "'select()' returned 1:many mapping between keys and columns\n",
      "Excluded 1141 genes without a corresponding to.ID\n",
      "Encountered 15 from.IDs with >1 corresponding to.ID (a single to.ID was chosen for each of them)\n"
     ]
    }
   ],
   "source": [
    "air.eset <- map.ids(air.eset, org=\"hsa\", from=\"ENSEMBL\", to=\"ENTREZID\")"
   ]
  },
  {
   "cell_type": "code",
   "execution_count": 25,
   "metadata": {},
   "outputs": [
    {
     "data": {
      "text/plain": [
       "DataFrame with 9 rows and 4 columns\n",
       "                                                         GENE.SET  NR.GENES\n",
       "                                                      <character> <numeric>\n",
       "1                                    hsa05206_MicroRNAs_in_cancer       118\n",
       "2                                               hsa05218_Melanoma        50\n",
       "3                                                 hsa05214_Glioma        47\n",
       "4                                            hsa05131_Shigellosis        53\n",
       "5                      hsa05410_Hypertrophic_cardiomyopathy_(HCM)        53\n",
       "6                   hsa04670_Leukocyte_transendothelial_migration        62\n",
       "7                 hsa05100_Bacterial_invasion_of_epithelial_cells        60\n",
       "8                         hsa04514_Cell_adhesion_molecules_(CAMs)        60\n",
       "9 hsa05412_Arrhythmogenic_right_ventricular_cardiomyopathy_(ARVC)        48\n",
       "  NR.SIG.GENES   P.VALUE\n",
       "     <numeric> <numeric>\n",
       "1           68  0.000523\n",
       "2           33  0.000674\n",
       "3           30  0.002660\n",
       "4           31  0.014400\n",
       "5           31  0.014400\n",
       "6           34  0.035700\n",
       "7           33  0.036500\n",
       "8           33  0.036500\n",
       "9           27  0.040600"
      ]
     },
     "metadata": {},
     "output_type": "display_data"
    }
   ],
   "source": [
    "ora.air <- sbea(method=\"ora\", eset=air.eset, gs=hsa.gs, perm=0)\n",
    "gs.ranking(ora.air)"
   ]
  },
  {
   "cell_type": "markdown",
   "metadata": {},
   "source": [
    "Note #1: [Young et al., 2010](https://doi.org/10.1186/gb-2010-11-2-r14), have\n",
    "reported biased results for ORA on RNA-seq data due to over-detection of\n",
    "differential expression for long and highly expressed transcripts. The\n",
    "[goseq](http://bioconductor.org/packages/goseq)\n",
    "package and `limma::goana` implement possibilities to adjust ORA for gene length\n",
    "and abundance bias.\n",
    "\n",
    "Note #2: Independent of the expression data type under investigation, overlap\n",
    "between gene sets can result in redundant findings. This is well-documented for\n",
    "GO (parent-child structure,\n",
    "[Rhee et al., 2008](https://doi.org/10.1038/nrg2363)) and KEGG (pathway\n",
    "overlap/crosstalk,\n",
    "[Donato et al., 2013](https://doi.org/10.1101/gr.153551.112)). The\n",
    "[topGO](http://bioconductor.org/packages/topGO)\n",
    "package (explicitly designed for GO) and\n",
    "[mgsa](http://bioconductor.org/packages/mgsa)\n",
    "(applicable to arbitrary gene set definitions) implement\n",
    "modifications of ORA to account for such redundancies.\n",
    "\n",
    "## Functional class scoring & permutation testing\n",
    "\n",
    "A major limitation of ORA is that it restricts analysis to DE genes, excluding\n",
    "genes not satisfying the chosen significance threshold (typically the vast\n",
    "majority).\n",
    "\n",
    "This is resolved by gene set enrichment analysis (GSEA), which scores the\n",
    "tendency of gene set members to appear rather at the top or bottom of the\n",
    "ranked list of all measured genes\n",
    "[Subramanian et al., 2005](https://doi.org/10.1073/pnas.0506580102). The\n",
    "statistical significance of the enrichment score (ES) of a gene set is assessed\n",
    "via sample permutation, i.e. (1) sample labels (= group assignment) are\n",
    "shuffled, (2) per-gene DE statistics are recomputed, and (3) the enrichment\n",
    "score is recomputed. Repeating this procedure many times allows to determine\n",
    "the empirical distribution of the enrichment score and to compare the observed\n",
    "enrichment score against it. Here, we carry out GSEA with 1000 permutations."
   ]
  },
  {
   "cell_type": "code",
   "execution_count": 26,
   "metadata": {},
   "outputs": [
    {
     "name": "stderr",
     "output_type": "stream",
     "text": [
      "Permutations: 1 -- 100\n",
      "Permutations: 101 -- 200\n",
      "Permutations: 201 -- 300\n",
      "Permutations: 301 -- 400\n",
      "Permutations: 401 -- 500\n",
      "Permutations: 501 -- 600\n",
      "Permutations: 601 -- 700\n",
      "Permutations: 701 -- 800\n",
      "Permutations: 801 -- 900\n",
      "Permutations: 901 -- 1000\n",
      "Processing ...\n"
     ]
    }
   ],
   "source": [
    "gsea.all <- sbea(method=\"gsea\", eset=all.eset, gs=hsa.gs, perm=1000)  "
   ]
  },
  {
   "cell_type": "code",
   "execution_count": 27,
   "metadata": {},
   "outputs": [
    {
     "data": {
      "text/plain": [
       "DataFrame with 20 rows and 4 columns\n",
       "                                                           GENE.SET        ES\n",
       "                                                        <character> <numeric>\n",
       "1   hsa05412_Arrhythmogenic_right_ventricular_cardiomyopathy_(ARVC)     0.511\n",
       "2                     hsa04670_Leukocyte_transendothelial_migration     0.499\n",
       "3                                        hsa04520_Adherens_junction     0.488\n",
       "4                                  hsa04390_Hippo_signaling_pathway     0.459\n",
       "5                                     hsa05323_Rheumatoid_arthritis     0.574\n",
       "...                                                             ...       ...\n",
       "16                                    hsa05217_Basal_cell_carcinoma     0.559\n",
       "17                                               hsa04210_Apoptosis     0.424\n",
       "18                   hsa05130_Pathogenic_Escherichia_coli_infection     0.486\n",
       "19                       hsa05410_Hypertrophic_cardiomyopathy_(HCM)     0.386\n",
       "20                                             hsa05131_Shigellosis     0.479\n",
       "          NES   P.VALUE\n",
       "    <numeric> <numeric>\n",
       "1        1.92    0.0000\n",
       "2        1.78    0.0000\n",
       "3        1.74    0.0000\n",
       "4        1.67    0.0000\n",
       "5        1.66    0.0019\n",
       "...       ...       ...\n",
       "16       1.64    0.0248\n",
       "17       1.44    0.0336\n",
       "18       1.54    0.0347\n",
       "19       1.45    0.0406\n",
       "20       1.49    0.0436"
      ]
     },
     "metadata": {},
     "output_type": "display_data"
    }
   ],
   "source": [
    "gs.ranking(gsea.all)"
   ]
  },
  {
   "cell_type": "markdown",
   "metadata": {},
   "source": [
    "As GSEA's permutation procedure involves re-computation of per-gene DE\n",
    "statistics, adaptations are necessary for RNA-seq. The EnrichmentBrowser\n",
    "implements an accordingly adapted version of GSEA, which allows incorporation\n",
    "of limma/voom, edgeR, or DESeq2 for repeated DE re-computation within GSEA.\n",
    "However, this is computationally intensive (for limma/voom the least, for\n",
    "DESeq2 the most). Note the relatively long running times for only 100\n",
    "permutations having used edgeR for DE analysis."
   ]
  },
  {
   "cell_type": "code",
   "execution_count": 28,
   "metadata": {},
   "outputs": [
    {
     "name": "stdout",
     "output_type": "stream",
     "text": [
      "100 permutations completed\n"
     ]
    }
   ],
   "source": [
    "gsea.air <- sbea(method=\"gsea\", eset=air.eset, gs=hsa.gs, perm=100)  "
   ]
  },
  {
   "cell_type": "markdown",
   "metadata": {},
   "source": [
    "While it might be in some cases necessary to apply permutation-based GSEA for\n",
    "RNA-seq data, there are also alternatives avoiding permutation. Among them is\n",
    "ROtAtion gene Set Testing (ROAST), which uses rotation instead of permutation\n",
    "[Wu et al., 2010](https://doi.org/10.1093/bioinformatics/btq401)."
   ]
  },
  {
   "cell_type": "code",
   "execution_count": 29,
   "metadata": {},
   "outputs": [
    {
     "data": {
      "text/plain": [
       "DataFrame with 27 rows and 4 columns\n",
       "                                        GENE.SET  NR.GENES       DIR   P.VALUE\n",
       "                                     <character> <numeric> <numeric> <numeric>\n",
       "1     hsa05410_Hypertrophic_cardiomyopathy_(HCM)        53         1     0.001\n",
       "2                         hsa05134_Legionellosis        35         1     0.001\n",
       "3                     hsa05416_Viral_myocarditis        33         1     0.001\n",
       "4                   hsa00790_Folate_biosynthesis        11         1     0.001\n",
       "5            hsa03420_Nucleotide_excision_repair        42        -1     0.001\n",
       "...                                          ...       ...       ...       ...\n",
       "23               hsa04150_mTOR_signaling_pathway        50         1     0.027\n",
       "24           hsa04350_TGF-beta_signaling_pathway        63         1     0.029\n",
       "25              hsa00561_Glycerolipid_metabolism        39         1     0.032\n",
       "26  hsa04621_NOD-like_receptor_signaling_pathway        40        -1     0.033\n",
       "27       hsa04514_Cell_adhesion_molecules_(CAMs)        60        -1     0.035"
      ]
     },
     "metadata": {},
     "output_type": "display_data"
    }
   ],
   "source": [
    "roast.air <- sbea(method=\"roast\", eset=air.eset, gs=hsa.gs)\n",
    "gs.ranking(roast.air)  "
   ]
  },
  {
   "cell_type": "markdown",
   "metadata": {},
   "source": [
    "A selection of additional methods is also available:"
   ]
  },
  {
   "cell_type": "code",
   "execution_count": 30,
   "metadata": {},
   "outputs": [
    {
     "data": {
      "text/html": [
       "<ol class=list-inline>\n",
       "\t<li>'ora'</li>\n",
       "\t<li>'safe'</li>\n",
       "\t<li>'gsea'</li>\n",
       "\t<li>'samgs'</li>\n",
       "\t<li>'ebm'</li>\n",
       "\t<li>'mgsa'</li>\n",
       "\t<li>'gsa'</li>\n",
       "\t<li>'padog'</li>\n",
       "\t<li>'globaltest'</li>\n",
       "\t<li>'roast'</li>\n",
       "\t<li>'camera'</li>\n",
       "\t<li>'gsva'</li>\n",
       "</ol>\n"
      ],
      "text/latex": [
       "\\begin{enumerate*}\n",
       "\\item 'ora'\n",
       "\\item 'safe'\n",
       "\\item 'gsea'\n",
       "\\item 'samgs'\n",
       "\\item 'ebm'\n",
       "\\item 'mgsa'\n",
       "\\item 'gsa'\n",
       "\\item 'padog'\n",
       "\\item 'globaltest'\n",
       "\\item 'roast'\n",
       "\\item 'camera'\n",
       "\\item 'gsva'\n",
       "\\end{enumerate*}\n"
      ],
      "text/markdown": [
       "1. 'ora'\n",
       "2. 'safe'\n",
       "3. 'gsea'\n",
       "4. 'samgs'\n",
       "5. 'ebm'\n",
       "6. 'mgsa'\n",
       "7. 'gsa'\n",
       "8. 'padog'\n",
       "9. 'globaltest'\n",
       "10. 'roast'\n",
       "11. 'camera'\n",
       "12. 'gsva'\n",
       "\n",
       "\n"
      ],
      "text/plain": [
       " [1] \"ora\"        \"safe\"       \"gsea\"       \"samgs\"      \"ebm\"       \n",
       " [6] \"mgsa\"       \"gsa\"        \"padog\"      \"globaltest\" \"roast\"     \n",
       "[11] \"camera\"     \"gsva\"      "
      ]
     },
     "metadata": {},
     "output_type": "display_data"
    }
   ],
   "source": [
    "sbea.methods()"
   ]
  },
  {
   "cell_type": "markdown",
   "metadata": {},
   "source": [
    "*Exercise*: Carry out a GO overrepresentation analysis for the `all.eset` and `air.eset`. How many significant gene sets do you observe in each case?\n",
    "\n",
    "\n",
    "## Network-based enrichment analysis\n",
    "Having found gene sets that show enrichment for differential expression, \n",
    "we are now interested whether these findings can be supported by known\n",
    "regulatory interactions. \n",
    "\n",
    "For example, we want to know whether transcription factors and their target\n",
    "genes are expressed in accordance to the connecting regulations\n",
    "(activation/inhibition). \n",
    "Such information is usually given in a gene regulatory network derived from\n",
    "specific experiments or compiled from the literature\n",
    "([Geistlinger et al., 2013](https://doi.org/10.1093/nar/gkt631) for an example).\n",
    "\n",
    "There are well-studied processes and organisms for which comprehensive and\n",
    "well-annotated regulatory networks are available, e.g. the\n",
    "[RegulonDB](http://regulondb.ccg.unam.mx) for *E. coli* and\n",
    "[Yeastract](http://www.yeastract.com) for *S. cerevisiae*. \n",
    "\n",
    "However, there are also cases where such a network is missing or at least\n",
    "incomplete.\n",
    "A basic workaround is to compile a network from regulations in the KEGG\n",
    "database.\n",
    "\n",
    "We can download all KEGG pathways of a specified organism (here: *Homo sapiens*)\n",
    "via"
   ]
  },
  {
   "cell_type": "markdown",
   "metadata": {},
   "source": [
    "But for demonstration purposes, we use a selection of already downloaded human KEGG\n",
    "pathways:"
   ]
  },
  {
   "cell_type": "code",
   "execution_count": 31,
   "metadata": {},
   "outputs": [
    {
     "data": {
      "text/html": [
       "<table>\n",
       "<thead><tr><th scope=col>FROM</th><th scope=col>TO</th><th scope=col>TYPE</th></tr></thead>\n",
       "<tbody>\n",
       "\t<tr><td>3569</td><td>3570</td><td>+   </td></tr>\n",
       "\t<tr><td>3458</td><td>3459</td><td>+   </td></tr>\n",
       "\t<tr><td>3458</td><td>3460</td><td>+   </td></tr>\n",
       "\t<tr><td>1950</td><td>1956</td><td>+   </td></tr>\n",
       "\t<tr><td>1950</td><td>2064</td><td>+   </td></tr>\n",
       "\t<tr><td>1950</td><td>3480</td><td>+   </td></tr>\n",
       "</tbody>\n",
       "</table>\n"
      ],
      "text/latex": [
       "\\begin{tabular}{lll}\n",
       " FROM & TO & TYPE\\\\\n",
       "\\hline\n",
       "\t 3569 & 3570 & +   \\\\\n",
       "\t 3458 & 3459 & +   \\\\\n",
       "\t 3458 & 3460 & +   \\\\\n",
       "\t 1950 & 1956 & +   \\\\\n",
       "\t 1950 & 2064 & +   \\\\\n",
       "\t 1950 & 3480 & +   \\\\\n",
       "\\end{tabular}\n"
      ],
      "text/markdown": [
       "\n",
       "FROM | TO | TYPE | \n",
       "|---|---|---|---|---|---|\n",
       "| 3569 | 3570 | +    | \n",
       "| 3458 | 3459 | +    | \n",
       "| 3458 | 3460 | +    | \n",
       "| 1950 | 1956 | +    | \n",
       "| 1950 | 2064 | +    | \n",
       "| 1950 | 3480 | +    | \n",
       "\n",
       "\n"
      ],
      "text/plain": [
       "     FROM TO   TYPE\n",
       "[1,] 3569 3570 +   \n",
       "[2,] 3458 3459 +   \n",
       "[3,] 3458 3460 +   \n",
       "[4,] 1950 1956 +   \n",
       "[5,] 1950 2064 +   \n",
       "[6,] 1950 3480 +   "
      ]
     },
     "metadata": {},
     "output_type": "display_data"
    }
   ],
   "source": [
    "pwys <- file.path(data.dir, \"hsa_kegg_pwys.zip\")\n",
    "hsa.grn <- compile.grn.from.kegg(pwys)\n",
    "head(hsa.grn)"
   ]
  },
  {
   "cell_type": "markdown",
   "metadata": {},
   "source": [
    "Signaling pathway impact analysis (SPIA) is a network-based enrichment analysis\n",
    "method, which is explicitly designed for KEGG signaling pathways\n",
    "[Tarca et al., 2009](https://doi.org/ 10.1093/bioinformatics/btn577). The\n",
    "method evaluates whether expression changes are propagated across the pathway\n",
    "topology in combination with ORA."
   ]
  },
  {
   "cell_type": "code",
   "execution_count": null,
   "metadata": {},
   "outputs": [],
   "source": [
    "spia.all <- nbea(method=\"spia\", eset=all.eset, gs=hsa.gs, grn=hsa.grn, alpha=0.2)\n",
    "gs.ranking(spia.all)"
   ]
  },
  {
   "cell_type": "markdown",
   "metadata": {},
   "source": [
    "More generally applicable is gene graph enrichment analysis (GGEA), which\n",
    "evaluates consistency of interactions in a given gene regulatory network with\n",
    "the observed expression data\n",
    "[Geistlinger et al., 2011](https://doi.org/10.1093/bioinformatics/btr228)."
   ]
  },
  {
   "cell_type": "code",
   "execution_count": null,
   "metadata": {},
   "outputs": [],
   "source": [
    "ggea.all <- nbea(method=\"ggea\", eset=all.eset, gs=hsa.gs, grn=hsa.grn)\n",
    "gs.ranking(ggea.all)"
   ]
  },
  {
   "cell_type": "markdown",
   "metadata": {},
   "source": [
    "A selection of additional network-based methods is also available:"
   ]
  },
  {
   "cell_type": "code",
   "execution_count": null,
   "metadata": {},
   "outputs": [],
   "source": [
    "nbea.methods()"
   ]
  },
  {
   "cell_type": "markdown",
   "metadata": {},
   "source": [
    "Note #1: As network-based enrichment methods typically do not involve sample\n",
    "permutation but rather network permutation, \n",
    "thus avoiding DE re-computation, they can likewise be applied to RNA-seq data.\n",
    "\n",
    "Note #2: Given the various enrichment methods with individual benefits and\n",
    "limitations, combining multiple methods can be beneficial, e.g. combined\n",
    "application of a set-based and a network-based method. This has been shown to\n",
    "filter out spurious hits of individual methods and to reduce the outcome to\n",
    "gene sets accumulating evidence from different methods\n",
    "[Geistlinger et al., 2016](https://doi.org/10.1186/s12859-016-0884-1),\n",
    "[Alhamdoosh et al., 2017](https://doi.org/10.1093/bioinformatics/btw623). \n",
    "\n",
    "The function `comb.ea.results` implements the straightforward combination of\n",
    "results, thereby facilitating seamless comparison of results across methods.\n",
    "For demonstration, we use the ORA and GSEA results for the ALL dataset from the \n",
    "previous section:"
   ]
  },
  {
   "cell_type": "code",
   "execution_count": null,
   "metadata": {},
   "outputs": [],
   "source": [
    "res.list <- list(ora.all, gsea.all)\n",
    "comb.res <- comb.ea.results(res.list)\n",
    "gs.ranking(comb.res)"
   ]
  },
  {
   "cell_type": "markdown",
   "metadata": {},
   "source": [
    "*Exercise:* Carry out `SPIA` and `GGEA` for the `air.eset` and combine the results. How many gene sets are rendered significant by both methods? \n",
    "\n",
    "# Genomic region enrichment analysis\n",
    "\n",
    "Microarrays and next-generation sequencing are also widely applied for\n",
    "large-scale detection of variable and regulatory genomic regions, e.g. single\n",
    "nucleotide polymorphisms, copy number variations, and transcription factor\n",
    "binding sites. \n",
    "\n",
    "<img src=\"https://github.com/waldronlab/BrownCOBRE2018/blob/master/notebooks_day2/ENCODE.png?raw=true\", alt=\"ENCODE image\", style=\"width:600px\">\n",
    "\n",
    "Such experimentally-derived genomic region sets are raising similar questions\n",
    "regarding functional enrichment as in gene expression data analysis. \n",
    "\n",
    "Of particular interest is thereby whether experimentally-derived regions\n",
    "overlap more (enrichment) or less (depletion) than expected by chance with\n",
    "regions representing known functional features such as genes or\n",
    "promoters. \n",
    "\n",
    "The\n",
    "[regioneR](http://bioconductor.org/packages/regioneR)\n",
    "package implements a general framework for testing overlaps of genomic regions\n",
    "based on permutation sampling.\n",
    "This allows to repeatedly sample random regions from the genome, matching size\n",
    "and chromosomal distribution of the region set under study.\n",
    "By recomputing the overlap with the functional features in each permutation,\n",
    "statistical significance of the observed overlap can be assessed."
   ]
  },
  {
   "cell_type": "code",
   "execution_count": null,
   "metadata": {},
   "outputs": [],
   "source": [
    "suppressPackageStartupMessages(library(regioneR))"
   ]
  },
  {
   "cell_type": "markdown",
   "metadata": {},
   "source": [
    "To demonstrate the basic functionality of the package, we consider the overlap\n",
    "of gene promoter regions and CpG islands in the human genome. We expect to find\n",
    "an enrichment as promoter regions are known to be GC-rich. Hence, is the\n",
    "overlap between CpG islands and promoters greater than expected by\n",
    "chance?\n",
    "\n",
    "We use the collection of CpG islands described in\n",
    "[Wu et al., 2010](https://doi.org/10.1093/biostatistics/kxq005) and restrict\n",
    "them to the set of canonical chromosomes 1-23, *X*, and *Y*."
   ]
  },
  {
   "cell_type": "code",
   "execution_count": null,
   "metadata": {},
   "outputs": [],
   "source": [
    "cpgHMM <- toGRanges(\"http://www.haowulab.org/software/makeCGI/model-based-cpg-islands-hg19.txt\")\n",
    "cpgHMM <- filterChromosomes(cpgHMM, chr.type=\"canonical\")\n",
    "cpgHMM <- sort(cpgHMM)\n",
    "cpgHMM"
   ]
  },
  {
   "cell_type": "markdown",
   "metadata": {},
   "source": [
    "Analogously, we load promoter regions in the *hg19* human genome assembly as\n",
    "available from [UCSC](https://genome.ucsc.edu/):"
   ]
  },
  {
   "cell_type": "code",
   "execution_count": null,
   "metadata": {},
   "outputs": [],
   "source": [
    "promoters <- toGRanges(\"http://gattaca.imppc.org/regioner/data/UCSC.promoters.hg19.bed\")\n",
    "promoters <- filterChromosomes(promoters, chr.type=\"canonical\")\n",
    "promoters <- sort(promoters)\n",
    "promoters"
   ]
  },
  {
   "cell_type": "markdown",
   "metadata": {},
   "source": [
    "To speed up the example, we restrict analysis to chromosomes 21 and 22. Note\n",
    "that this is done for demonstration only. To make an accurate claim, the\n",
    "complete region set should be used (which, however, runs considerably longer)."
   ]
  },
  {
   "cell_type": "code",
   "execution_count": null,
   "metadata": {},
   "outputs": [],
   "source": [
    "cpg <- cpgHMM[seqnames(cpgHMM) %in% c(\"chr21\", \"chr22\")]\n",
    "prom <- promoters[seqnames(promoters) %in% c(\"chr21\", \"chr22\")]"
   ]
  },
  {
   "cell_type": "markdown",
   "metadata": {},
   "source": [
    "Now, we are applying an overlap permutation test with 100 permutations\n",
    "(`ntimes=100`), while maintaining chromosomal distribution of the CpG island\n",
    "region set (`per.chromosome=TRUE`). Furthermore, we use the option\n",
    "`count.once=TRUE` to count an overlapping CpG island only once, even if it\n",
    "overlaps with 2 or more promoters. \n",
    "\n",
    "This takes about 2 minutes on a standard laptop. It also takes too much memory for the machines used by the workshop, so the command is commented out and the object loaded from file instead."
   ]
  },
  {
   "cell_type": "code",
   "execution_count": null,
   "metadata": {},
   "outputs": [],
   "source": [
    "# pt <- overlapPermTest(cpg, prom, genome=\"hg19\", ntimes=100, per.chromosome=TRUE, count.once=TRUE)\n",
    "download.file(\"https://www.dropbox.com/s/dlqq0m99wpu5xab/BrownCOBREDay2Session3_pt.rds?raw=1\", destfile=\"BrownCOBREDay2Session3_pt.rds\")\n",
    "pt <- readRDS(\"BrownCOBREDay2Session3_pt.rds\")\n",
    "pt"
   ]
  },
  {
   "cell_type": "code",
   "execution_count": null,
   "metadata": {},
   "outputs": [],
   "source": [
    "summary(pt[[1]]$permuted)"
   ]
  },
  {
   "cell_type": "markdown",
   "metadata": {},
   "source": [
    "The resulting permutation *p*-value indicates a significant enrichment. Out of\n",
    "the 2859 CpG islands, 719 overlap with at least one\n",
    "promoter. In contrast, when repeatedly drawing random regions matching the CpG\n",
    "islands in size and chromosomal distribution, the mean number of overlapping\n",
    "regions across permutations was 117.7\n",
    "$\\pm$ 11.8. \n",
    "\n",
    "Note #1: The function `regioneR::permTest` allows to incorporate user-defined\n",
    "functions for randomizing regions and evaluating additional measures of overlap\n",
    "such as total genomic size in bp.\n",
    "\n",
    "Note #2: The\n",
    "[LOLA](http://bioconductor.org/packages/LOLA)\n",
    "package implements a genomic region ORA, which assesses genomic region overlap\n",
    "based on the hypergeometric distribution using a library of pre-defined functional\n",
    "region sets."
   ]
  }
 ],
 "metadata": {
  "kernelspec": {
   "display_name": "R",
   "language": "R",
   "name": "ir"
  },
  "language_info": {
   "codemirror_mode": "r",
   "file_extension": ".r",
   "mimetype": "text/x-r-source",
   "name": "R",
   "pygments_lexer": "r",
   "version": "3.4.3"
  }
 },
 "nbformat": 4,
 "nbformat_minor": 2
}
