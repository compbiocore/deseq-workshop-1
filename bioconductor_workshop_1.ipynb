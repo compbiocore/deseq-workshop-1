{
 "cells": [
  {
   "cell_type": "markdown",
   "metadata": {},
   "source": [
    "# Period 1 -  Standard analyses for RNA seq data (unsupervised)\n",
    "\n",
    "\n",
    "# Abstract\n",
    "\n",
    "This workshop summarizes the main approaches to analyzing sequencing data to obtain per-gene count data, but does not go through how to do it explicitly. It demonstrates approaches to reading, annotating, and summarizing count data using [tximport](http://bioconductor.org/packages/) and various Bioconductor annotation resources, followed by unsupervised exploratory data analysis. It introduces the (Ranged)SummarizedExperiment data class,  variance-stabilizing transformations, and the use of distances to visualize transcriptome shifts through methods such as Principal Components Analysis and Multidimensional Scaling.\n",
    "\n",
    "This workshop uses quotes and materials from [RNA-seq workflow: gene-level exploratory analysis and differential expression](https://www.bioconductor.org/help/workflows/rnaseqGene/) by Love, Anders, Kim, and Huber."
   ]
  },
  {
   "cell_type": "markdown",
   "metadata": {},
   "source": [
    "Next, we create a named vector pointing to the quantification\n",
    "files. We will create a vector of filenames first by reading in a\n",
    "table that contains the sample IDs, and then combining this with `dir`\n",
    "and `\"quant.sf\"`."
   ]
  },
  {
   "cell_type": "markdown",
   "metadata": {},
   "source": [
    "# The SummarizedExperiment data class for representing RNA-seq data\n",
    "\n",
    "**The component parts of a *SummarizedExperiment* object.** \n",
    "\n",
    "* `assay(se)` or `assays(se)$counts` contains the matrix of counts\n",
    "* `colData(se)` may contain data about the columns, e.g. patients or biological units\n",
    "* `rowData(se)` may contain data about the rows, e.g. genes or transcript\n",
    "* `rowRanges(se)` may contain genomic ranges for the genes/transcripts\n",
    "* `metadata(se)` may contain information about the experiment\n",
    "\n",
    "<img src=\"https://github.com/waldronlab/BrownCOBRE2018/blob/master/notebooks_day2/SummarizedExperiment.jpg?raw=true\" alt=\"summarized experiment figure\" style=\"height: 350px;\">\n",
    "\n",
    "**Note**: The `rowRanges` could be a *GRanges* providing ranges of genes, or a *GRangesList* providing ranges of exons grouped by gene.  Both are accessible from TxDb databases."
   ]
  },
  {
   "cell_type": "markdown",
   "metadata": {},
   "source": [
    "*RangedSummarizedExperiment* is a subclass of *SummarizedExperiment*, where the *rowRanges* is not empty. You can convert a *SummarizedExperiment* to a *RangedSummarizedExperiment* just by setting its *rowRanges*. \n",
    "\n",
    "Some exploratory analysis of a demo *RangedSummarizedExperiment*:"
   ]
  },
  {
   "cell_type": "code",
   "execution_count": 2,
   "metadata": {},
   "outputs": [],
   "source": [
    "suppressPackageStartupMessages({\n",
    "    library(airway)\n",
    "    library(SummarizedExperiment)\n",
    "})"
   ]
  },
  {
   "cell_type": "markdown",
   "metadata": {},
   "source": [
    "For the purposes of this tutorial, we will be using a default dataset that is part of R's 'airway' package.  The following command loads the 'airway' dataset into our R environment:"
   ]
  },
  {
   "cell_type": "code",
   "execution_count": 3,
   "metadata": {},
   "outputs": [],
   "source": [
    "data(airway)"
   ]
  },
  {
   "cell_type": "code",
   "execution_count": 7,
   "metadata": {},
   "outputs": [
    {
     "data": {
      "text/plain": [
       "class: RangedSummarizedExperiment \n",
       "dim: 64102 8 \n",
       "metadata(1): ''\n",
       "assays(1): counts\n",
       "rownames(64102): ENSG00000000003 ENSG00000000005 ... LRG_98 LRG_99\n",
       "rowData names(0):\n",
       "colnames(8): SRR1039508 SRR1039509 ... SRR1039520 SRR1039521\n",
       "colData names(9): SampleName cell ... Sample BioSample"
      ]
     },
     "metadata": {},
     "output_type": "display_data"
    }
   ],
   "source": [
    "airway"
   ]
  },
  {
   "cell_type": "markdown",
   "metadata": {},
   "source": [
    "## Characterizing the Dataset\n",
    "\n",
    "Now, we will call some basic functions on this dataset to get a better sense of its fundamental characteristics, including dimensions, the number of counts present for each sample, and its structure:"
   ]
  },
  {
   "cell_type": "code",
   "execution_count": 8,
   "metadata": {},
   "outputs": [
    {
     "data": {
      "text/html": [
       "<ol class=list-inline>\n",
       "\t<li>64102</li>\n",
       "\t<li>8</li>\n",
       "</ol>\n"
      ],
      "text/latex": [
       "\\begin{enumerate*}\n",
       "\\item 64102\n",
       "\\item 8\n",
       "\\end{enumerate*}\n"
      ],
      "text/markdown": [
       "1. 64102\n",
       "2. 8\n",
       "\n",
       "\n"
      ],
      "text/plain": [
       "[1] 64102     8"
      ]
     },
     "metadata": {},
     "output_type": "display_data"
    }
   ],
   "source": [
    "dim(airway)"
   ]
  },
  {
   "cell_type": "code",
   "execution_count": 9,
   "metadata": {},
   "outputs": [
    {
     "data": {
      "text/html": [
       "'counts'"
      ],
      "text/latex": [
       "'counts'"
      ],
      "text/markdown": [
       "'counts'"
      ],
      "text/plain": [
       "[1] \"counts\""
      ]
     },
     "metadata": {},
     "output_type": "display_data"
    }
   ],
   "source": [
    "assayNames(airway)"
   ]
  },
  {
   "cell_type": "code",
   "execution_count": 10,
   "metadata": {},
   "outputs": [
    {
     "data": {
      "text/html": [
       "<table>\n",
       "<thead><tr><th></th><th scope=col>SRR1039508</th><th scope=col>SRR1039509</th><th scope=col>SRR1039512</th><th scope=col>SRR1039513</th><th scope=col>SRR1039516</th><th scope=col>SRR1039517</th><th scope=col>SRR1039520</th><th scope=col>SRR1039521</th></tr></thead>\n",
       "<tbody>\n",
       "\t<tr><th scope=row>ENSG00000000003</th><td>679 </td><td>448 </td><td>873 </td><td>408 </td><td>1138</td><td>1047</td><td>770 </td><td>572 </td></tr>\n",
       "\t<tr><th scope=row>ENSG00000000005</th><td>  0 </td><td>  0 </td><td>  0 </td><td>  0 </td><td>   0</td><td>   0</td><td>  0 </td><td>  0 </td></tr>\n",
       "\t<tr><th scope=row>ENSG00000000419</th><td>467 </td><td>515 </td><td>621 </td><td>365 </td><td> 587</td><td> 799</td><td>417 </td><td>508 </td></tr>\n",
       "</tbody>\n",
       "</table>\n"
      ],
      "text/latex": [
       "\\begin{tabular}{r|llllllll}\n",
       "  & SRR1039508 & SRR1039509 & SRR1039512 & SRR1039513 & SRR1039516 & SRR1039517 & SRR1039520 & SRR1039521\\\\\n",
       "\\hline\n",
       "\tENSG00000000003 & 679  & 448  & 873  & 408  & 1138 & 1047 & 770  & 572 \\\\\n",
       "\tENSG00000000005 &   0  &   0  &   0  &   0  &    0 &    0 &   0  &   0 \\\\\n",
       "\tENSG00000000419 & 467  & 515  & 621  & 365  &  587 &  799 & 417  & 508 \\\\\n",
       "\\end{tabular}\n"
      ],
      "text/markdown": [
       "\n",
       "| <!--/--> | SRR1039508 | SRR1039509 | SRR1039512 | SRR1039513 | SRR1039516 | SRR1039517 | SRR1039520 | SRR1039521 | \n",
       "|---|---|---|\n",
       "| ENSG00000000003 | 679  | 448  | 873  | 408  | 1138 | 1047 | 770  | 572  | \n",
       "| ENSG00000000005 |   0  |   0  |   0  |   0  |    0 |    0 |   0  |   0  | \n",
       "| ENSG00000000419 | 467  | 515  | 621  | 365  |  587 |  799 | 417  | 508  | \n",
       "\n",
       "\n"
      ],
      "text/plain": [
       "                SRR1039508 SRR1039509 SRR1039512 SRR1039513 SRR1039516\n",
       "ENSG00000000003 679        448        873        408        1138      \n",
       "ENSG00000000005   0          0          0          0           0      \n",
       "ENSG00000000419 467        515        621        365         587      \n",
       "                SRR1039517 SRR1039520 SRR1039521\n",
       "ENSG00000000003 1047       770        572       \n",
       "ENSG00000000005    0         0          0       \n",
       "ENSG00000000419  799       417        508       "
      ]
     },
     "metadata": {},
     "output_type": "display_data"
    }
   ],
   "source": [
    "head(assay(airway), 3)"
   ]
  },
  {
   "cell_type": "code",
   "execution_count": 11,
   "metadata": {},
   "outputs": [
    {
     "data": {
      "text/html": [
       "<dl class=dl-horizontal>\n",
       "\t<dt>SRR1039508</dt>\n",
       "\t\t<dd>20637971</dd>\n",
       "\t<dt>SRR1039509</dt>\n",
       "\t\t<dd>18809481</dd>\n",
       "\t<dt>SRR1039512</dt>\n",
       "\t\t<dd>25348649</dd>\n",
       "\t<dt>SRR1039513</dt>\n",
       "\t\t<dd>15163415</dd>\n",
       "\t<dt>SRR1039516</dt>\n",
       "\t\t<dd>24448408</dd>\n",
       "\t<dt>SRR1039517</dt>\n",
       "\t\t<dd>30818215</dd>\n",
       "\t<dt>SRR1039520</dt>\n",
       "\t\t<dd>19126151</dd>\n",
       "\t<dt>SRR1039521</dt>\n",
       "\t\t<dd>21164133</dd>\n",
       "</dl>\n"
      ],
      "text/latex": [
       "\\begin{description*}\n",
       "\\item[SRR1039508] 20637971\n",
       "\\item[SRR1039509] 18809481\n",
       "\\item[SRR1039512] 25348649\n",
       "\\item[SRR1039513] 15163415\n",
       "\\item[SRR1039516] 24448408\n",
       "\\item[SRR1039517] 30818215\n",
       "\\item[SRR1039520] 19126151\n",
       "\\item[SRR1039521] 21164133\n",
       "\\end{description*}\n"
      ],
      "text/markdown": [
       "SRR1039508\n",
       ":   20637971SRR1039509\n",
       ":   18809481SRR1039512\n",
       ":   25348649SRR1039513\n",
       ":   15163415SRR1039516\n",
       ":   24448408SRR1039517\n",
       ":   30818215SRR1039520\n",
       ":   19126151SRR1039521\n",
       ":   21164133\n",
       "\n"
      ],
      "text/plain": [
       "SRR1039508 SRR1039509 SRR1039512 SRR1039513 SRR1039516 SRR1039517 SRR1039520 \n",
       "  20637971   18809481   25348649   15163415   24448408   30818215   19126151 \n",
       "SRR1039521 \n",
       "  21164133 "
      ]
     },
     "metadata": {},
     "output_type": "display_data"
    }
   ],
   "source": [
    "colSums(assay(airway))"
   ]
  },
  {
   "cell_type": "markdown",
   "metadata": {},
   "source": [
    "The `rowRanges` here is a *GRangesList*. The first gene has 17 exons:"
   ]
  },
  {
   "cell_type": "code",
   "execution_count": 12,
   "metadata": {},
   "outputs": [
    {
     "data": {
      "text/plain": [
       "GRangesList object of length 64102:\n",
       "$ENSG00000000003 \n",
       "GRanges object with 17 ranges and 2 metadata columns:\n",
       "       seqnames            ranges strand |   exon_id       exon_name\n",
       "          <Rle>         <IRanges>  <Rle> | <integer>     <character>\n",
       "   [1]        X 99883667-99884983      - |    667145 ENSE00001459322\n",
       "   [2]        X 99885756-99885863      - |    667146 ENSE00000868868\n",
       "   [3]        X 99887482-99887565      - |    667147 ENSE00000401072\n",
       "   [4]        X 99887538-99887565      - |    667148 ENSE00001849132\n",
       "   [5]        X 99888402-99888536      - |    667149 ENSE00003554016\n",
       "   ...      ...               ...    ... .       ...             ...\n",
       "  [13]        X 99890555-99890743      - |    667156 ENSE00003512331\n",
       "  [14]        X 99891188-99891686      - |    667158 ENSE00001886883\n",
       "  [15]        X 99891605-99891803      - |    667159 ENSE00001855382\n",
       "  [16]        X 99891790-99892101      - |    667160 ENSE00001863395\n",
       "  [17]        X 99894942-99894988      - |    667161 ENSE00001828996\n",
       "\n",
       "...\n",
       "<64101 more elements>\n",
       "-------\n",
       "seqinfo: 722 sequences (1 circular) from an unspecified genome"
      ]
     },
     "metadata": {},
     "output_type": "display_data"
    }
   ],
   "source": [
    "rowRanges(airway)"
   ]
  },
  {
   "cell_type": "markdown",
   "metadata": {},
   "source": [
    "The `rowRanges` object also contains information about the gene model in the `metadata` slot. Here we use a helpful R function, `str`, to display the metadata compactly:"
   ]
  },
  {
   "cell_type": "code",
   "execution_count": 13,
   "metadata": {},
   "outputs": [
    {
     "name": "stdout",
     "output_type": "stream",
     "text": [
      "List of 1\n",
      " $ genomeInfo:List of 20\n",
      "  ..$ Db type                                 : chr \"TranscriptDb\"\n",
      "  ..$ Supporting package                      : chr \"GenomicFeatures\"\n",
      "  ..$ Data source                             : chr \"BioMart\"\n",
      "  ..$ Organism                                : chr \"Homo sapiens\"\n",
      "  ..$ Resource URL                            : chr \"www.biomart.org:80\"\n",
      "  ..$ BioMart database                        : chr \"ensembl\"\n",
      "  ..$ BioMart database version                : chr \"ENSEMBL GENES 75 (SANGER UK)\"\n",
      "  ..$ BioMart dataset                         : chr \"hsapiens_gene_ensembl\"\n",
      "  ..$ BioMart dataset description             : chr \"Homo sapiens genes (GRCh37.p13)\"\n",
      "  ..$ BioMart dataset version                 : chr \"GRCh37.p13\"\n",
      "  ..$ Full dataset                            : chr \"yes\"\n",
      "  ..$ miRBase build ID                        : chr NA\n",
      "  ..$ transcript_nrow                         : chr \"215647\"\n",
      "  ..$ exon_nrow                               : chr \"745593\"\n",
      "  ..$ cds_nrow                                : chr \"537555\"\n",
      "  ..$ Db created by                           : chr \"GenomicFeatures package from Bioconductor\"\n",
      "  ..$ Creation time                           : chr \"2014-07-10 14:55:55 -0400 (Thu, 10 Jul 2014)\"\n",
      "  ..$ GenomicFeatures version at creation time: chr \"1.17.9\"\n",
      "  ..$ RSQLite version at creation time        : chr \"0.11.4\"\n",
      "  ..$ DBSCHEMAVERSION                         : chr \"1.0\"\n"
     ]
    }
   ],
   "source": [
    "str(metadata(rowRanges(airway)))"
   ]
  },
  {
   "cell_type": "markdown",
   "metadata": {},
   "source": [
    "The `colData`:"
   ]
  },
  {
   "cell_type": "code",
   "execution_count": 14,
   "metadata": {},
   "outputs": [
    {
     "data": {
      "text/plain": [
       "DataFrame with 8 rows and 9 columns\n",
       "           SampleName     cell      dex    albut        Run avgLength\n",
       "             <factor> <factor> <factor> <factor>   <factor> <integer>\n",
       "SRR1039508 GSM1275862   N61311    untrt    untrt SRR1039508       126\n",
       "SRR1039509 GSM1275863   N61311      trt    untrt SRR1039509       126\n",
       "SRR1039512 GSM1275866  N052611    untrt    untrt SRR1039512       126\n",
       "SRR1039513 GSM1275867  N052611      trt    untrt SRR1039513        87\n",
       "SRR1039516 GSM1275870  N080611    untrt    untrt SRR1039516       120\n",
       "SRR1039517 GSM1275871  N080611      trt    untrt SRR1039517       126\n",
       "SRR1039520 GSM1275874  N061011    untrt    untrt SRR1039520       101\n",
       "SRR1039521 GSM1275875  N061011      trt    untrt SRR1039521        98\n",
       "           Experiment    Sample    BioSample\n",
       "             <factor>  <factor>     <factor>\n",
       "SRR1039508  SRX384345 SRS508568 SAMN02422669\n",
       "SRR1039509  SRX384346 SRS508567 SAMN02422675\n",
       "SRR1039512  SRX384349 SRS508571 SAMN02422678\n",
       "SRR1039513  SRX384350 SRS508572 SAMN02422670\n",
       "SRR1039516  SRX384353 SRS508575 SAMN02422682\n",
       "SRR1039517  SRX384354 SRS508576 SAMN02422673\n",
       "SRR1039520  SRX384357 SRS508579 SAMN02422683\n",
       "SRR1039521  SRX384358 SRS508580 SAMN02422677"
      ]
     },
     "metadata": {},
     "output_type": "display_data"
    }
   ],
   "source": [
    "colData(airway)"
   ]
  },
  {
   "cell_type": "markdown",
   "metadata": {},
   "source": [
    "\n",
    "#  Exploratory data analysis\n",
    "\n",
    "## Standardization / transformation of count data for visual exploration\n",
    "\n",
    "Features (e.g. genes) are typically \"standardized\", because: \n",
    "1.  the differences in overall levels between features are often not due to biological effects but technical ones, *e.g.* GC bias, PCR amplification efficiency, ...\n",
    "2. otherwise a few very high-variance genes can dominate the distance, and make the distances less biologically relevant\n",
    "\n",
    "Standardization traditionally meant converting to z-score:\n",
    "\n",
    "$$x_{gi} \\leftarrow \\frac{(x_{gi} - \\bar{x}_g)}{s_g}$$     \n",
    "\n",
    "But `DESeq2` and `edgeR` provide their own RNA-seq specific standardization methods.\n",
    "\n",
    "We will use standardization for the purposes of visualization below, but for statistical testing in the next period, we will go back to the original count data \n",
    "as required by the statistical procedures used.\n",
    "\n",
    "## Exploring the airway dataset\n",
    "\n",
    "Once we have our fully annotated *SummarizedExperiment* object,\n",
    "we can construct a *DESeqDataSet* object from it that will then form\n",
    "the starting point of the analysis.\n",
    "We add an appropriate design for the analysis:"
   ]
  },
  {
   "cell_type": "code",
   "execution_count": 4,
   "metadata": {},
   "outputs": [],
   "source": [
    "suppressPackageStartupMessages(library(DESeq2))"
   ]
  },
  {
   "cell_type": "code",
   "execution_count": 5,
   "metadata": {},
   "outputs": [],
   "source": [
    "dds <- DESeqDataSet(airway, design = ~ cell + dex)"
   ]
  },
  {
   "cell_type": "markdown",
   "metadata": {},
   "source": [
    "Of particular note is the model formula, which is passed as the `design` argument.  Here, `~ cell + dex` means that we are concerned with two covariates, `cell` and `dex`.  `~` is how R denotes a model."
   ]
  },
  {
   "cell_type": "markdown",
   "metadata": {},
   "source": [
    "# Model specification\n",
    "\n",
    "[Model formulae tutorial](http://ww2.coastal.edu/kingw/statistics/R-tutorials/formulae.html)\n",
    "\n",
    "* Many regression functions in R use a standard \"model formula\" syntax\n",
    "* DEseq is a special case of regression that utilizes a negative binomial distribution\n",
    "* The formula determines the model that will be built (and tested) by the R procedure. The basic format is:\n",
    "\n",
    "`> outcome (or response) variable ~ explanatory variables (or predictors)`\n",
    "\n",
    "* The tilde means \"is modeled by\" or \"is modeled as a function of\" - **here, the left side of the model is implicit because DEseq is acting on a matrix of counts; these counts constitute the outcome/response**, so no explicit specification of the response is required\n",
    "\n",
    "## Essential model formula syntax\n",
    "\n",
    "symbol  | example | meaning\n",
    "------- | ------------ | --------------------------  \n",
    "+ | + x\t| include this variable  \n",
    "-\t| - x\t| delete this variable  \n",
    ":\t| x : z\t| include the interaction  \n",
    "*\t| x * z\t| include these variables and their interactions  \n",
    "^\t| (u + v + w)^3\t| include these variables and all interactions up to three way\\*\n",
    "1 | -1 | intercept: delete the intercept  \n",
    "\n",
    "\\* i.e. u + v + w + uv + uw + vw + uvw\n",
    "\n",
    "Note: order generally doesn't matter (u+v OR v+u evaluate to the same mathematical model)\n",
    "\n",
    "*Examples*: `~treatment`, `~treatment + time`, `~treatment * time`\n",
    "\n",
    "\n",
    "# The Design Matrix\n",
    "\n",
    "## The Design Matrix\n",
    "\n",
    "Use an example of a multiple linear regression model:\n",
    "\n",
    "$y_i = \\beta_0 + \\beta_1 x_{1i} + \\beta_2 x_{2i} + ... + \\beta_p x_{pi} + \\epsilon_i$\n",
    "\n",
    "- $x_{ji}$ is the value of predictor $x_j$ for observation $i$\n",
    "\n",
    "## The Design Matrix\n",
    "\n",
    "Matrix notation for the multiple linear regression model:\n",
    "\n",
    "$$\n",
    "\\,\n",
    "\\begin{pmatrix}\n",
    "Y_1\\\\\n",
    "Y_2\\\\\n",
    "\\vdots\\\\\n",
    "Y_N\n",
    "\\end{pmatrix} = \n",
    "\\begin{pmatrix}\n",
    "1&x_1\\\\\n",
    "1&x_2\\\\\n",
    "\\vdots\\\\\n",
    "1&x_N\n",
    "\\end{pmatrix}\n",
    "\\begin{pmatrix}\n",
    "\\beta_0\\\\\n",
    "\\beta_1\n",
    "\\end{pmatrix} +\n",
    "\\begin{pmatrix}\n",
    "\\varepsilon_1\\\\\n",
    "\\varepsilon_2\\\\\n",
    "\\vdots\\\\\n",
    "\\varepsilon_N\n",
    "\\end{pmatrix}\n",
    "$$\n",
    "\n",
    "or simply: \n",
    "\n",
    "$$\n",
    "\\mathbf{Y}=\\mathbf{X}\\boldsymbol{\\beta}+\\boldsymbol{\\varepsilon}\n",
    "$$\n",
    "\n",
    "* The design matrix is $\\mathbf{X}$\n",
    "    * which the computer will take as a given when solving for $\\boldsymbol{\\beta}$ by minimizing the sum of squares of residuals $\\boldsymbol{\\varepsilon}$.\n",
    "    \n",
    "\n",
    "There are multiple possible and reasonable design matrices for a given study design\n",
    "* the model formula encodes a default model matrix, e.g.:"
   ]
  },
  {
   "cell_type": "code",
   "execution_count": null,
   "metadata": {},
   "outputs": [],
   "source": [
    "group <- factor( c(1, 1, 2, 2) )\n",
    "model.matrix(~ group)"
   ]
  },
  {
   "cell_type": "markdown",
   "metadata": {},
   "source": [
    "What if we forgot to code group as a factor, and instead left it as numeric?"
   ]
  },
  {
   "cell_type": "code",
   "execution_count": null,
   "metadata": {},
   "outputs": [],
   "source": [
    "group <- c(1, 1, 2, 2)\n",
    "model.matrix(~ group)"
   ]
  },
  {
   "cell_type": "markdown",
   "metadata": {},
   "source": [
    "Here is an example again of a single predictor, but with more groups"
   ]
  },
  {
   "cell_type": "code",
   "execution_count": null,
   "metadata": {},
   "outputs": [],
   "source": [
    "group <- factor(c(1,1,2,2,3,3))\n",
    "model.matrix(~ group)"
   ]
  },
  {
   "cell_type": "markdown",
   "metadata": {},
   "source": [
    "The _baseline_ or _reference_ group is the one that other groups are contrasted against. You can change the baseline group:"
   ]
  },
  {
   "cell_type": "code",
   "execution_count": null,
   "metadata": {},
   "outputs": [],
   "source": [
    "group <- factor(c(1,1,2,2,3,3))\n",
    "group <- relevel(x=group, ref=3)\n",
    "model.matrix(~ group)"
   ]
  },
  {
   "cell_type": "markdown",
   "metadata": {},
   "source": [
    "The model matrix can represent multiple predictors, ie multiple (linear/log-linear/logistic) regression:"
   ]
  },
  {
   "cell_type": "code",
   "execution_count": null,
   "metadata": {},
   "outputs": [],
   "source": [
    "diet <- factor(c(1,1,1,1,2,2,2,2))\n",
    "sex <- factor(c(\"f\",\"f\",\"m\",\"m\",\"f\",\"f\",\"m\",\"m\"))\n",
    "model.matrix(~ diet + sex)"
   ]
  },
  {
   "cell_type": "markdown",
   "metadata": {},
   "source": [
    "Why is `f` used as the default reference group instead of `m`?  Because ASCII ordering (alphanumeric) is default."
   ]
  },
  {
   "cell_type": "markdown",
   "metadata": {},
   "source": [
    "And manually adding interaction terms:"
   ]
  },
  {
   "cell_type": "code",
   "execution_count": null,
   "metadata": {},
   "outputs": [],
   "source": [
    "model.matrix(~ diet + sex + diet:sex)"
   ]
  },
  {
   "cell_type": "markdown",
   "metadata": {},
   "source": [
    "The result is the same as using the \\* operator:"
   ]
  },
  {
   "cell_type": "code",
   "execution_count": null,
   "metadata": {},
   "outputs": [],
   "source": [
    "model.matrix(~ diet * sex)"
   ]
  },
  {
   "cell_type": "markdown",
   "metadata": {},
   "source": [
    "## Filtering genes not satisfying a minimum expression threshold\n",
    "\n",
    "Our count matrix contains many rows with only\n",
    "zeros, and additionally many rows with only a few fragments total. In\n",
    "order to reduce the size of the object, and to increase the speed of\n",
    "our functions, we can remove the rows that have no or nearly no\n",
    "information about the amount of gene expression (rows very close to zero but not exactly zero are likely artefacts / noise not indicative of actual gene expression).  Here we apply the\n",
    "most minimal and conservative filtering rule: removing rows of the *DESeqDataSet* that\n",
    "have no counts, or only a single count across **all** samples. Additional\n",
    "weighting/filtering to improve power is applied at a later step in the\n",
    "workflow."
   ]
  },
  {
   "cell_type": "code",
   "execution_count": 17,
   "metadata": {},
   "outputs": [
    {
     "data": {
      "text/html": [
       "64102"
      ],
      "text/latex": [
       "64102"
      ],
      "text/markdown": [
       "64102"
      ],
      "text/plain": [
       "[1] 64102"
      ]
     },
     "metadata": {},
     "output_type": "display_data"
    }
   ],
   "source": [
    "nrow(dds)"
   ]
  },
  {
   "cell_type": "code",
   "execution_count": 6,
   "metadata": {},
   "outputs": [
    {
     "data": {
      "text/html": [
       "29391"
      ],
      "text/latex": [
       "29391"
      ],
      "text/markdown": [
       "29391"
      ],
      "text/plain": [
       "[1] 29391"
      ]
     },
     "metadata": {},
     "output_type": "display_data"
    }
   ],
   "source": [
    "dds <- dds[ rowSums(counts(dds)) > 1, ]\n",
    "nrow(dds)"
   ]
  },
  {
   "cell_type": "markdown",
   "metadata": {},
   "source": [
    "NB: only 46% of the genes remain after performing this filtering step, demonstrating the degree to which our performance will be improved by discarding the noninformative entries.  A more stringent method of filtering, such as removing all genes that have any 0 count entries at all, would yield an even smaller percentage of genes."
   ]
  },
  {
   "cell_type": "markdown",
   "metadata": {},
   "source": [
    "**Note**: For differential expression analysis later, filtering is \n",
    "allowable but not necessary if using [Independent Hypothesis Weighting](http://www.bioconductor.org/packages/IHW),\n",
    "as is the default behavior of `DESeq2`. Independent hypothesis weighting (IHW) is a multiple testing procedure that increases power compared to the method of Benjamini and Hochberg by assigning data-driven weights to each hypothesis. \n",
    "\n",
    "## The rlog and variance stabilizing transformations\n",
    "\n",
    "Many common statistical methods for exploratory analysis of\n",
    "multidimensional data, for example clustering and *principal\n",
    "components analysis* (PCA), work best for data that generally has the\n",
    "same range of variance at different ranges of the mean values. When\n",
    "the expected amount of variance is approximately the same across\n",
    "different mean values, the data is said to be *homoskedastic*. For\n",
    "RNA-seq counts, however, the expected variance grows with the mean. For\n",
    "example, **if one performs PCA directly on a matrix of\n",
    "counts or normalized counts (e.g. correcting for differences in\n",
    "sequencing depth), the resulting plot typically depends mostly\n",
    "on the genes with *highest* counts because they show the largest\n",
    "absolute differences between samples**. A simple and often used\n",
    "strategy to avoid this is to take the logarithm of the normalized\n",
    "count values plus a pseudocount of 1 (to account for 0-count observations, as the log of 0 is undefined and the log of 1 is always 0 irrespective of base); however, depending on the\n",
    "choice of pseudocount, the genes with the very *lowest* counts\n",
    "will contribute a great deal of noise to the resulting plot, because\n",
    "taking the logarithm of small counts actually inflates their variance.\n",
    "We can quickly show this property of counts with simulated\n",
    "data (here, Poisson-distributed counts with a range of lambda from 0.1 to 100).\n",
    "We plot the standard deviation of each row (genes) against the mean:"
   ]
  },
  {
   "cell_type": "code",
   "execution_count": 19,
   "metadata": {},
   "outputs": [
    {
     "data": {
      "image/png": "[encoded data removed]",
      "text/plain": [
       "plot without title"
      ]
     },
     "metadata": {},
     "output_type": "display_data"
    }
   ],
   "source": [
    "options(repr.plot.height=3, repr.plot.width=5)\n",
    "lambda <- 10^seq(from = -1, to = 2, length = 1000)\n",
    "cts <- matrix(rpois(1000*100, lambda), ncol = 100)\n",
    "library(vsn)\n",
    "meanSdPlot(cts, ranks = FALSE)"
   ]
  },
  {
   "cell_type": "markdown",
   "metadata": {},
   "source": [
    "And for logarithm-transformed counts:"
   ]
  },
  {
   "cell_type": "code",
   "execution_count": 20,
   "metadata": {},
   "outputs": [
    {
     "data": {
      "image/png": "[encoded data removed]",
      "text/plain": [
       "plot without title"
      ]
     },
     "metadata": {},
     "output_type": "display_data"
    }
   ],
   "source": [
    "options(repr.plot.height=3, repr.plot.width=5)\n",
    "log.cts.one <- log2(cts + 1)\n",
    "meanSdPlot(log.cts.one, ranks = FALSE)"
   ]
  },
  {
   "cell_type": "markdown",
   "metadata": {},
   "source": [
    "The logarithm with a small pseudocount amplifies differences when the\n",
    "values are close to 0. The low count genes with low signal-to-noise\n",
    "ratio will overly contribute to sample-sample distances and PCA\n",
    "plots. \n",
    "\n",
    "As a solution, *DESeq2* offers two transformations for count data that\n",
    "stabilize the variance across the mean: the \n",
    "*regularized-logarithm transformation* or *rlog* ([Love, Huber, Anders, Genome Biology 2014](https://genomebiology.biomedcentral.com/articles/10.1186/s13059-014-0550-8)),\n",
    "and the *variance stabilizing transformation* (VST)\n",
    "for negative binomial data with a dispersion-mean trend\n",
    "([Anders and Huber, Genome Biology 2010](https://genomebiology.biomedcentral.com/articles/10.1186/gb-2010-11-10-r106)), implemented in the *vst* function.\n",
    "\n",
    "For genes with high counts, the rlog and VST will give similar result\n",
    "to the ordinary log2 transformation of normalized counts.  **For genes\n",
    "with lower counts, however, the values are shrunken towards the genes'\n",
    "averages across all samples**. The rlog-transformed or VST data then\n",
    "becomes approximately homoskedastic, and can be used directly for\n",
    "computing distances between samples, making PCA plots, or as input to\n",
    "downstream methods which perform best with homoskedastic data.\n",
    "\n",
    "**Which transformation to choose?** The rlog tends to work well on\n",
    "small datasets (n < 30), sometimes outperforming the VST when there is\n",
    "a large range of sequencing depth across samples (an order of\n",
    "magnitude difference). The VST is much faster to compute and is less\n",
    "sensitive to high count outliers than the rlog. We therefore recommend\n",
    "the VST for large datasets (hundreds of samples). You can perform both\n",
    "transformations and compare the `meanSdPlot` or PCA plots generated,\n",
    "as described below.\n",
    "\n",
    "Note that the two transformations offered by DESeq2 are provided for\n",
    "applications *other* than differential testing. \n",
    "For differential testing we recommend the\n",
    "*DESeq* function applied to raw counts, as described later\n",
    "in this workflow, which also takes into account the dependence of the\n",
    "variance of counts on the mean value during the dispersion estimation\n",
    "step.\n",
    "\n",
    "The function `rlog` returns an object based on the *SummarizedExperiment*\n",
    "class that contains the rlog-transformed values in its *assay* slot.  The *assay* slot is merely the piece of the `dds` object that contains the actual counts (as opposed to other information like metadata).  R is programmed to know that when you call `rlog` on a dds object, it should transform the contents of the *assay* slot and not the entire object."
   ]
  },
  {
   "cell_type": "markdown",
   "metadata": {},
   "source": [
    "First, we will depict the untransformed data, against which we can visually compare the results of the two aforementioned transformations.  Note the extreme outliers and leverage points in the upper right of the plot, each colored dark blue to show that only one gene falls within each point - these observations would cause a great deal of bias in the result if uncorrected:"
   ]
  },
  {
   "cell_type": "code",
   "execution_count": 8,
   "metadata": {},
   "outputs": [
    {
     "data": {
      "text/html": [
       "<table>\n",
       "<thead><tr><th></th><th scope=col>SRR1039508</th><th scope=col>SRR1039509</th><th scope=col>SRR1039512</th><th scope=col>SRR1039513</th><th scope=col>SRR1039516</th><th scope=col>SRR1039517</th><th scope=col>SRR1039520</th><th scope=col>SRR1039521</th></tr></thead>\n",
       "<tbody>\n",
       "\t<tr><th scope=row>ENSG00000000003</th><td>679 </td><td>448 </td><td>873 </td><td>408 </td><td>1138</td><td>1047</td><td>770 </td><td>572 </td></tr>\n",
       "\t<tr><th scope=row>ENSG00000000419</th><td>467 </td><td>515 </td><td>621 </td><td>365 </td><td> 587</td><td> 799</td><td>417 </td><td>508 </td></tr>\n",
       "\t<tr><th scope=row>ENSG00000000457</th><td>260 </td><td>211 </td><td>263 </td><td>164 </td><td> 245</td><td> 331</td><td>233 </td><td>229 </td></tr>\n",
       "</tbody>\n",
       "</table>\n"
      ],
      "text/latex": [
       "\\begin{tabular}{r|llllllll}\n",
       "  & SRR1039508 & SRR1039509 & SRR1039512 & SRR1039513 & SRR1039516 & SRR1039517 & SRR1039520 & SRR1039521\\\\\n",
       "\\hline\n",
       "\tENSG00000000003 & 679  & 448  & 873  & 408  & 1138 & 1047 & 770  & 572 \\\\\n",
       "\tENSG00000000419 & 467  & 515  & 621  & 365  &  587 &  799 & 417  & 508 \\\\\n",
       "\tENSG00000000457 & 260  & 211  & 263  & 164  &  245 &  331 & 233  & 229 \\\\\n",
       "\\end{tabular}\n"
      ],
      "text/markdown": [
       "\n",
       "| <!--/--> | SRR1039508 | SRR1039509 | SRR1039512 | SRR1039513 | SRR1039516 | SRR1039517 | SRR1039520 | SRR1039521 | \n",
       "|---|---|---|\n",
       "| ENSG00000000003 | 679  | 448  | 873  | 408  | 1138 | 1047 | 770  | 572  | \n",
       "| ENSG00000000419 | 467  | 515  | 621  | 365  |  587 |  799 | 417  | 508  | \n",
       "| ENSG00000000457 | 260  | 211  | 263  | 164  |  245 |  331 | 233  | 229  | \n",
       "\n",
       "\n"
      ],
      "text/plain": [
       "                SRR1039508 SRR1039509 SRR1039512 SRR1039513 SRR1039516\n",
       "ENSG00000000003 679        448        873        408        1138      \n",
       "ENSG00000000419 467        515        621        365         587      \n",
       "ENSG00000000457 260        211        263        164         245      \n",
       "                SRR1039517 SRR1039520 SRR1039521\n",
       "ENSG00000000003 1047       770        572       \n",
       "ENSG00000000419  799       417        508       \n",
       "ENSG00000000457  331       233        229       "
      ]
     },
     "metadata": {},
     "output_type": "display_data"
    },
    {
     "data": {
      "image/png": "[encoded data removed]",
      "text/plain": [
       "plot without title"
      ]
     },
     "metadata": {},
     "output_type": "display_data"
    }
   ],
   "source": [
    "suppressPackageStartupMessages(library(vsn))\n",
    "options(repr.plot.height=3, repr.plot.width=5)\n",
    "head(assay(dds), 3)\n",
    "meanSdPlot(assay(dds), ranks=FALSE)"
   ]
  },
  {
   "cell_type": "markdown",
   "metadata": {},
   "source": [
    "Now we will implement the `rlog` function:"
   ]
  },
  {
   "cell_type": "code",
   "execution_count": 21,
   "metadata": {},
   "outputs": [
    {
     "data": {
      "text/html": [
       "<table>\n",
       "<thead><tr><th></th><th scope=col>SRR1039508</th><th scope=col>SRR1039509</th><th scope=col>SRR1039512</th><th scope=col>SRR1039513</th><th scope=col>SRR1039516</th><th scope=col>SRR1039517</th><th scope=col>SRR1039520</th><th scope=col>SRR1039521</th></tr></thead>\n",
       "<tbody>\n",
       "\t<tr><th scope=row>ENSG00000000003</th><td>9.385681</td><td>9.052599</td><td>9.516877</td><td>9.285335</td><td>9.839093</td><td>9.530313</td><td>9.663260</td><td>9.277695</td></tr>\n",
       "\t<tr><th scope=row>ENSG00000000419</th><td>8.869611</td><td>9.138274</td><td>9.036117</td><td>9.075296</td><td>8.972125</td><td>9.131828</td><td>8.861529</td><td>9.060906</td></tr>\n",
       "\t<tr><th scope=row>ENSG00000000457</th><td>7.961373</td><td>7.881385</td><td>7.824075</td><td>7.921493</td><td>7.751690</td><td>7.886441</td><td>7.957126</td><td>7.912125</td></tr>\n",
       "</tbody>\n",
       "</table>\n"
      ],
      "text/latex": [
       "\\begin{tabular}{r|llllllll}\n",
       "  & SRR1039508 & SRR1039509 & SRR1039512 & SRR1039513 & SRR1039516 & SRR1039517 & SRR1039520 & SRR1039521\\\\\n",
       "\\hline\n",
       "\tENSG00000000003 & 9.385681 & 9.052599 & 9.516877 & 9.285335 & 9.839093 & 9.530313 & 9.663260 & 9.277695\\\\\n",
       "\tENSG00000000419 & 8.869611 & 9.138274 & 9.036117 & 9.075296 & 8.972125 & 9.131828 & 8.861529 & 9.060906\\\\\n",
       "\tENSG00000000457 & 7.961373 & 7.881385 & 7.824075 & 7.921493 & 7.751690 & 7.886441 & 7.957126 & 7.912125\\\\\n",
       "\\end{tabular}\n"
      ],
      "text/markdown": [
       "\n",
       "| <!--/--> | SRR1039508 | SRR1039509 | SRR1039512 | SRR1039513 | SRR1039516 | SRR1039517 | SRR1039520 | SRR1039521 | \n",
       "|---|---|---|\n",
       "| ENSG00000000003 | 9.385681 | 9.052599 | 9.516877 | 9.285335 | 9.839093 | 9.530313 | 9.663260 | 9.277695 | \n",
       "| ENSG00000000419 | 8.869611 | 9.138274 | 9.036117 | 9.075296 | 8.972125 | 9.131828 | 8.861529 | 9.060906 | \n",
       "| ENSG00000000457 | 7.961373 | 7.881385 | 7.824075 | 7.921493 | 7.751690 | 7.886441 | 7.957126 | 7.912125 | \n",
       "\n",
       "\n"
      ],
      "text/plain": [
       "                SRR1039508 SRR1039509 SRR1039512 SRR1039513 SRR1039516\n",
       "ENSG00000000003 9.385681   9.052599   9.516877   9.285335   9.839093  \n",
       "ENSG00000000419 8.869611   9.138274   9.036117   9.075296   8.972125  \n",
       "ENSG00000000457 7.961373   7.881385   7.824075   7.921493   7.751690  \n",
       "                SRR1039517 SRR1039520 SRR1039521\n",
       "ENSG00000000003 9.530313   9.663260   9.277695  \n",
       "ENSG00000000419 9.131828   8.861529   9.060906  \n",
       "ENSG00000000457 7.886441   7.957126   7.912125  "
      ]
     },
     "metadata": {},
     "output_type": "display_data"
    },
    {
     "data": {
      "image/png": "[encoded data removed]",
      "text/plain": [
       "plot without title"
      ]
     },
     "metadata": {},
     "output_type": "display_data"
    }
   ],
   "source": [
    "options(repr.plot.height=3, repr.plot.width=5)\n",
    "rld <- rlog(dds, blind = FALSE)\n",
    "head(assay(rld), 3)\n",
    "meanSdPlot(assay(rld), ranks=FALSE)"
   ]
  },
  {
   "cell_type": "markdown",
   "metadata": {},
   "source": [
    "The function `vst` returns a similar object:"
   ]
  },
  {
   "cell_type": "code",
   "execution_count": 22,
   "metadata": {},
   "outputs": [
    {
     "data": {
      "text/html": [
       "<table>\n",
       "<thead><tr><th></th><th scope=col>SRR1039508</th><th scope=col>SRR1039509</th><th scope=col>SRR1039512</th><th scope=col>SRR1039513</th><th scope=col>SRR1039516</th><th scope=col>SRR1039517</th><th scope=col>SRR1039520</th><th scope=col>SRR1039521</th></tr></thead>\n",
       "<tbody>\n",
       "\t<tr><th scope=row>ENSG00000000003</th><td>9.742074 </td><td>9.430420 </td><td>9.867626 </td><td>9.645844 </td><td>10.183143</td><td>9.880416 </td><td>10.010366</td><td>9.639782 </td></tr>\n",
       "\t<tr><th scope=row>ENSG00000000419</th><td>9.333668 </td><td>9.581706 </td><td>9.486145 </td><td>9.523093 </td><td> 9.427283</td><td>9.574860 </td><td> 9.325998</td><td>9.509246 </td></tr>\n",
       "\t<tr><th scope=row>ENSG00000000457</th><td>8.765274 </td><td>8.698448 </td><td>8.651473 </td><td>8.732426 </td><td> 8.592786</td><td>8.702673 </td><td> 8.761945</td><td>8.724101 </td></tr>\n",
       "</tbody>\n",
       "</table>\n"
      ],
      "text/latex": [
       "\\begin{tabular}{r|llllllll}\n",
       "  & SRR1039508 & SRR1039509 & SRR1039512 & SRR1039513 & SRR1039516 & SRR1039517 & SRR1039520 & SRR1039521\\\\\n",
       "\\hline\n",
       "\tENSG00000000003 & 9.742074  & 9.430420  & 9.867626  & 9.645844  & 10.183143 & 9.880416  & 10.010366 & 9.639782 \\\\\n",
       "\tENSG00000000419 & 9.333668  & 9.581706  & 9.486145  & 9.523093  &  9.427283 & 9.574860  &  9.325998 & 9.509246 \\\\\n",
       "\tENSG00000000457 & 8.765274  & 8.698448  & 8.651473  & 8.732426  &  8.592786 & 8.702673  &  8.761945 & 8.724101 \\\\\n",
       "\\end{tabular}\n"
      ],
      "text/markdown": [
       "\n",
       "| <!--/--> | SRR1039508 | SRR1039509 | SRR1039512 | SRR1039513 | SRR1039516 | SRR1039517 | SRR1039520 | SRR1039521 | \n",
       "|---|---|---|\n",
       "| ENSG00000000003 | 9.742074  | 9.430420  | 9.867626  | 9.645844  | 10.183143 | 9.880416  | 10.010366 | 9.639782  | \n",
       "| ENSG00000000419 | 9.333668  | 9.581706  | 9.486145  | 9.523093  |  9.427283 | 9.574860  |  9.325998 | 9.509246  | \n",
       "| ENSG00000000457 | 8.765274  | 8.698448  | 8.651473  | 8.732426  |  8.592786 | 8.702673  |  8.761945 | 8.724101  | \n",
       "\n",
       "\n"
      ],
      "text/plain": [
       "                SRR1039508 SRR1039509 SRR1039512 SRR1039513 SRR1039516\n",
       "ENSG00000000003 9.742074   9.430420   9.867626   9.645844   10.183143 \n",
       "ENSG00000000419 9.333668   9.581706   9.486145   9.523093    9.427283 \n",
       "ENSG00000000457 8.765274   8.698448   8.651473   8.732426    8.592786 \n",
       "                SRR1039517 SRR1039520 SRR1039521\n",
       "ENSG00000000003 9.880416   10.010366  9.639782  \n",
       "ENSG00000000419 9.574860    9.325998  9.509246  \n",
       "ENSG00000000457 8.702673    8.761945  8.724101  "
      ]
     },
     "metadata": {},
     "output_type": "display_data"
    },
    {
     "data": {
      "image/png": "[encoded data removed]",
      "text/plain": [
       "plot without title"
      ]
     },
     "metadata": {},
     "output_type": "display_data"
    }
   ],
   "source": [
    "vsd <- vst(dds, blind = FALSE)\n",
    "head(assay(vsd), 3)\n",
    "meanSdPlot(assay(vsd), ranks=FALSE)"
   ]
  },
  {
   "cell_type": "markdown",
   "metadata": {},
   "source": [
    "In the above function calls, we specified `blind = FALSE`, which means\n",
    "that differences between cell lines and treatment (the variables in\n",
    "the design) will not contribute to the expected variance-mean trend of\n",
    "the experiment. The experimental design is not used directly in the\n",
    "transformation, only in estimating the global amount of variability in\n",
    "the counts.  For a fully *unsupervised* transformation, one can set\n",
    "`blind = TRUE` (which is the default).\n",
    "\n",
    "To show the effect of the transformation, in the figure below\n",
    "we plot the first sample\n",
    "against the second, first simply using the *log2* function (after adding\n",
    "1, to avoid taking the log of zero, which as previously mentioned is undefined and would cause an error), and then using the rlog- and VST-transformed\n",
    "values. **For the *log2* approach, we need to first estimate *size factors* to\n",
    "account for sequencing depth**, and then specify `normalized=TRUE`.\n",
    "Sequencing depth correction is done automatically for the *rlog*\n",
    "and the *vst*."
   ]
  },
  {
   "cell_type": "code",
   "execution_count": 23,
   "metadata": {},
   "outputs": [],
   "source": [
    "dds <- estimateSizeFactors(dds)"
   ]
  },
  {
   "cell_type": "code",
   "execution_count": 24,
   "metadata": {},
   "outputs": [
    {
     "data": {
      "text/html": [
       "<table>\n",
       "<thead><tr><th></th><th scope=col>x</th><th scope=col>y</th><th scope=col>transformation</th></tr></thead>\n",
       "<tbody>\n",
       "\t<tr><th scope=row>ENSG00000000003</th><td> 9.375722  </td><td> 8.968399  </td><td>log2(x + 1)</td></tr>\n",
       "\t<tr><th scope=row>ENSG00000000419</th><td> 8.836718  </td><td> 9.169098  </td><td>log2(x + 1)</td></tr>\n",
       "\t<tr><th scope=row>ENSG00000000457</th><td> 7.994317  </td><td> 7.885375  </td><td>log2(x + 1)</td></tr>\n",
       "\t<tr><th scope=row>ENSG00000000460</th><td> 5.897577  </td><td> 5.962838  </td><td>log2(x + 1)</td></tr>\n",
       "\t<tr><th scope=row>ENSG00000000938</th><td> 0.000000  </td><td> 0.000000  </td><td>log2(x + 1)</td></tr>\n",
       "\t<tr><th scope=row>ENSG00000000971</th><td>11.633403  </td><td>12.003610  </td><td>log2(x + 1)</td></tr>\n",
       "</tbody>\n",
       "</table>\n"
      ],
      "text/latex": [
       "\\begin{tabular}{r|lll}\n",
       "  & x & y & transformation\\\\\n",
       "\\hline\n",
       "\tENSG00000000003 &  9.375722   &  8.968399   & log2(x + 1)\\\\\n",
       "\tENSG00000000419 &  8.836718   &  9.169098   & log2(x + 1)\\\\\n",
       "\tENSG00000000457 &  7.994317   &  7.885375   & log2(x + 1)\\\\\n",
       "\tENSG00000000460 &  5.897577   &  5.962838   & log2(x + 1)\\\\\n",
       "\tENSG00000000938 &  0.000000   &  0.000000   & log2(x + 1)\\\\\n",
       "\tENSG00000000971 & 11.633403   & 12.003610   & log2(x + 1)\\\\\n",
       "\\end{tabular}\n"
      ],
      "text/markdown": [
       "\n",
       "| <!--/--> | x | y | transformation | \n",
       "|---|---|---|---|---|---|\n",
       "| ENSG00000000003 |  9.375722   |  8.968399   | log2(x + 1) | \n",
       "| ENSG00000000419 |  8.836718   |  9.169098   | log2(x + 1) | \n",
       "| ENSG00000000457 |  7.994317   |  7.885375   | log2(x + 1) | \n",
       "| ENSG00000000460 |  5.897577   |  5.962838   | log2(x + 1) | \n",
       "| ENSG00000000938 |  0.000000   |  0.000000   | log2(x + 1) | \n",
       "| ENSG00000000971 | 11.633403   | 12.003610   | log2(x + 1) | \n",
       "\n",
       "\n"
      ],
      "text/plain": [
       "                x         y         transformation\n",
       "ENSG00000000003  9.375722  8.968399 log2(x + 1)   \n",
       "ENSG00000000419  8.836718  9.169098 log2(x + 1)   \n",
       "ENSG00000000457  7.994317  7.885375 log2(x + 1)   \n",
       "ENSG00000000460  5.897577  5.962838 log2(x + 1)   \n",
       "ENSG00000000938  0.000000  0.000000 log2(x + 1)   \n",
       "ENSG00000000971 11.633403 12.003610 log2(x + 1)   "
      ]
     },
     "metadata": {},
     "output_type": "display_data"
    }
   ],
   "source": [
    "ddsESF <- estimateSizeFactors(dds)\n",
    "df1 <- data.frame(log2(counts(ddsESF, normalized=TRUE)[, 1:2] + 1))\n",
    "df1$transformation <- \"log2(x + 1)\"\n",
    "df2 <- data.frame(assay(rld)[, 1:2])\n",
    "df2$transformation <- \"rld\"\n",
    "df3 <- data.frame(assay(vsd)[, 1:2])\n",
    "df3$transformation <- \"vsd\"\n",
    "df <- rbind(df1, df2, df3)\n",
    "colnames(df)[1:2] <- c(\"x\", \"y\")\n",
    "head(df)\n",
    "table(df$transformation)"
   ]
  },
  {
   "cell_type": "code",
   "execution_count": 25,
   "metadata": {},
   "outputs": [
    {
     "data": {},
     "metadata": {},
     "output_type": "display_data"
    },
    {
     "data": {
      "image/png": "[encoded data removed]",
      "text/plain": [
       "plot without title"
      ]
     },
     "metadata": {},
     "output_type": "display_data"
    }
   ],
   "source": [
    "options(repr.plot.width=6, repr.plot.height=2.5)\n",
    "library(ggplot2)\n",
    "ggplot(df, aes(x = x, y = y)) + geom_hex(bins = 80) +\n",
    "  coord_fixed() + facet_grid( . ~ transformation)  "
   ]
  },
  {
   "cell_type": "markdown",
   "metadata": {},
   "source": [
    "**Scatterplot of transformed counts from two samples**. Shown are\n",
    "scatterplots using the log2 transform of normalized counts (left),\n",
    "using the rlog (middle), and using the VST (right). While the rlog is\n",
    "on roughly the same scale as the log2 counts, the VST has a upward\n",
    "shift for the smaller values. It is the differences between samples\n",
    "(deviation from y=x in these scatterplots) which will contribute to\n",
    "the distance calculations and the PCA plot.\n",
    "\n",
    "We can see how genes with low counts (bottom left-hand corner) seem to\n",
    "be excessively variable on the ordinary logarithmic scale, while the\n",
    "rlog transform and VST compress differences for the low count genes\n",
    "for which the data provide little information about differential\n",
    "expression.  As any differences in these low-count values are likely artefacts introduced by error or random chance, their exclusion helps to prevent false positives.\n",
    "\n",
    "## Boxplots of transformed distributions\n",
    "\n",
    "Boxplots of the count distributions in each sample are a good way to understand the effects these transformations have at the level of individual subjects.\n",
    "\n",
    "In R's boxplots, points classified as outliers are shown on the plots as circles.  Here, neither the log2 nor the rld transformations include any outliers, while the vsd transformations do have outliers at the upper end of the distributions.  These points are classified as outliers because the vsd method compresses lower end points more substantially, as can be seen on the scatter plot above - the actual magnitude of these points does not significantly exceed the magnitude seen with the other transformations."
   ]
  },
  {
   "cell_type": "code",
   "execution_count": 26,
   "metadata": {},
   "outputs": [
    {
     "data": {
      "image/png": "[encoded data removed]",
      "text/plain": [
       "Plot with title “vsd”"
      ]
     },
     "metadata": {},
     "output_type": "display_data"
    }
   ],
   "source": [
    "par(mfrow=c(1,3))\n",
    "boxplot(log2(assay(ddsESF)+1), las=2, main=\"log2(x+1)\")\n",
    "boxplot(assay(rld), las=2, main=\"rld\")\n",
    "boxplot(assay(vsd), las=2, main=\"vsd\")"
   ]
  },
  {
   "cell_type": "markdown",
   "metadata": {},
   "source": [
    "# Sample distances\n",
    "\n",
    "## The importance of distances\n",
    "\n",
    "High-dimensional data are complex and impossible to visualize in raw form. They represent\n",
    "thousands of dimensions, but we can only visualize 2-3.\n",
    "\n",
    "All clustering and classification of samples and/or genes involves\n",
    "combining or identifying objects that are close or similar. Distances \n",
    "or similarities are mathematical representations of what we mean by \n",
    "close or similar. The choice of distance is important and varies for different subject areas and types of data.\n",
    "\n",
    "See: http://master.bioconductor.org/help/course-materials/2002/Summer02Course/Distance/distance.pdf\n",
    "\n",
    "## Distances for exploratory RNA-seq data analysis\n",
    "\n",
    "A useful first step in an RNA-seq analysis is often to assess overall\n",
    "similarity between samples: Which samples are similar to each other,\n",
    "which are different? Does this fit to the expectation from the\n",
    "experiment's design?\n",
    "\n",
    "We use the R function *dist* to calculate the \"Euclidean distance\"\n",
    "between samples; the Euclidean distance is simply the higher-dimensional analogue of the human-measurable distance between points in 2 or 3 dimensions.  To ensure we have a roughly equal contribution from\n",
    "all genes, we calculate it from the rlog-transformed data. We need to\n",
    "transpose the matrix of values using `t`, because the `dist` function\n",
    "expects the different samples to be **rows** of its argument, and\n",
    "different dimensions (here, genes) to be **columns**."
   ]
  },
  {
   "cell_type": "code",
   "execution_count": 27,
   "metadata": {},
   "outputs": [
    {
     "data": {
      "text/plain": [
       "           SRR1039508 SRR1039509 SRR1039512 SRR1039513 SRR1039516 SRR1039517\n",
       "SRR1039509   45.70157                                                       \n",
       "SRR1039512   39.25600   54.91229                                            \n",
       "SRR1039513   62.63599   44.53085   48.72888                                 \n",
       "SRR1039516   44.50962   59.06803   43.58242   63.74707                      \n",
       "SRR1039517   64.49868   51.45303   59.23397   49.88394   47.48509           \n",
       "SRR1039520   39.58027   57.46654   36.74746   58.49397   46.41179   63.60395\n",
       "SRR1039521   63.36521   45.06068   57.87997   36.49799   65.55042   52.32104\n",
       "           SRR1039520\n",
       "SRR1039509           \n",
       "SRR1039512           \n",
       "SRR1039513           \n",
       "SRR1039516           \n",
       "SRR1039517           \n",
       "SRR1039520           \n",
       "SRR1039521   50.13745"
      ]
     },
     "metadata": {},
     "output_type": "display_data"
    }
   ],
   "source": [
    "sampleDists <- dist(t(assay(rld)))\n",
    "sampleDists"
   ]
  },
  {
   "cell_type": "markdown",
   "metadata": {},
   "source": [
    "We visualize the distances in a heatmap in a figure below, using the function\n",
    "`pheatmap` from the [pheatmap](https://cran.r-project.org/web/packages/pheatmap/index.html) package."
   ]
  },
  {
   "cell_type": "code",
   "execution_count": 28,
   "metadata": {},
   "outputs": [],
   "source": [
    "library(pheatmap)\n",
    "library(RColorBrewer)"
   ]
  },
  {
   "cell_type": "markdown",
   "metadata": {},
   "source": [
    "In order to plot the sample distance matrix with the rows/columns\n",
    "arranged by the distances in our distance matrix,\n",
    "we manually provide `sampleDists` to the `clustering_distance`\n",
    "argument of the `pheatmap` function.\n",
    "Otherwise the `pheatmap` function would assume that the matrix contains\n",
    "the data values themselves, and would calculate distances between the\n",
    "rows/columns of the distance matrix, which is not desired.\n",
    "We also manually specify a blue color palette using the\n",
    "`colorRampPalette` function from the [RColorBrewer](https://cran.r-project.org/web/packages/RColorBrewer/index.html) package (this coloring step is optional and is determined by user preference)."
   ]
  },
  {
   "cell_type": "code",
   "execution_count": 29,
   "metadata": {},
   "outputs": [
    {
     "data": {
      "image/png": "[encoded data removed]",
      "text/plain": [
       "plot without title"
      ]
     },
     "metadata": {},
     "output_type": "display_data"
    }
   ],
   "source": [
    "options(repr.plot.height=3, repr.plot.width=5)\n",
    "sampleDistMatrix <- as.matrix( sampleDists )\n",
    "rownames(sampleDistMatrix) <- paste( rld$dex, rld$cell, sep = \" - \" )\n",
    "colnames(sampleDistMatrix) <- NULL\n",
    "colors <- colorRampPalette( rev(brewer.pal(9, \"Blues\")) )(255)\n",
    "pheatmap(sampleDistMatrix,\n",
    "         clustering_distance_rows = sampleDists,\n",
    "         clustering_distance_cols = sampleDists,\n",
    "         col = colors)"
   ]
  },
  {
   "cell_type": "markdown",
   "metadata": {},
   "source": [
    "**Heatmap of sample-to-sample distances using the rlog-transformed values.**\n",
    "\n",
    "Note that we have changed the row names of the distance matrix to\n",
    "contain treatment type and patient number instead of sample ID, so\n",
    "that we have all this information in view when looking at the heatmap.\n",
    "\n",
    "Another option for calculating sample distances is to use the\n",
    "Poisson Distance, implemented in the\n",
    "[PoiClaClu](https://cran.r-project.org/web/packages/PoiClaClu/index.html) CRAN package.\n",
    "This measure of dissimilarity between counts\n",
    "also takes the inherent variance\n",
    "structure of counts into consideration when calculating the distances\n",
    "between samples. The `PoissonDistance` function takes the original\n",
    "count matrix (not normalized) with samples as rows instead of columns,\n",
    "so we need to transpose the counts in `dds`."
   ]
  },
  {
   "cell_type": "code",
   "execution_count": 30,
   "metadata": {},
   "outputs": [],
   "source": [
    "library(PoiClaClu)\n",
    "poisd <- PoissonDistance(t(counts(ddsESF)))"
   ]
  },
  {
   "cell_type": "markdown",
   "metadata": {},
   "source": [
    "We plot the heatmap below."
   ]
  },
  {
   "cell_type": "code",
   "execution_count": 31,
   "metadata": {},
   "outputs": [
    {
     "data": {
      "image/png": "[encoded data removed]",
      "text/plain": [
       "plot without title"
      ]
     },
     "metadata": {},
     "output_type": "display_data"
    }
   ],
   "source": [
    "options(repr.plot.height=3, repr.plot.width=5)\n",
    "samplePoisDistMatrix <- as.matrix( poisd$dd )\n",
    "rownames(samplePoisDistMatrix) <- paste( rld$dex, rld$cell, sep=\" - \" )\n",
    "colnames(samplePoisDistMatrix) <- NULL\n",
    "pheatmap(samplePoisDistMatrix,\n",
    "         clustering_distance_rows = poisd$dd,\n",
    "         clustering_distance_cols = poisd$dd,\n",
    "         col = colors)"
   ]
  },
  {
   "cell_type": "markdown",
   "metadata": {},
   "source": [
    "**Heatmap of sample-to-sample distances using the *Poisson Distance*.**\n",
    "\n",
    "## PCA plot\n",
    "\n",
    "Another way to visualize sample-to-sample distances is a\n",
    "principal components analysis (PCA). In this ordination method, the\n",
    "data points (here, the samples) are projected onto the 2D plane\n",
    "such that they spread out in the two directions that explain most of\n",
    "the differences (figure below). The x-axis is the direction that separates the data\n",
    "points the most. The values of the samples in this direction are\n",
    "written *PC1* (\"principal component 1\"). The y-axis is a direction (it must be *orthogonal* - perpendicular - to\n",
    "the first direction) that separates the data the second most. The\n",
    "values of the samples in this direction are written *PC2*.\n",
    "The percent of the total variance that is contained in the direction\n",
    "is printed in the axis label. Note that these percentages do not add to\n",
    "100%, because there are more dimensions - often many of them - that contain the remaining\n",
    "variance (although each of these remaining dimensions will by definition explain\n",
    "less than the two that we see)."
   ]
  },
  {
   "cell_type": "code",
   "execution_count": 48,
   "metadata": {},
   "outputs": [
    {
     "data": {
      "text/plain": [
       "DataFrame with 8 rows and 10 columns\n",
       "           SampleName     cell      dex    albut        Run avgLength\n",
       "             <factor> <factor> <factor> <factor>   <factor> <integer>\n",
       "SRR1039508 GSM1275862   N61311    untrt    untrt SRR1039508       126\n",
       "SRR1039509 GSM1275863   N61311      trt    untrt SRR1039509       126\n",
       "SRR1039512 GSM1275866  N052611    untrt    untrt SRR1039512       126\n",
       "SRR1039513 GSM1275867  N052611      trt    untrt SRR1039513        87\n",
       "SRR1039516 GSM1275870  N080611    untrt    untrt SRR1039516       120\n",
       "SRR1039517 GSM1275871  N080611      trt    untrt SRR1039517       126\n",
       "SRR1039520 GSM1275874  N061011    untrt    untrt SRR1039520       101\n",
       "SRR1039521 GSM1275875  N061011      trt    untrt SRR1039521        98\n",
       "           Experiment    Sample    BioSample        sizeFactor\n",
       "             <factor>  <factor>     <factor>         <numeric>\n",
       "SRR1039508  SRX384345 SRS508568 SAMN02422669  1.02364764926706\n",
       "SRR1039509  SRX384346 SRS508567 SAMN02422675 0.896166721793923\n",
       "SRR1039512  SRX384349 SRS508571 SAMN02422678  1.17948612081678\n",
       "SRR1039513  SRX384350 SRS508572 SAMN02422670 0.670053829048202\n",
       "SRR1039516  SRX384353 SRS508575 SAMN02422682  1.17767135405022\n",
       "SRR1039517  SRX384354 SRS508576 SAMN02422673  1.39903646915342\n",
       "SRR1039520  SRX384357 SRS508579 SAMN02422683 0.920778683328161\n",
       "SRR1039521  SRX384358 SRS508580 SAMN02422677 0.944514089340919"
      ]
     },
     "metadata": {},
     "output_type": "display_data"
    },
    {
     "data": {},
     "metadata": {},
     "output_type": "display_data"
    },
    {
     "data": {
      "image/png": "[encoded data removed]",
      "text/plain": [
       "plot without title"
      ]
     },
     "metadata": {},
     "output_type": "display_data"
    }
   ],
   "source": [
    "colData(rld)\n",
    "plotPCA(rld, intgroup = c(\"dex\", \"cell\"))"
   ]
  },
  {
   "cell_type": "markdown",
   "metadata": {},
   "source": [
    "**PCA plot using the rlog-transformed values.** Each unique combination of\n",
    "treatment and cell line is given its own color.\n",
    "\n",
    "Here, we have used the function `plotPCA()` that comes with *DESeq2*.\n",
    "The two terms specified by `intgroup` are the interesting groups for\n",
    "labeling the samples; they tell the function to use them to choose\n",
    "colors. We can also build the PCA plot from scratch using the\n",
    "[ggplot2](https://cran.r-project.org/web/packages/ggplot2/index.html) package.\n",
    "This is done by asking the `plotPCA()` function\n",
    "to return the data used for plotting rather than building the plot.\n",
    "See the *ggplot2* [documentation](http://docs.ggplot2.org/current/)\n",
    "for more details on using `ggplot()`."
   ]
  },
  {
   "cell_type": "code",
   "execution_count": 33,
   "metadata": {},
   "outputs": [
    {
     "data": {
      "text/html": [
       "<table>\n",
       "<thead><tr><th></th><th scope=col>PC1</th><th scope=col>PC2</th><th scope=col>group</th><th scope=col>dex</th><th scope=col>cell</th><th scope=col>name</th></tr></thead>\n",
       "<tbody>\n",
       "\t<tr><th scope=row>SRR1039508</th><td>-17.818478   </td><td> -4.021260   </td><td>untrt:N61311 </td><td>untrt        </td><td>N61311       </td><td>SRR1039508   </td></tr>\n",
       "\t<tr><th scope=row>SRR1039509</th><td>  8.388115   </td><td> -1.491329   </td><td>trt:N61311   </td><td>trt          </td><td>N61311       </td><td>SRR1039509   </td></tr>\n",
       "\t<tr><th scope=row>SRR1039512</th><td>-10.227671   </td><td> -5.004222   </td><td>untrt:N052611</td><td>untrt        </td><td>N052611      </td><td>SRR1039512   </td></tr>\n",
       "\t<tr><th scope=row>SRR1039513</th><td> 17.533464   </td><td> -3.910088   </td><td>trt:N052611  </td><td>trt          </td><td>N052611      </td><td>SRR1039513   </td></tr>\n",
       "\t<tr><th scope=row>SRR1039516</th><td>-14.672156   </td><td> 15.874223   </td><td>untrt:N080611</td><td>untrt        </td><td>N080611      </td><td>SRR1039516   </td></tr>\n",
       "\t<tr><th scope=row>SRR1039517</th><td> 10.988342   </td><td> 20.599713   </td><td>trt:N080611  </td><td>trt          </td><td>N080611      </td><td>SRR1039517   </td></tr>\n",
       "\t<tr><th scope=row>SRR1039520</th><td>-12.060845   </td><td>-11.986221   </td><td>untrt:N061011</td><td>untrt        </td><td>N061011      </td><td>SRR1039520   </td></tr>\n",
       "\t<tr><th scope=row>SRR1039521</th><td> 17.869229   </td><td>-10.060816   </td><td>trt:N061011  </td><td>trt          </td><td>N061011      </td><td>SRR1039521   </td></tr>\n",
       "</tbody>\n",
       "</table>\n"
      ],
      "text/latex": [
       "\\begin{tabular}{r|llllll}\n",
       "  & PC1 & PC2 & group & dex & cell & name\\\\\n",
       "\\hline\n",
       "\tSRR1039508 & -17.818478    &  -4.021260    & untrt:N61311  & untrt         & N61311        & SRR1039508   \\\\\n",
       "\tSRR1039509 &   8.388115    &  -1.491329    & trt:N61311    & trt           & N61311        & SRR1039509   \\\\\n",
       "\tSRR1039512 & -10.227671    &  -5.004222    & untrt:N052611 & untrt         & N052611       & SRR1039512   \\\\\n",
       "\tSRR1039513 &  17.533464    &  -3.910088    & trt:N052611   & trt           & N052611       & SRR1039513   \\\\\n",
       "\tSRR1039516 & -14.672156    &  15.874223    & untrt:N080611 & untrt         & N080611       & SRR1039516   \\\\\n",
       "\tSRR1039517 &  10.988342    &  20.599713    & trt:N080611   & trt           & N080611       & SRR1039517   \\\\\n",
       "\tSRR1039520 & -12.060845    & -11.986221    & untrt:N061011 & untrt         & N061011       & SRR1039520   \\\\\n",
       "\tSRR1039521 &  17.869229    & -10.060816    & trt:N061011   & trt           & N061011       & SRR1039521   \\\\\n",
       "\\end{tabular}\n"
      ],
      "text/markdown": [
       "\n",
       "| <!--/--> | PC1 | PC2 | group | dex | cell | name | \n",
       "|---|---|---|---|---|---|---|---|\n",
       "| SRR1039508 | -17.818478    |  -4.021260    | untrt:N61311  | untrt         | N61311        | SRR1039508    | \n",
       "| SRR1039509 |   8.388115    |  -1.491329    | trt:N61311    | trt           | N61311        | SRR1039509    | \n",
       "| SRR1039512 | -10.227671    |  -5.004222    | untrt:N052611 | untrt         | N052611       | SRR1039512    | \n",
       "| SRR1039513 |  17.533464    |  -3.910088    | trt:N052611   | trt           | N052611       | SRR1039513    | \n",
       "| SRR1039516 | -14.672156    |  15.874223    | untrt:N080611 | untrt         | N080611       | SRR1039516    | \n",
       "| SRR1039517 |  10.988342    |  20.599713    | trt:N080611   | trt           | N080611       | SRR1039517    | \n",
       "| SRR1039520 | -12.060845    | -11.986221    | untrt:N061011 | untrt         | N061011       | SRR1039520    | \n",
       "| SRR1039521 |  17.869229    | -10.060816    | trt:N061011   | trt           | N061011       | SRR1039521    | \n",
       "\n",
       "\n"
      ],
      "text/plain": [
       "           PC1        PC2        group         dex   cell    name      \n",
       "SRR1039508 -17.818478  -4.021260 untrt:N61311  untrt N61311  SRR1039508\n",
       "SRR1039509   8.388115  -1.491329 trt:N61311    trt   N61311  SRR1039509\n",
       "SRR1039512 -10.227671  -5.004222 untrt:N052611 untrt N052611 SRR1039512\n",
       "SRR1039513  17.533464  -3.910088 trt:N052611   trt   N052611 SRR1039513\n",
       "SRR1039516 -14.672156  15.874223 untrt:N080611 untrt N080611 SRR1039516\n",
       "SRR1039517  10.988342  20.599713 trt:N080611   trt   N080611 SRR1039517\n",
       "SRR1039520 -12.060845 -11.986221 untrt:N061011 untrt N061011 SRR1039520\n",
       "SRR1039521  17.869229 -10.060816 trt:N061011   trt   N061011 SRR1039521"
      ]
     },
     "metadata": {},
     "output_type": "display_data"
    }
   ],
   "source": [
    "pcaData <- plotPCA(rld, intgroup = c( \"dex\", \"cell\"), returnData = TRUE)\n",
    "pcaData\n",
    "percentVar <- round(100 * attr(pcaData, \"percentVar\"))"
   ]
  },
  {
   "cell_type": "markdown",
   "metadata": {},
   "source": [
    "We can then use this structure to build up a second plot in a figure below, specifying that the\n",
    "color of the points should reflect dexamethasone treatment and the\n",
    "shape should reflect the cell line."
   ]
  },
  {
   "cell_type": "code",
   "execution_count": 34,
   "metadata": {},
   "outputs": [
    {
     "data": {},
     "metadata": {},
     "output_type": "display_data"
    },
    {
     "data": {
      "image/png": "[encoded data removed]",
      "text/plain": [
       "plot without title"
      ]
     },
     "metadata": {},
     "output_type": "display_data"
    }
   ],
   "source": [
    "ggplot(pcaData, aes(x = PC1, y = PC2, color = dex, shape = cell)) +\n",
    "  geom_point(size =3) +\n",
    "  xlab(paste0(\"PC1: \", percentVar[1], \"% variance\")) +\n",
    "  ylab(paste0(\"PC2: \", percentVar[2], \"% variance\")) +\n",
    "  coord_fixed()"
   ]
  },
  {
   "cell_type": "markdown",
   "metadata": {},
   "source": [
    "**PCA plot using the rlog-transformed values with custom *ggplot2* code.**\n",
    "Here we specify cell line (plotting symbol) and dexamethasone treatment (color).\n",
    "\n",
    "From the PCA plot, we see that the differences between cells (the\n",
    "different plotting shapes) are considerable, though not stronger than the differences due to\n",
    "treatment with dexamethasone (red vs blue color). This shows why it will be important to\n",
    "account for this in differential testing by using a paired design\n",
    "(\"paired\", because each dex treated sample is paired with one\n",
    "untreated sample from the *same* cell line). We are already set up for\n",
    "this design by assigning the formula `~ cell + dex` earlier when specifying our model.\n",
    "\n",
    "## MDS plot\n",
    "\n",
    "Another plot, very similar to the PCA plot, can be made using the \n",
    "*multidimensional scaling* (MDS) function in base R. This is useful when we\n",
    "don't have a matrix of data, but only a matrix of distances. Here we\n",
    "compute the MDS for the distances calculated from the *rlog*\n",
    "transformed counts and plot these in a figure below.\n",
    "\n",
    "This method, unlike PCA, does not show the percent of variance explained by the individual components."
   ]
  },
  {
   "cell_type": "markdown",
   "metadata": {},
   "source": [
    "**MDS plot using rlog-transformed values.**"
   ]
  },
  {
   "cell_type": "code",
   "execution_count": 35,
   "metadata": {},
   "outputs": [
    {
     "data": {},
     "metadata": {},
     "output_type": "display_data"
    },
    {
     "data": {
      "image/png": "[encoded data removed]",
      "text/plain": [
       "plot without title"
      ]
     },
     "metadata": {},
     "output_type": "display_data"
    }
   ],
   "source": [
    "mds <- cbind(as.data.frame(colData(rld)), cmdscale(sampleDistMatrix))\n",
    "ggplot(mds, aes(x = `1`, y = `2`, color = dex, shape = cell)) +\n",
    "  geom_point(size = 3) + coord_fixed()"
   ]
  },
  {
   "cell_type": "markdown",
   "metadata": {},
   "source": [
    "In the figure below we show the same plot for the *PoissonDistance*.  Note the difference in axis scale.\n",
    "\n",
    "**MDS plot using the *Poisson Distance*.**"
   ]
  },
  {
   "cell_type": "code",
   "execution_count": 36,
   "metadata": {},
   "outputs": [
    {
     "data": {},
     "metadata": {},
     "output_type": "display_data"
    },
    {
     "data": {
      "image/png": "[encoded data removed]",
      "text/plain": [
       "plot without title"
      ]
     },
     "metadata": {},
     "output_type": "display_data"
    }
   ],
   "source": [
    "mdsPois <- cbind(as.data.frame(colData(ddsESF)),\n",
    "   cmdscale(samplePoisDistMatrix))\n",
    "ggplot(mdsPois, aes(x = `1`, y = `2`, color = dex, shape = cell)) +\n",
    "  geom_point(size = 3) + coord_fixed()"
   ]
  },
  {
   "cell_type": "markdown",
   "metadata": {},
   "source": [
    "**Exercise**: The following code will read example `.bam` files containing only reads from human chromosome 14, and count overlaps with known genes on chromosome 14. Follow these steps, then perform exploratory analysis on the resulting data object:"
   ]
  },
  {
   "cell_type": "markdown",
   "metadata": {},
   "source": [
    "library(RNAseqData.HNRNPC.bam.chr14)\n",
    "bfp = RNAseqData.HNRNPC.bam.chr14_BAMFILES\n",
    "library(Rsamtools)\n",
    "bfl = BamFileList(file=bfp)\n",
    "library(Homo.sapiens)\n",
    "gr14 = genes(Homo.sapiens, filter=list(tx_chrom=\"chr14\"), columns=\"SYMBOL\")\n",
    "library(GenomicAlignments)\n",
    "rse <- summarizeOverlaps(gr14, bfl)"
   ]
  },
  {
   "cell_type": "markdown",
   "metadata": {},
   "source": [
    "# Appendix <a name=\"appendix\"></a>"
   ]
  },
  {
   "cell_type": "markdown",
   "metadata": {},
   "source": [
    "## Additional options for mapping transcripts to genes"
   ]
  },
  {
   "cell_type": "markdown",
   "metadata": {},
   "source": [
    "**Option 2.** Bioconductor `TxDb.*` packages, which are available for a number of model species (search for \"TxDb\" at https://bioconductor.org/packages/3.6/data/annotation/). These are slightly less convenient for this purpose than the Ensembl packages. For example, there is a TxDb package Mus Musculus from UCSC build mm10 based on the knownGene Track:"
   ]
  },
  {
   "cell_type": "code",
   "execution_count": 37,
   "metadata": {},
   "outputs": [
    {
     "name": "stderr",
     "output_type": "stream",
     "text": [
      "Loading required package: GenomicFeatures\n",
      "Loading required package: AnnotationDbi\n"
     ]
    },
    {
     "data": {
      "text/html": [
       "<ol class=list-inline>\n",
       "\t<li>'CDSID'</li>\n",
       "\t<li>'CDSNAME'</li>\n",
       "\t<li>'EXONID'</li>\n",
       "\t<li>'EXONNAME'</li>\n",
       "\t<li>'GENEID'</li>\n",
       "\t<li>'TXID'</li>\n",
       "\t<li>'TXNAME'</li>\n",
       "</ol>\n"
      ],
      "text/latex": [
       "\\begin{enumerate*}\n",
       "\\item 'CDSID'\n",
       "\\item 'CDSNAME'\n",
       "\\item 'EXONID'\n",
       "\\item 'EXONNAME'\n",
       "\\item 'GENEID'\n",
       "\\item 'TXID'\n",
       "\\item 'TXNAME'\n",
       "\\end{enumerate*}\n"
      ],
      "text/markdown": [
       "1. 'CDSID'\n",
       "2. 'CDSNAME'\n",
       "3. 'EXONID'\n",
       "4. 'EXONNAME'\n",
       "5. 'GENEID'\n",
       "6. 'TXID'\n",
       "7. 'TXNAME'\n",
       "\n",
       "\n"
      ],
      "text/plain": [
       "[1] \"CDSID\"    \"CDSNAME\"  \"EXONID\"   \"EXONNAME\" \"GENEID\"   \"TXID\"     \"TXNAME\"  "
      ]
     },
     "metadata": {},
     "output_type": "display_data"
    },
    {
     "data": {
      "text/html": [
       "<ol class=list-inline>\n",
       "\t<li>'CDSCHROM'</li>\n",
       "\t<li>'CDSEND'</li>\n",
       "\t<li>'CDSID'</li>\n",
       "\t<li>'CDSNAME'</li>\n",
       "\t<li>'CDSSTART'</li>\n",
       "\t<li>'CDSSTRAND'</li>\n",
       "\t<li>'EXONCHROM'</li>\n",
       "\t<li>'EXONEND'</li>\n",
       "\t<li>'EXONID'</li>\n",
       "\t<li>'EXONNAME'</li>\n",
       "\t<li>'EXONRANK'</li>\n",
       "\t<li>'EXONSTART'</li>\n",
       "\t<li>'EXONSTRAND'</li>\n",
       "\t<li>'GENEID'</li>\n",
       "\t<li>'TXCHROM'</li>\n",
       "\t<li>'TXEND'</li>\n",
       "\t<li>'TXID'</li>\n",
       "\t<li>'TXNAME'</li>\n",
       "\t<li>'TXSTART'</li>\n",
       "\t<li>'TXSTRAND'</li>\n",
       "\t<li>'TXTYPE'</li>\n",
       "</ol>\n"
      ],
      "text/latex": [
       "\\begin{enumerate*}\n",
       "\\item 'CDSCHROM'\n",
       "\\item 'CDSEND'\n",
       "\\item 'CDSID'\n",
       "\\item 'CDSNAME'\n",
       "\\item 'CDSSTART'\n",
       "\\item 'CDSSTRAND'\n",
       "\\item 'EXONCHROM'\n",
       "\\item 'EXONEND'\n",
       "\\item 'EXONID'\n",
       "\\item 'EXONNAME'\n",
       "\\item 'EXONRANK'\n",
       "\\item 'EXONSTART'\n",
       "\\item 'EXONSTRAND'\n",
       "\\item 'GENEID'\n",
       "\\item 'TXCHROM'\n",
       "\\item 'TXEND'\n",
       "\\item 'TXID'\n",
       "\\item 'TXNAME'\n",
       "\\item 'TXSTART'\n",
       "\\item 'TXSTRAND'\n",
       "\\item 'TXTYPE'\n",
       "\\end{enumerate*}\n"
      ],
      "text/markdown": [
       "1. 'CDSCHROM'\n",
       "2. 'CDSEND'\n",
       "3. 'CDSID'\n",
       "4. 'CDSNAME'\n",
       "5. 'CDSSTART'\n",
       "6. 'CDSSTRAND'\n",
       "7. 'EXONCHROM'\n",
       "8. 'EXONEND'\n",
       "9. 'EXONID'\n",
       "10. 'EXONNAME'\n",
       "11. 'EXONRANK'\n",
       "12. 'EXONSTART'\n",
       "13. 'EXONSTRAND'\n",
       "14. 'GENEID'\n",
       "15. 'TXCHROM'\n",
       "16. 'TXEND'\n",
       "17. 'TXID'\n",
       "18. 'TXNAME'\n",
       "19. 'TXSTART'\n",
       "20. 'TXSTRAND'\n",
       "21. 'TXTYPE'\n",
       "\n",
       "\n"
      ],
      "text/plain": [
       " [1] \"CDSCHROM\"   \"CDSEND\"     \"CDSID\"      \"CDSNAME\"    \"CDSSTART\"  \n",
       " [6] \"CDSSTRAND\"  \"EXONCHROM\"  \"EXONEND\"    \"EXONID\"     \"EXONNAME\"  \n",
       "[11] \"EXONRANK\"   \"EXONSTART\"  \"EXONSTRAND\" \"GENEID\"     \"TXCHROM\"   \n",
       "[16] \"TXEND\"      \"TXID\"       \"TXNAME\"     \"TXSTART\"    \"TXSTRAND\"  \n",
       "[21] \"TXTYPE\"    "
      ]
     },
     "metadata": {},
     "output_type": "display_data"
    },
    {
     "name": "stderr",
     "output_type": "stream",
     "text": [
      "'select()' returned 1:1 mapping between keys and columns\n"
     ]
    }
   ],
   "source": [
    "library(TxDb.Mmusculus.UCSC.mm10.knownGene)\n",
    "txdb <- TxDb.Mmusculus.UCSC.mm10.knownGene\n",
    "keytypes(txdb)\n",
    "k <- keys(txdb, \"TXNAME\")\n",
    "columns(txdb)\n",
    "tx4gene <- select(txdb, keys=k, keytype=\"TXNAME\", column=\"GENEID\")"
   ]
  },
  {
   "cell_type": "code",
   "execution_count": 38,
   "metadata": {},
   "outputs": [
    {
     "data": {
      "text/plain": [
       "GRanges object with 24044 ranges and 1 metadata column:\n",
       "            seqnames              ranges strand |     gene_id\n",
       "               <Rle>           <IRanges>  <Rle> | <character>\n",
       "  100009600     chr9   21062393-21075496      - |   100009600\n",
       "  100009609     chr7   84940169-84964009      - |   100009609\n",
       "  100009614    chr10   77711446-77712009      + |   100009614\n",
       "  100009664    chr11   45808083-45842878      + |   100009664\n",
       "     100012     chr4 144157556-144162651      - |      100012\n",
       "        ...      ...                 ...    ... .         ...\n",
       "      99889     chr3   84496093-85887518      - |       99889\n",
       "      99890     chr3 110246104-110250999      - |       99890\n",
       "      99899     chr3 151730923-151749959      - |       99899\n",
       "      99929     chr3   65528447-65555518      + |       99929\n",
       "      99982     chr4 136550533-136602723      - |       99982\n",
       "  -------\n",
       "  seqinfo: 66 sequences (1 circular) from mm10 genome"
      ]
     },
     "metadata": {},
     "output_type": "display_data"
    },
    {
     "data": {
      "text/plain": [
       "GRangesList object of length 63759:\n",
       "$1 \n",
       "GRanges object with 8 ranges and 3 metadata columns:\n",
       "      seqnames          ranges strand |   exon_id   exon_name exon_rank\n",
       "         <Rle>       <IRanges>  <Rle> | <integer> <character> <integer>\n",
       "  [1]     chr1 4807893-4807982      + |         1        <NA>         1\n",
       "  [2]     chr1 4808455-4808486      + |         2        <NA>         2\n",
       "  [3]     chr1 4828584-4828649      + |         3        <NA>         3\n",
       "  [4]     chr1 4830268-4830315      + |         4        <NA>         4\n",
       "  [5]     chr1 4832311-4832381      + |         5        <NA>         5\n",
       "  [6]     chr1 4837001-4837074      + |         6        <NA>         6\n",
       "  [7]     chr1 4839387-4839488      + |         7        <NA>         7\n",
       "  [8]     chr1 4840956-4842827      + |         9        <NA>         8\n",
       "\n",
       "$2 \n",
       "GRanges object with 9 ranges and 3 metadata columns:\n",
       "      seqnames          ranges strand | exon_id exon_name exon_rank\n",
       "  [1]     chr1 4807893-4807982      + |       1      <NA>         1\n",
       "  [2]     chr1 4808455-4808486      + |       2      <NA>         2\n",
       "  [3]     chr1 4828584-4828649      + |       3      <NA>         3\n",
       "  [4]     chr1 4830268-4830315      + |       4      <NA>         4\n",
       "  [5]     chr1 4832311-4832381      + |       5      <NA>         5\n",
       "  [6]     chr1 4837001-4837074      + |       6      <NA>         6\n",
       "  [7]     chr1 4839387-4839488      + |       7      <NA>         7\n",
       "  [8]     chr1 4840956-4841132      + |       8      <NA>         8\n",
       "  [9]     chr1 4844963-4846735      + |      10      <NA>         9\n",
       "\n",
       "...\n",
       "<63757 more elements>\n",
       "-------\n",
       "seqinfo: 66 sequences (1 circular) from mm10 genome"
      ]
     },
     "metadata": {},
     "output_type": "display_data"
    }
   ],
   "source": [
    "genes(txdb)\n",
    "exonsBy(txdb)"
   ]
  },
  {
   "cell_type": "markdown",
   "metadata": {},
   "source": [
    "**Option 3.** Find a TxDb from AnnotationHub\n",
    "\n",
    "This opens up more annotation files from different sources. First find and choose a TxDb database:"
   ]
  },
  {
   "cell_type": "code",
   "execution_count": 39,
   "metadata": {},
   "outputs": [
    {
     "name": "stderr",
     "output_type": "stream",
     "text": [
      "updating metadata: retrieving 1 resource\n",
      "snapshotDate(): 2018-04-30\n"
     ]
    },
    {
     "data": {
      "text/plain": [
       "AnnotationHub with 59 records\n",
       "# snapshotDate(): 2018-04-30 \n",
       "# $dataprovider: UCSC\n",
       "# $species: Rattus norvegicus, Gallus gallus, Macaca mulatta, Caenorhabditis...\n",
       "# $rdataclass: TxDb\n",
       "# additional mcols(): taxonomyid, genome, description,\n",
       "#   coordinate_1_based, maintainer, rdatadateadded, preparerclass, tags,\n",
       "#   rdatapath, sourceurl, sourcetype \n",
       "# retrieve records with, e.g., 'object[[\"AH52245\"]]' \n",
       "\n",
       "            title                                        \n",
       "  AH52245 | TxDb.Athaliana.BioMart.plantsmart22.sqlite   \n",
       "  AH52246 | TxDb.Athaliana.BioMart.plantsmart25.sqlite   \n",
       "  AH52247 | TxDb.Athaliana.BioMart.plantsmart28.sqlite   \n",
       "  AH52248 | TxDb.Btaurus.UCSC.bosTau8.refGene.sqlite     \n",
       "  AH52249 | TxDb.Celegans.UCSC.ce11.refGene.sqlite       \n",
       "  ...       ...                                          \n",
       "  AH61796 | TxDb.Mmulatta.UCSC.rheMac8.refGene.sqlite    \n",
       "  AH61797 | TxDb.Ptroglodytes.UCSC.panTro4.refGene.sqlite\n",
       "  AH61798 | TxDb.Rnorvegicus.UCSC.rn5.refGene.sqlite     \n",
       "  AH61799 | TxDb.Rnorvegicus.UCSC.rn6.refGene.sqlite     \n",
       "  AH61800 | TxDb.Sscrofa.UCSC.susScr3.refGene.sqlite     "
      ]
     },
     "metadata": {},
     "output_type": "display_data"
    },
    {
     "name": "stderr",
     "output_type": "stream",
     "text": [
      "downloading 1 resources\n",
      "retrieving 1 resource\n",
      "loading from cache \n",
      "    ‘/home/ubuntu//.AnnotationHub/58983’\n"
     ]
    }
   ],
   "source": [
    "suppressPackageStartupMessages(library(AnnotationHub))\n",
    "ah <- AnnotationHub()\n",
    "query(ah, \"TxDb\")\n",
    "txdb <- ah[[\"AH52245\"]] #TxDb.Athaliana.BioMart.plantsmart22.sqlite"
   ]
  },
  {
   "cell_type": "markdown",
   "metadata": {},
   "source": [
    "Then use it to create the transcript-gene map:"
   ]
  },
  {
   "cell_type": "code",
   "execution_count": 40,
   "metadata": {},
   "outputs": [
    {
     "data": {
      "text/html": [
       "<ol class=list-inline>\n",
       "\t<li>'CDSID'</li>\n",
       "\t<li>'CDSNAME'</li>\n",
       "\t<li>'EXONID'</li>\n",
       "\t<li>'EXONNAME'</li>\n",
       "\t<li>'GENEID'</li>\n",
       "\t<li>'TXID'</li>\n",
       "\t<li>'TXNAME'</li>\n",
       "</ol>\n"
      ],
      "text/latex": [
       "\\begin{enumerate*}\n",
       "\\item 'CDSID'\n",
       "\\item 'CDSNAME'\n",
       "\\item 'EXONID'\n",
       "\\item 'EXONNAME'\n",
       "\\item 'GENEID'\n",
       "\\item 'TXID'\n",
       "\\item 'TXNAME'\n",
       "\\end{enumerate*}\n"
      ],
      "text/markdown": [
       "1. 'CDSID'\n",
       "2. 'CDSNAME'\n",
       "3. 'EXONID'\n",
       "4. 'EXONNAME'\n",
       "5. 'GENEID'\n",
       "6. 'TXID'\n",
       "7. 'TXNAME'\n",
       "\n",
       "\n"
      ],
      "text/plain": [
       "[1] \"CDSID\"    \"CDSNAME\"  \"EXONID\"   \"EXONNAME\" \"GENEID\"   \"TXID\"     \"TXNAME\"  "
      ]
     },
     "metadata": {},
     "output_type": "display_data"
    }
   ],
   "source": [
    "keytypes(txdb)"
   ]
  },
  {
   "cell_type": "code",
   "execution_count": 41,
   "metadata": {},
   "outputs": [
    {
     "data": {
      "text/html": [
       "<ol class=list-inline>\n",
       "\t<li>'CDSCHROM'</li>\n",
       "\t<li>'CDSEND'</li>\n",
       "\t<li>'CDSID'</li>\n",
       "\t<li>'CDSNAME'</li>\n",
       "\t<li>'CDSSTART'</li>\n",
       "\t<li>'CDSSTRAND'</li>\n",
       "\t<li>'EXONCHROM'</li>\n",
       "\t<li>'EXONEND'</li>\n",
       "\t<li>'EXONID'</li>\n",
       "\t<li>'EXONNAME'</li>\n",
       "\t<li>'EXONRANK'</li>\n",
       "\t<li>'EXONSTART'</li>\n",
       "\t<li>'EXONSTRAND'</li>\n",
       "\t<li>'GENEID'</li>\n",
       "\t<li>'TXCHROM'</li>\n",
       "\t<li>'TXEND'</li>\n",
       "\t<li>'TXID'</li>\n",
       "\t<li>'TXNAME'</li>\n",
       "\t<li>'TXSTART'</li>\n",
       "\t<li>'TXSTRAND'</li>\n",
       "</ol>\n"
      ],
      "text/latex": [
       "\\begin{enumerate*}\n",
       "\\item 'CDSCHROM'\n",
       "\\item 'CDSEND'\n",
       "\\item 'CDSID'\n",
       "\\item 'CDSNAME'\n",
       "\\item 'CDSSTART'\n",
       "\\item 'CDSSTRAND'\n",
       "\\item 'EXONCHROM'\n",
       "\\item 'EXONEND'\n",
       "\\item 'EXONID'\n",
       "\\item 'EXONNAME'\n",
       "\\item 'EXONRANK'\n",
       "\\item 'EXONSTART'\n",
       "\\item 'EXONSTRAND'\n",
       "\\item 'GENEID'\n",
       "\\item 'TXCHROM'\n",
       "\\item 'TXEND'\n",
       "\\item 'TXID'\n",
       "\\item 'TXNAME'\n",
       "\\item 'TXSTART'\n",
       "\\item 'TXSTRAND'\n",
       "\\end{enumerate*}\n"
      ],
      "text/markdown": [
       "1. 'CDSCHROM'\n",
       "2. 'CDSEND'\n",
       "3. 'CDSID'\n",
       "4. 'CDSNAME'\n",
       "5. 'CDSSTART'\n",
       "6. 'CDSSTRAND'\n",
       "7. 'EXONCHROM'\n",
       "8. 'EXONEND'\n",
       "9. 'EXONID'\n",
       "10. 'EXONNAME'\n",
       "11. 'EXONRANK'\n",
       "12. 'EXONSTART'\n",
       "13. 'EXONSTRAND'\n",
       "14. 'GENEID'\n",
       "15. 'TXCHROM'\n",
       "16. 'TXEND'\n",
       "17. 'TXID'\n",
       "18. 'TXNAME'\n",
       "19. 'TXSTART'\n",
       "20. 'TXSTRAND'\n",
       "\n",
       "\n"
      ],
      "text/plain": [
       " [1] \"CDSCHROM\"   \"CDSEND\"     \"CDSID\"      \"CDSNAME\"    \"CDSSTART\"  \n",
       " [6] \"CDSSTRAND\"  \"EXONCHROM\"  \"EXONEND\"    \"EXONID\"     \"EXONNAME\"  \n",
       "[11] \"EXONRANK\"   \"EXONSTART\"  \"EXONSTRAND\" \"GENEID\"     \"TXCHROM\"   \n",
       "[16] \"TXEND\"      \"TXID\"       \"TXNAME\"     \"TXSTART\"    \"TXSTRAND\"  "
      ]
     },
     "metadata": {},
     "output_type": "display_data"
    }
   ],
   "source": [
    "columns(txdb)"
   ]
  },
  {
   "cell_type": "code",
   "execution_count": 42,
   "metadata": {},
   "outputs": [
    {
     "name": "stderr",
     "output_type": "stream",
     "text": [
      "'select()' returned 1:1 mapping between keys and columns\n"
     ]
    },
    {
     "data": {
      "text/html": [
       "<table>\n",
       "<thead><tr><th scope=col>TXNAME</th><th scope=col>GENEID</th></tr></thead>\n",
       "<tbody>\n",
       "\t<tr><td>AT1G01010.1</td><td>AT1G01010  </td></tr>\n",
       "\t<tr><td>AT1G01040.1</td><td>AT1G01040  </td></tr>\n",
       "\t<tr><td>AT1G01040.2</td><td>AT1G01040  </td></tr>\n",
       "\t<tr><td>AT1G01046.1</td><td>AT1G01046  </td></tr>\n",
       "\t<tr><td>AT1G01073.1</td><td>AT1G01073  </td></tr>\n",
       "\t<tr><td>AT1G01110.2</td><td>AT1G01110  </td></tr>\n",
       "</tbody>\n",
       "</table>\n"
      ],
      "text/latex": [
       "\\begin{tabular}{r|ll}\n",
       " TXNAME & GENEID\\\\\n",
       "\\hline\n",
       "\t AT1G01010.1 & AT1G01010  \\\\\n",
       "\t AT1G01040.1 & AT1G01040  \\\\\n",
       "\t AT1G01040.2 & AT1G01040  \\\\\n",
       "\t AT1G01046.1 & AT1G01046  \\\\\n",
       "\t AT1G01073.1 & AT1G01073  \\\\\n",
       "\t AT1G01110.2 & AT1G01110  \\\\\n",
       "\\end{tabular}\n"
      ],
      "text/markdown": [
       "\n",
       "TXNAME | GENEID | \n",
       "|---|---|---|---|---|---|\n",
       "| AT1G01010.1 | AT1G01010   | \n",
       "| AT1G01040.1 | AT1G01040   | \n",
       "| AT1G01040.2 | AT1G01040   | \n",
       "| AT1G01046.1 | AT1G01046   | \n",
       "| AT1G01073.1 | AT1G01073   | \n",
       "| AT1G01110.2 | AT1G01110   | \n",
       "\n",
       "\n"
      ],
      "text/plain": [
       "  TXNAME      GENEID   \n",
       "1 AT1G01010.1 AT1G01010\n",
       "2 AT1G01040.1 AT1G01040\n",
       "3 AT1G01040.2 AT1G01040\n",
       "4 AT1G01046.1 AT1G01046\n",
       "5 AT1G01073.1 AT1G01073\n",
       "6 AT1G01110.2 AT1G01110"
      ]
     },
     "metadata": {},
     "output_type": "display_data"
    }
   ],
   "source": [
    "k <- keys(txdb, \"TXNAME\")\n",
    "tx5gene <- select(txdb, keys=k, keytype=\"TXNAME\", column=\"GENEID\")\n",
    "head(tx5gene)"
   ]
  },
  {
   "cell_type": "markdown",
   "metadata": {},
   "source": [
    "** Option 4.** Import a GFF annotation file from somewhere else.\n",
    "\n",
    "To convert the GFF file these to a TxDb database, use the `makeTxDbFromGFF()` function from the `GenomicFeatures` package:"
   ]
  },
  {
   "cell_type": "code",
   "execution_count": 43,
   "metadata": {},
   "outputs": [
    {
     "name": "stderr",
     "output_type": "stream",
     "text": [
      "Import genomic features from the file as a GRanges object ... OK\n",
      "Prepare the 'metadata' data frame ... OK\n",
      "Make the TxDb object ... Warning message in .get_cds_IDX(type, phase):\n",
      "“The \"phase\" metadata column contains non-NA values for features of type\n",
      "  exon. This information was ignored.”OK\n"
     ]
    },
    {
     "data": {
      "text/html": [
       "<ol class=list-inline>\n",
       "\t<li>'CDSID'</li>\n",
       "\t<li>'CDSNAME'</li>\n",
       "\t<li>'EXONID'</li>\n",
       "\t<li>'EXONNAME'</li>\n",
       "\t<li>'GENEID'</li>\n",
       "\t<li>'TXID'</li>\n",
       "\t<li>'TXNAME'</li>\n",
       "</ol>\n"
      ],
      "text/latex": [
       "\\begin{enumerate*}\n",
       "\\item 'CDSID'\n",
       "\\item 'CDSNAME'\n",
       "\\item 'EXONID'\n",
       "\\item 'EXONNAME'\n",
       "\\item 'GENEID'\n",
       "\\item 'TXID'\n",
       "\\item 'TXNAME'\n",
       "\\end{enumerate*}\n"
      ],
      "text/markdown": [
       "1. 'CDSID'\n",
       "2. 'CDSNAME'\n",
       "3. 'EXONID'\n",
       "4. 'EXONNAME'\n",
       "5. 'GENEID'\n",
       "6. 'TXID'\n",
       "7. 'TXNAME'\n",
       "\n",
       "\n"
      ],
      "text/plain": [
       "[1] \"CDSID\"    \"CDSNAME\"  \"EXONID\"   \"EXONNAME\" \"GENEID\"   \"TXID\"     \"TXNAME\"  "
      ]
     },
     "metadata": {},
     "output_type": "display_data"
    }
   ],
   "source": [
    "library(GenomicFeatures)\n",
    "gffFile <- system.file(\"extdata\", \"GFF3_files\", \"a.gff3\", \n",
    "                       package=\"GenomicFeatures\")\n",
    "txdb <- makeTxDbFromGFF(file=gffFile,\n",
    "            dataSource=\"partial gtf file for Tomatoes for testing\",\n",
    "            organism=\"Solanum lycopersicum\")\n",
    "keytypes(txdb)"
   ]
  },
  {
   "cell_type": "code",
   "execution_count": 44,
   "metadata": {},
   "outputs": [
    {
     "data": {
      "text/html": [
       "<ol class=list-inline>\n",
       "\t<li>'CDSCHROM'</li>\n",
       "\t<li>'CDSEND'</li>\n",
       "\t<li>'CDSID'</li>\n",
       "\t<li>'CDSNAME'</li>\n",
       "\t<li>'CDSPHASE'</li>\n",
       "\t<li>'CDSSTART'</li>\n",
       "\t<li>'CDSSTRAND'</li>\n",
       "\t<li>'EXONCHROM'</li>\n",
       "\t<li>'EXONEND'</li>\n",
       "\t<li>'EXONID'</li>\n",
       "\t<li>'EXONNAME'</li>\n",
       "\t<li>'EXONRANK'</li>\n",
       "\t<li>'EXONSTART'</li>\n",
       "\t<li>'EXONSTRAND'</li>\n",
       "\t<li>'GENEID'</li>\n",
       "\t<li>'TXCHROM'</li>\n",
       "\t<li>'TXEND'</li>\n",
       "\t<li>'TXID'</li>\n",
       "\t<li>'TXNAME'</li>\n",
       "\t<li>'TXSTART'</li>\n",
       "\t<li>'TXSTRAND'</li>\n",
       "\t<li>'TXTYPE'</li>\n",
       "</ol>\n"
      ],
      "text/latex": [
       "\\begin{enumerate*}\n",
       "\\item 'CDSCHROM'\n",
       "\\item 'CDSEND'\n",
       "\\item 'CDSID'\n",
       "\\item 'CDSNAME'\n",
       "\\item 'CDSPHASE'\n",
       "\\item 'CDSSTART'\n",
       "\\item 'CDSSTRAND'\n",
       "\\item 'EXONCHROM'\n",
       "\\item 'EXONEND'\n",
       "\\item 'EXONID'\n",
       "\\item 'EXONNAME'\n",
       "\\item 'EXONRANK'\n",
       "\\item 'EXONSTART'\n",
       "\\item 'EXONSTRAND'\n",
       "\\item 'GENEID'\n",
       "\\item 'TXCHROM'\n",
       "\\item 'TXEND'\n",
       "\\item 'TXID'\n",
       "\\item 'TXNAME'\n",
       "\\item 'TXSTART'\n",
       "\\item 'TXSTRAND'\n",
       "\\item 'TXTYPE'\n",
       "\\end{enumerate*}\n"
      ],
      "text/markdown": [
       "1. 'CDSCHROM'\n",
       "2. 'CDSEND'\n",
       "3. 'CDSID'\n",
       "4. 'CDSNAME'\n",
       "5. 'CDSPHASE'\n",
       "6. 'CDSSTART'\n",
       "7. 'CDSSTRAND'\n",
       "8. 'EXONCHROM'\n",
       "9. 'EXONEND'\n",
       "10. 'EXONID'\n",
       "11. 'EXONNAME'\n",
       "12. 'EXONRANK'\n",
       "13. 'EXONSTART'\n",
       "14. 'EXONSTRAND'\n",
       "15. 'GENEID'\n",
       "16. 'TXCHROM'\n",
       "17. 'TXEND'\n",
       "18. 'TXID'\n",
       "19. 'TXNAME'\n",
       "20. 'TXSTART'\n",
       "21. 'TXSTRAND'\n",
       "22. 'TXTYPE'\n",
       "\n",
       "\n"
      ],
      "text/plain": [
       " [1] \"CDSCHROM\"   \"CDSEND\"     \"CDSID\"      \"CDSNAME\"    \"CDSPHASE\"  \n",
       " [6] \"CDSSTART\"   \"CDSSTRAND\"  \"EXONCHROM\"  \"EXONEND\"    \"EXONID\"    \n",
       "[11] \"EXONNAME\"   \"EXONRANK\"   \"EXONSTART\"  \"EXONSTRAND\" \"GENEID\"    \n",
       "[16] \"TXCHROM\"    \"TXEND\"      \"TXID\"       \"TXNAME\"     \"TXSTART\"   \n",
       "[21] \"TXSTRAND\"   \"TXTYPE\"    "
      ]
     },
     "metadata": {},
     "output_type": "display_data"
    }
   ],
   "source": [
    "columns(txdb)"
   ]
  },
  {
   "cell_type": "code",
   "execution_count": 45,
   "metadata": {},
   "outputs": [
    {
     "name": "stderr",
     "output_type": "stream",
     "text": [
      "'select()' returned 1:1 mapping between keys and columns\n"
     ]
    },
    {
     "data": {
      "text/html": [
       "<table>\n",
       "<thead><tr><th scope=col>TXNAME</th><th scope=col>GENEID</th></tr></thead>\n",
       "<tbody>\n",
       "\t<tr><td>AT1G01010.1</td><td>AT1G01010  </td></tr>\n",
       "\t<tr><td>AT1G01040.1</td><td>AT1G01040  </td></tr>\n",
       "\t<tr><td>AT1G01040.2</td><td>AT1G01040  </td></tr>\n",
       "\t<tr><td>AT1G01046.1</td><td>AT1G01046  </td></tr>\n",
       "\t<tr><td>AT1G01073.1</td><td>AT1G01073  </td></tr>\n",
       "\t<tr><td>AT1G01110.2</td><td>AT1G01110  </td></tr>\n",
       "</tbody>\n",
       "</table>\n"
      ],
      "text/latex": [
       "\\begin{tabular}{r|ll}\n",
       " TXNAME & GENEID\\\\\n",
       "\\hline\n",
       "\t AT1G01010.1 & AT1G01010  \\\\\n",
       "\t AT1G01040.1 & AT1G01040  \\\\\n",
       "\t AT1G01040.2 & AT1G01040  \\\\\n",
       "\t AT1G01046.1 & AT1G01046  \\\\\n",
       "\t AT1G01073.1 & AT1G01073  \\\\\n",
       "\t AT1G01110.2 & AT1G01110  \\\\\n",
       "\\end{tabular}\n"
      ],
      "text/markdown": [
       "\n",
       "TXNAME | GENEID | \n",
       "|---|---|---|---|---|---|\n",
       "| AT1G01010.1 | AT1G01010   | \n",
       "| AT1G01040.1 | AT1G01040   | \n",
       "| AT1G01040.2 | AT1G01040   | \n",
       "| AT1G01046.1 | AT1G01046   | \n",
       "| AT1G01073.1 | AT1G01073   | \n",
       "| AT1G01110.2 | AT1G01110   | \n",
       "\n",
       "\n"
      ],
      "text/plain": [
       "  TXNAME      GENEID   \n",
       "1 AT1G01010.1 AT1G01010\n",
       "2 AT1G01040.1 AT1G01040\n",
       "3 AT1G01040.2 AT1G01040\n",
       "4 AT1G01046.1 AT1G01046\n",
       "5 AT1G01073.1 AT1G01073\n",
       "6 AT1G01110.2 AT1G01110"
      ]
     },
     "metadata": {},
     "output_type": "display_data"
    }
   ],
   "source": [
    "k <- keys(txdb, \"TXNAME\")\n",
    "tx6gene <- select(txdb, keys=k, keytype=\"TXNAME\", column=\"GENEID\")\n",
    "head(tx5gene)"
   ]
  },
  {
   "cell_type": "markdown",
   "metadata": {},
   "source": [
    "Note, the `GenomicFeatures` package enables you to make a TxDb from a variety of sources:"
   ]
  },
  {
   "cell_type": "code",
   "execution_count": 46,
   "metadata": {},
   "outputs": [
    {
     "data": {
      "text/html": [
       "<ol class=list-inline>\n",
       "\t<li>'makeTxDb'</li>\n",
       "\t<li>'makeTxDbFromBiomart'</li>\n",
       "\t<li>'makeTxDbFromEnsembl'</li>\n",
       "\t<li>'makeTxDbFromGFF'</li>\n",
       "\t<li>'makeTxDbFromGRanges'</li>\n",
       "\t<li>'makeTxDbFromUCSC'</li>\n",
       "\t<li>'makeTxDbPackage'</li>\n",
       "\t<li>'makeTxDbPackageFromBiomart'</li>\n",
       "\t<li>'makeTxDbPackageFromUCSC'</li>\n",
       "</ol>\n"
      ],
      "text/latex": [
       "\\begin{enumerate*}\n",
       "\\item 'makeTxDb'\n",
       "\\item 'makeTxDbFromBiomart'\n",
       "\\item 'makeTxDbFromEnsembl'\n",
       "\\item 'makeTxDbFromGFF'\n",
       "\\item 'makeTxDbFromGRanges'\n",
       "\\item 'makeTxDbFromUCSC'\n",
       "\\item 'makeTxDbPackage'\n",
       "\\item 'makeTxDbPackageFromBiomart'\n",
       "\\item 'makeTxDbPackageFromUCSC'\n",
       "\\end{enumerate*}\n"
      ],
      "text/markdown": [
       "1. 'makeTxDb'\n",
       "2. 'makeTxDbFromBiomart'\n",
       "3. 'makeTxDbFromEnsembl'\n",
       "4. 'makeTxDbFromGFF'\n",
       "5. 'makeTxDbFromGRanges'\n",
       "6. 'makeTxDbFromUCSC'\n",
       "7. 'makeTxDbPackage'\n",
       "8. 'makeTxDbPackageFromBiomart'\n",
       "9. 'makeTxDbPackageFromUCSC'\n",
       "\n",
       "\n"
      ],
      "text/plain": [
       "[1] \"makeTxDb\"                   \"makeTxDbFromBiomart\"       \n",
       "[3] \"makeTxDbFromEnsembl\"        \"makeTxDbFromGFF\"           \n",
       "[5] \"makeTxDbFromGRanges\"        \"makeTxDbFromUCSC\"          \n",
       "[7] \"makeTxDbPackage\"            \"makeTxDbPackageFromBiomart\"\n",
       "[9] \"makeTxDbPackageFromUCSC\"   "
      ]
     },
     "metadata": {},
     "output_type": "display_data"
    }
   ],
   "source": [
    "grep(\"makeTxDb\", ls(\"package:GenomicFeatures\"), val=TRUE)"
   ]
  }
 ],
 "metadata": {
  "kernelspec": {
   "display_name": "R",
   "language": "R",
   "name": "ir"
  },
  "language_info": {
   "codemirror_mode": "r",
   "file_extension": ".r",
   "mimetype": "text/x-r-source",
   "name": "R",
   "pygments_lexer": "r",
   "version": "3.5.1"
  }
 },
 "nbformat": 4,
 "nbformat_minor": 2
}
